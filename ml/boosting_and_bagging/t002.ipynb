{
  "cells": [
    {
      "cell_type": "code",
      "source": [
        "import pandas as pd\n",
        "import numpy as np\n",
        "import matplotlib.pyplot as plt\n",
        "import seaborn as snb\n",
        "from google.colab import files\n",
        "import warnings\n",
        "warnings.filterwarnings('ignore')"
      ],
      "metadata": {
        "id": "Y1Dh6ieGnfJP"
      },
      "execution_count": 219,
      "outputs": []
    },
    {
      "cell_type": "code",
      "source": [
        "from sklearn.preprocessing import (\n",
        "    StandardScaler,\n",
        "    OneHotEncoder,\n",
        "    LabelEncoder,\n",
        "    PolynomialFeatures\n",
        ")\n",
        "from sklearn.compose import ColumnTransformer\n",
        "from sklearn.model_selection import (\n",
        "    train_test_split,\n",
        "    GridSearchCV,\n",
        "    RandomizedSearchCV\n",
        ")\n",
        "from sklearn.linear_model import (\n",
        "    LinearRegression,\n",
        "    LogisticRegression,\n",
        "    LogisticRegressionCV,\n",
        "    SGDRegressor,\n",
        "    SGDClassifier,\n",
        "    Ridge,\n",
        "    RidgeCV,\n",
        "    Lasso,\n",
        "    LassoCV,\n",
        "    ElasticNet,\n",
        "    ElasticNetCV\n",
        ")\n",
        "from sklearn.svm import (\n",
        "    SVR,\n",
        "    SVC\n",
        ")\n",
        "from sklearn.neighbors import (\n",
        "    KNeighborsClassifier,\n",
        "    KNeighborsRegressor\n",
        ")\n",
        "from sklearn.tree import (\n",
        "    DecisionTreeClassifier,\n",
        "    DecisionTreeRegressor\n",
        ")\n",
        "from sklearn.naive_bayes import(\n",
        "    GaussianNB,\n",
        "    MultinomialNB,\n",
        "    BernoulliNB\n",
        ")\n",
        "from sklearn import tree\n",
        "from sklearn.ensemble import (\n",
        "    RandomForestClassifier,\n",
        "    RandomForestRegressor,\n",
        "    GradientBoostingClassifier,\n",
        "    GradientBoostingRegressor,\n",
        "    AdaBoostClassifier,\n",
        "    AdaBoostRegressor,\n",
        "    ExtraTreesClassifier,\n",
        "    ExtraTreesRegressor,\n",
        "    HistGradientBoostingClassifier,\n",
        "    HistGradientBoostingRegressor\n",
        ")\n",
        "\n",
        "# from xgboost import XGBClassifier, XGBRegressor\n",
        "# from lightgbm import LGBMClassifier, LGBMRegressor\n",
        "# from catboost import CatBoostClassifier, CatBoostRegressor\n",
        "\n",
        "# from sklearn.discriminant_analysis import (\n",
        "#     LinearDiscriminantAnalysis,\n",
        "#     QuadraticDiscriminantAnalysis\n",
        "# )\n",
        "\n",
        "from sklearn.neural_network import (\n",
        "    MLPClassifier,\n",
        "    MLPRegressor\n",
        ")\n",
        "\n",
        "\n",
        "from sklearn.metrics import (\n",
        "    accuracy_score,\n",
        "    confusion_matrix,\n",
        "    classification_report,\n",
        "    precision_score,\n",
        "    recall_score,\n",
        "    f1_score,\n",
        "    roc_auc_score,\n",
        "    roc_curve,\n",
        "    auc\n",
        ")\n",
        "from sklearn.metrics import (\n",
        "    mean_squared_error,\n",
        "    mean_absolute_error,\n",
        "    r2_score,\n",
        "    mean_squared_log_error,\n",
        "    median_absolute_error\n",
        ")\n",
        "from sklearn.pipeline import Pipeline"
      ],
      "metadata": {
        "id": "dkNOfPP2nflO"
      },
      "execution_count": 220,
      "outputs": []
    },
    {
      "cell_type": "code",
      "source": [
        "def input_data_file(file_name):\n",
        "  df=pd.read_csv(file_name)\n",
        "  return df"
      ],
      "metadata": {
        "id": "NFUkNgPunjwV"
      },
      "execution_count": 221,
      "outputs": []
    },
    {
      "cell_type": "code",
      "source": [
        "def data_cleaning_file(df):\n",
        "  num_features=df.select_dtypes(exclude=\"O\").columns\n",
        "  cat_features=df.select_dtypes(include=\"O\").columns\n",
        "\n",
        "  for column in df.columns:\n",
        "    if column in cat_features:\n",
        "      df[column]=df[column].fillna(df[column].mode()[0])\n",
        "    else:\n",
        "      df[column]=df[column].fillna(df[column].mean())\n",
        "\n",
        "  return df"
      ],
      "metadata": {
        "id": "G64BTjbInwSw"
      },
      "execution_count": 222,
      "outputs": []
    },
    {
      "cell_type": "code",
      "source": [
        "def data_transformation_file(df,output,num_scaler=StandardScaler(),cat_scaler=OneHotEncoder(drop=\"first\",handle_unknown=\"ignore\")):\n",
        "  num_features=df.select_dtypes(exclude=\"O\").columns\n",
        "  cat_features=df.select_dtypes(include=\"O\").columns\n",
        "\n",
        "  num_features=[num for num in num_features if num!=output]\n",
        "\n",
        "  x=df.drop([output],axis=1)\n",
        "  y=pd.DataFrame(df[output],columns=[output])\n",
        "  x_train,x_test,y_train,y_test=train_test_split(x,y,test_size=0.2,random_state=43)\n",
        "\n",
        "  scaler=ColumnTransformer([\n",
        "      (\"num_feature_scaler\",num_scaler,num_features),\n",
        "      (\"cat_feature_scaler\",cat_scaler,cat_features)\n",
        "  ])\n",
        "\n",
        "  scaler.fit_transform(x_train)\n",
        "  x_train_scaled=scaler.transform(x_train)\n",
        "  x_test_scaled=scaler.transform(x_test)\n",
        "\n",
        "  return x_train_scaled,x_test_scaled,y_train,y_test"
      ],
      "metadata": {
        "id": "1M_P5r8qoz0v"
      },
      "execution_count": 223,
      "outputs": []
    },
    {
      "cell_type": "code",
      "source": [
        "def model_tuner_file(model_name,params,x_train,y_train,tuner=RandomizedSearchCV):\n",
        "  tuner_model=tuner(\n",
        "      estimator=model_name(),\n",
        "      param_distributions=params,\n",
        "      scoring=\"accuracy\",\n",
        "      cv=5,\n",
        "      n_jobs=-1,\n",
        "      verbose=2\n",
        "  )\n",
        "\n",
        "  tuner_model.fit(x_train,y_train)\n",
        "\n",
        "  return tuner_model.best_estimator_,tuner_model.best_score_"
      ],
      "metadata": {
        "id": "KHt8HghmqZc5"
      },
      "execution_count": 228,
      "outputs": []
    },
    {
      "cell_type": "code",
      "source": [
        "def test_model_file(model,x_test,y_test,regression=True):\n",
        "  y_pred=model.predict(x_test)\n",
        "\n",
        "  if regression:\n",
        "    r2=r2_score(y_test,y_pred)\n",
        "    mae=mean_absolute_error(y_test,y_pred)\n",
        "    mse=mean_squared_error(y_test,y_pred)\n",
        "    rmse=np.sqrt(mse)\n",
        "    mape=np.mean(np.abs((y_test-y_pred)/y_test))*100\n",
        "    print(f\"R2 Score: {r2}\")\n",
        "    print(f\"Mean Absolute Error: {mae}\")\n",
        "    print(f\"Mean Squared Error: {mse}\")\n",
        "    print(f\"Root Mean Squared Error: {rmse}\")\n",
        "\n",
        "  else:\n",
        "    accuracy=accuracy_score(y_test,y_pred)\n",
        "    precision=precision_score(y_test,y_pred)\n",
        "    recall=recall_score(y_test,y_pred)\n",
        "    f1=f1_score(y_test,y_pred)\n",
        "    roc_auc=roc_auc_score(y_test,y_pred)\n",
        "    print(f\"Accuracy: {accuracy}\")\n",
        "    print(f\"Precision: {precision}\")\n",
        "    print(f\"Recall: {recall}\")\n",
        "    print(f\"F1 Score: {f1}\")\n",
        "    print(f\"ROC AUC Score: {roc_auc}\")"
      ],
      "metadata": {
        "id": "QhW-AT1nrXGH"
      },
      "execution_count": 225,
      "outputs": []
    },
    {
      "cell_type": "code",
      "source": [
        "file_name=\"/content/Travel.csv\"\n",
        "df=input_data_file(file_name)\n",
        "df=data_cleaning_file(df)\n",
        "x_train_scaled,x_test_scaled,y_train,y_test=data_transformation_file(df,output=\"ProdTaken\")\n",
        "\n",
        "\n",
        "model_name=DecisionTreeClassifier\n",
        "params={\n",
        "    \"max_depth\":[None,5,10,15,20,30],\n",
        "    \"min_samples_split\":[2,5,10,15,20],\n",
        "    \"min_samples_leaf\":[1,2,5,10,15,20]\n",
        "}\n",
        "tuner=RandomizedSearchCV\n",
        "model,score=model_tuner_file(model_name,params,x_train_scaled,y_train,tuner)\n",
        "test_model_file(model,x_test_scaled,y_test,regression=False)\n",
        "\n",
        "print(f\"best score for {model_name} : {score}\")"
      ],
      "metadata": {
        "id": "okmu8XlLtARW",
        "colab": {
          "base_uri": "https://localhost:8080/"
        },
        "outputId": "c5c79900-4231-4963-9810-1a7c3bdb5451"
      },
      "execution_count": 229,
      "outputs": [
        {
          "output_type": "stream",
          "name": "stdout",
          "text": [
            "Fitting 5 folds for each of 10 candidates, totalling 50 fits\n",
            "Accuracy: 0.869120654396728\n",
            "Precision: 0.6901408450704225\n",
            "Recall: 0.5384615384615384\n",
            "F1 Score: 0.6049382716049383\n",
            "ROC AUC Score: 0.7415925782759953\n",
            "best score for <class 'sklearn.tree._classes.DecisionTreeClassifier'> : 0.8613810741687979\n"
          ]
        }
      ]
    },
    {
      "cell_type": "code",
      "source": [],
      "metadata": {
        "id": "O3OdfUWZuziQ"
      },
      "execution_count": null,
      "outputs": []
    }
  ],
  "metadata": {
    "colab": {
      "provenance": []
    },
    "kernelspec": {
      "display_name": "Python 3",
      "name": "python3"
    },
    "language_info": {
      "name": "python"
    }
  },
  "nbformat": 4,
  "nbformat_minor": 0
}