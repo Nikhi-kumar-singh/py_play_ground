{
  "nbformat": 4,
  "nbformat_minor": 0,
  "metadata": {
    "colab": {
      "provenance": []
    },
    "kernelspec": {
      "name": "python3",
      "display_name": "Python 3"
    },
    "language_info": {
      "name": "python"
    }
  },
  "cells": [
    {
      "cell_type": "code",
      "source": [
        "import pandas as pd\n",
        "import numpy as np\n",
        "import matplotlib.pyplot as plt\n",
        "import seaborn as sns\n",
        "%matplotlib inline"
      ],
      "metadata": {
        "id": "w3iaFaR-omRF"
      },
      "execution_count": 3,
      "outputs": []
    },
    {
      "cell_type": "code",
      "source": [
        "plt.plot([1,2,3,4,5],[2,4,6,8,10])\n",
        "plt.show()"
      ],
      "metadata": {
        "colab": {
          "base_uri": "https://localhost:8080/",
          "height": 430
        },
        "id": "rhLmOXqJJbFk",
        "outputId": "c74be89e-fd41-4185-d630-fb88887a2baa"
      },
      "execution_count": 4,
      "outputs": [
        {
          "output_type": "display_data",
          "data": {
            "text/plain": [
              "<Figure size 640x480 with 1 Axes>"
            ],
            "image/png": "[encoded data removed]"
          },
          "metadata": {}
        }
      ]
    },
    {
      "cell_type": "code",
      "source": [
        "df=pd.read_csv(\"/content/business.csv\")"
      ],
      "metadata": {
        "id": "NMUz6q29Jnxd"
      },
      "execution_count": 5,
      "outputs": []
    },
    {
      "cell_type": "code",
      "source": [
        "print(df.head(1))"
      ],
      "metadata": {
        "colab": {
          "base_uri": "https://localhost:8080/"
        },
        "id": "94oGW5K6J0qv",
        "outputId": "793e5495-a89c-420a-9f91-cf4eea9abfd6"
      },
      "execution_count": 9,
      "outputs": [
        {
          "output_type": "stream",
          "name": "stdout",
          "text": [
            "         date    airline ch_code  num_code dep_time   from time_taken  \\\n",
            "0  11-02-2022  Air India      AI       868    18:00  Delhi    02h 00m   \n",
            "\n",
            "        stop arr_time      to   price  \n",
            "0  non-stop     20:00  Mumbai  25,612  \n"
          ]
        }
      ]
    },
    {
      "cell_type": "code",
      "source": [
        "print(df.info())"
      ],
      "metadata": {
        "colab": {
          "base_uri": "https://localhost:8080/"
        },
        "id": "-i3laKxUJ3I0",
        "outputId": "d12dcdc9-0700-4172-d8cb-bedba4570e89"
      },
      "execution_count": 8,
      "outputs": [
        {
          "output_type": "stream",
          "name": "stdout",
          "text": [
            "<class 'pandas.core.frame.DataFrame'>\n",
            "RangeIndex: 93487 entries, 0 to 93486\n",
            "Data columns (total 11 columns):\n",
            " #   Column      Non-Null Count  Dtype \n",
            "---  ------      --------------  ----- \n",
            " 0   date        93487 non-null  object\n",
            " 1   airline     93487 non-null  object\n",
            " 2   ch_code     93487 non-null  object\n",
            " 3   num_code    93487 non-null  int64 \n",
            " 4   dep_time    93487 non-null  object\n",
            " 5   from        93487 non-null  object\n",
            " 6   time_taken  93487 non-null  object\n",
            " 7   stop        93487 non-null  object\n",
            " 8   arr_time    93487 non-null  object\n",
            " 9   to          93487 non-null  object\n",
            " 10  price       93487 non-null  object\n",
            "dtypes: int64(1), object(10)\n",
            "memory usage: 7.8+ MB\n",
            "None\n"
          ]
        }
      ]
    },
    {
      "cell_type": "code",
      "source": [
        "print(df.columns)"
      ],
      "metadata": {
        "colab": {
          "base_uri": "https://localhost:8080/"
        },
        "id": "mzR1-4hUJ7b0",
        "outputId": "03483fb6-cd15-4a73-dc23-227fa5368ab2"
      },
      "execution_count": 10,
      "outputs": [
        {
          "output_type": "stream",
          "name": "stdout",
          "text": [
            "Index(['date', 'airline', 'ch_code', 'num_code', 'dep_time', 'from',\n",
            "       'time_taken', 'stop', 'arr_time', 'to', 'price'],\n",
            "      dtype='object')\n"
          ]
        }
      ]
    },
    {
      "cell_type": "code",
      "source": [
        "print(df.shape)"
      ],
      "metadata": {
        "colab": {
          "base_uri": "https://localhost:8080/"
        },
        "id": "WEkrxcAaKKz8",
        "outputId": "6170d0fd-f266-4302-ca62-8dc36951fe04"
      },
      "execution_count": 11,
      "outputs": [
        {
          "output_type": "stream",
          "name": "stdout",
          "text": [
            "(93487, 11)\n"
          ]
        }
      ]
    },
    {
      "cell_type": "code",
      "source": [
        "print(df.describe())"
      ],
      "metadata": {
        "colab": {
          "base_uri": "https://localhost:8080/"
        },
        "id": "NslFWQAhKOPz",
        "outputId": "29d28684-e518-45f2-a27c-7f6e95ef97c8"
      },
      "execution_count": 12,
      "outputs": [
        {
          "output_type": "stream",
          "name": "stdout",
          "text": [
            "           num_code\n",
            "count  93487.000000\n",
            "mean     780.056147\n",
            "std      147.616038\n",
            "min      401.000000\n",
            "25%      706.000000\n",
            "50%      820.000000\n",
            "75%      874.000000\n",
            "max      996.000000\n"
          ]
        }
      ]
    },
    {
      "cell_type": "code",
      "source": [
        "df[\"price\"]=df[\"price\"].str.replace(\",\",\"\").astype(int)"
      ],
      "metadata": {
        "id": "t5ba1RG8KUzL"
      },
      "execution_count": 20,
      "outputs": []
    },
    {
      "cell_type": "code",
      "source": [
        "print(df.head(1))"
      ],
      "metadata": {
        "colab": {
          "base_uri": "https://localhost:8080/"
        },
        "id": "Tu4tndgOKdBT",
        "outputId": "48f2e5bb-aeb2-4196-98e3-bb37e6180ea8"
      },
      "execution_count": 25,
      "outputs": [
        {
          "output_type": "stream",
          "name": "stdout",
          "text": [
            "         date    airline ch_code  num_code dep_time   from time_taken  \\\n",
            "0  11-02-2022  Air India      AI       868    18:00  Delhi    02h 00m   \n",
            "\n",
            "        stop arr_time      to  price  \n",
            "0  non-stop     20:00  Mumbai  25612  \n"
          ]
        }
      ]
    },
    {
      "cell_type": "code",
      "source": [
        "print(df.head(10))"
      ],
      "metadata": {
        "colab": {
          "base_uri": "https://localhost:8080/"
        },
        "id": "n5TL2rVXM6UU",
        "outputId": "7364e0e7-ba4e-4161-8ec1-f85870f1c78c"
      },
      "execution_count": 33,
      "outputs": [
        {
          "output_type": "stream",
          "name": "stdout",
          "text": [
            "         date    airline ch_code  num_code dep_time   from time_taken  \\\n",
            "0  11-02-2022  Air India      AI       868    18:00  Delhi    02h 00m   \n",
            "1  11-02-2022  Air India      AI       624    19:00  Delhi    02h 15m   \n",
            "2  11-02-2022  Air India      AI       531    20:00  Delhi    24h 45m   \n",
            "3  11-02-2022  Air India      AI       839    21:25  Delhi    26h 30m   \n",
            "4  11-02-2022  Air India      AI       544    17:15  Delhi    06h 40m   \n",
            "5  11-02-2022    Vistara      UK       985    19:50  Delhi    02h 10m   \n",
            "6  11-02-2022  Air India      AI       479    21:15  Delhi    17h 45m   \n",
            "7  11-02-2022  Air India      AI       473    18:40  Delhi    22h 45m   \n",
            "8  11-02-2022    Vistara      UK       871    20:35  Delhi    17h 55m   \n",
            "9  11-02-2022    Vistara      UK       977    19:00  Delhi    02h 15m   \n",
            "\n",
            "                                                stop arr_time      to  price  \\\n",
            "0                                          non-stop     20:00  Mumbai  25612   \n",
            "1                                          non-stop     21:15  Mumbai  25612   \n",
            "2  1-stop\\n\\t\\t\\t\\t\\t\\t\\t\\t\\t\\t\\t\\t\\n\\t\\t\\t\\t\\t\\t...    20:45  Mumbai  42220   \n",
            "3  1-stop\\n\\t\\t\\t\\t\\t\\t\\t\\t\\t\\t\\t\\t\\n\\t\\t\\t\\t\\t\\t...    23:55  Mumbai  44450   \n",
            "4  1-stop\\n\\t\\t\\t\\t\\t\\t\\t\\t\\t\\t\\t\\t\\n\\t\\t\\t\\t\\t\\t...    23:55  Mumbai  46690   \n",
            "5                                          non-stop     22:00  Mumbai  50264   \n",
            "6  1-stop\\n\\t\\t\\t\\t\\t\\t\\t\\t\\t\\t\\t\\t\\n\\t\\t\\t\\t\\t\\t...    15:00  Mumbai  50669   \n",
            "7  1-stop\\n\\t\\t\\t\\t\\t\\t\\t\\t\\t\\t\\t\\t\\n\\t\\t\\t\\t\\t\\t...    17:25  Mumbai  51059   \n",
            "8  1-stop\\n\\t\\t\\t\\t\\t\\t\\t\\t\\t\\t\\t\\t\\n\\t\\t\\t\\t\\t\\t...    14:30  Mumbai  51731   \n",
            "9                                          non-stop     21:15  Mumbai  53288   \n",
            "\n",
            "   day  month  year  \n",
            "0   11      2  2022  \n",
            "1   11      2  2022  \n",
            "2   11      2  2022  \n",
            "3   11      2  2022  \n",
            "4   11      2  2022  \n",
            "5   11      2  2022  \n",
            "6   11      2  2022  \n",
            "7   11      2  2022  \n",
            "8   11      2  2022  \n",
            "9   11      2  2022  \n"
          ]
        }
      ]
    },
    {
      "cell_type": "code",
      "source": [
        "print(df.describe())"
      ],
      "metadata": {
        "colab": {
          "base_uri": "https://localhost:8080/"
        },
        "id": "yk7c4hi6LCZb",
        "outputId": "34996a7b-9de4-462f-d3ac-705db06ff023"
      },
      "execution_count": 26,
      "outputs": [
        {
          "output_type": "stream",
          "name": "stdout",
          "text": [
            "           num_code          price\n",
            "count  93487.000000   93487.000000\n",
            "mean     780.056147   52540.081124\n",
            "std      147.616038   12969.314606\n",
            "min      401.000000   12000.000000\n",
            "25%      706.000000   45185.000000\n",
            "50%      820.000000   53164.000000\n",
            "75%      874.000000   60396.000000\n",
            "max      996.000000  123071.000000\n"
          ]
        }
      ]
    },
    {
      "cell_type": "code",
      "source": [
        "print(df.info())"
      ],
      "metadata": {
        "colab": {
          "base_uri": "https://localhost:8080/"
        },
        "id": "DoYAX3azLHLr",
        "outputId": "952e15b1-d425-4702-f63e-55fd67ae781a"
      },
      "execution_count": 27,
      "outputs": [
        {
          "output_type": "stream",
          "name": "stdout",
          "text": [
            "<class 'pandas.core.frame.DataFrame'>\n",
            "RangeIndex: 93487 entries, 0 to 93486\n",
            "Data columns (total 11 columns):\n",
            " #   Column      Non-Null Count  Dtype \n",
            "---  ------      --------------  ----- \n",
            " 0   date        93487 non-null  object\n",
            " 1   airline     93487 non-null  object\n",
            " 2   ch_code     93487 non-null  object\n",
            " 3   num_code    93487 non-null  int64 \n",
            " 4   dep_time    93487 non-null  object\n",
            " 5   from        93487 non-null  object\n",
            " 6   time_taken  93487 non-null  object\n",
            " 7   stop        93487 non-null  object\n",
            " 8   arr_time    93487 non-null  object\n",
            " 9   to          93487 non-null  object\n",
            " 10  price       93487 non-null  int64 \n",
            "dtypes: int64(2), object(9)\n",
            "memory usage: 7.8+ MB\n",
            "None\n"
          ]
        }
      ]
    },
    {
      "cell_type": "code",
      "source": [
        "df[\"day\"]=df[\"date\"].str.split(\"-\").str[0].astype(int)\n",
        "df[\"month\"]=df[\"date\"].str.split(\"-\").str[1].astype(int)\n",
        "df[\"year\"]=df[\"date\"].str.split(\"-\").str[2].astype(int)"
      ],
      "metadata": {
        "id": "LrX6SqHmLNB0"
      },
      "execution_count": 31,
      "outputs": []
    },
    {
      "cell_type": "code",
      "source": [
        "print(df[[\"day\",\"month\",\"year\"]][-10:])"
      ],
      "metadata": {
        "colab": {
          "base_uri": "https://localhost:8080/"
        },
        "id": "nIg-RMXXLy7D",
        "outputId": "3a7297eb-2aca-47f6-f142-c326052da440"
      },
      "execution_count": 35,
      "outputs": [
        {
          "output_type": "stream",
          "name": "stdout",
          "text": [
            "       day  month  year\n",
            "93477   31      3  2022\n",
            "93478   31      3  2022\n",
            "93479   31      3  2022\n",
            "93480   31      3  2022\n",
            "93481   31      3  2022\n",
            "93482   31      3  2022\n",
            "93483   31      3  2022\n",
            "93484   31      3  2022\n",
            "93485   31      3  2022\n",
            "93486   31      3  2022\n"
          ]
        }
      ]
    },
    {
      "cell_type": "code",
      "source": [
        "print(df.info())"
      ],
      "metadata": {
        "colab": {
          "base_uri": "https://localhost:8080/"
        },
        "id": "cTFD5XvBL4tr",
        "outputId": "f12e48a2-125e-4e63-8fa3-eb7fd97386ea"
      },
      "execution_count": 36,
      "outputs": [
        {
          "output_type": "stream",
          "name": "stdout",
          "text": [
            "<class 'pandas.core.frame.DataFrame'>\n",
            "RangeIndex: 93487 entries, 0 to 93486\n",
            "Data columns (total 14 columns):\n",
            " #   Column      Non-Null Count  Dtype \n",
            "---  ------      --------------  ----- \n",
            " 0   date        93487 non-null  object\n",
            " 1   airline     93487 non-null  object\n",
            " 2   ch_code     93487 non-null  object\n",
            " 3   num_code    93487 non-null  int64 \n",
            " 4   dep_time    93487 non-null  object\n",
            " 5   from        93487 non-null  object\n",
            " 6   time_taken  93487 non-null  object\n",
            " 7   stop        93487 non-null  object\n",
            " 8   arr_time    93487 non-null  object\n",
            " 9   to          93487 non-null  object\n",
            " 10  price       93487 non-null  int64 \n",
            " 11  day         93487 non-null  int64 \n",
            " 12  month       93487 non-null  int64 \n",
            " 13  year        93487 non-null  int64 \n",
            "dtypes: int64(5), object(9)\n",
            "memory usage: 10.0+ MB\n",
            "None\n"
          ]
        }
      ]
    },
    {
      "cell_type": "code",
      "source": [
        "df.drop(\"date\",axis=1,inplace=True)"
      ],
      "metadata": {
        "id": "wy57c8ssMCtL"
      },
      "execution_count": 38,
      "outputs": []
    },
    {
      "cell_type": "code",
      "source": [
        "df.info()"
      ],
      "metadata": {
        "colab": {
          "base_uri": "https://localhost:8080/"
        },
        "id": "PsqE9c0PNILM",
        "outputId": "8023bf90-db6a-497f-d188-02d67578b51c"
      },
      "execution_count": 39,
      "outputs": [
        {
          "output_type": "stream",
          "name": "stdout",
          "text": [
            "<class 'pandas.core.frame.DataFrame'>\n",
            "RangeIndex: 93487 entries, 0 to 93486\n",
            "Data columns (total 13 columns):\n",
            " #   Column      Non-Null Count  Dtype \n",
            "---  ------      --------------  ----- \n",
            " 0   airline     93487 non-null  object\n",
            " 1   ch_code     93487 non-null  object\n",
            " 2   num_code    93487 non-null  int64 \n",
            " 3   dep_time    93487 non-null  object\n",
            " 4   from        93487 non-null  object\n",
            " 5   time_taken  93487 non-null  object\n",
            " 6   stop        93487 non-null  object\n",
            " 7   arr_time    93487 non-null  object\n",
            " 8   to          93487 non-null  object\n",
            " 9   price       93487 non-null  int64 \n",
            " 10  day         93487 non-null  int64 \n",
            " 11  month       93487 non-null  int64 \n",
            " 12  year        93487 non-null  int64 \n",
            "dtypes: int64(5), object(8)\n",
            "memory usage: 9.3+ MB\n"
          ]
        }
      ]
    },
    {
      "cell_type": "code",
      "source": [
        "print(df.head(1))"
      ],
      "metadata": {
        "colab": {
          "base_uri": "https://localhost:8080/"
        },
        "id": "yIvs6326NPxr",
        "outputId": "720767b6-462e-4180-cb8c-be3255238875"
      },
      "execution_count": 41,
      "outputs": [
        {
          "output_type": "stream",
          "name": "stdout",
          "text": [
            "     airline ch_code  num_code dep_time   from time_taken       stop arr_time  \\\n",
            "0  Air India      AI       868    18:00  Delhi    02h 00m  non-stop     20:00   \n",
            "\n",
            "       to  price  day  month  year  \n",
            "0  Mumbai  25612   11      2  2022  \n"
          ]
        }
      ]
    },
    {
      "cell_type": "code",
      "source": [
        "df[\"dep_hour\"]=df[\"dep_time\"].str.split(\":\").str[0].astype(int)\n",
        "df[\"dep_min\"]=df[\"dep_time\"].str.split(\":\").str[1].astype(int)"
      ],
      "metadata": {
        "id": "t-C8w1o2Ne3z"
      },
      "execution_count": 42,
      "outputs": []
    },
    {
      "cell_type": "code",
      "source": [
        "print(df[[\"dep_hour\",\"dep_min\"]][-10:])"
      ],
      "metadata": {
        "colab": {
          "base_uri": "https://localhost:8080/"
        },
        "id": "1iOlf85mN0sD",
        "outputId": "bbc5affe-0175-4675-e5b7-337c0a2ba0e4"
      },
      "execution_count": 43,
      "outputs": [
        {
          "output_type": "stream",
          "name": "stdout",
          "text": [
            "       dep_hour  dep_min\n",
            "93477         6       10\n",
            "93478        17        0\n",
            "93479         9       55\n",
            "93480         6       10\n",
            "93481         6       20\n",
            "93482         9       45\n",
            "93483        12       30\n",
            "93484         7        5\n",
            "93485         7        0\n",
            "93486         9       45\n"
          ]
        }
      ]
    },
    {
      "cell_type": "code",
      "source": [
        "df.drop(\"dep_time\",axis=1,inplace=True)"
      ],
      "metadata": {
        "id": "eC8F6ThCN9uD"
      },
      "execution_count": 44,
      "outputs": []
    },
    {
      "cell_type": "code",
      "source": [
        "print(df.info())"
      ],
      "metadata": {
        "colab": {
          "base_uri": "https://localhost:8080/"
        },
        "id": "2TCVy1DTOKyz",
        "outputId": "658644da-3512-4806-f72f-90a4968d7381"
      },
      "execution_count": 45,
      "outputs": [
        {
          "output_type": "stream",
          "name": "stdout",
          "text": [
            "<class 'pandas.core.frame.DataFrame'>\n",
            "RangeIndex: 93487 entries, 0 to 93486\n",
            "Data columns (total 14 columns):\n",
            " #   Column      Non-Null Count  Dtype \n",
            "---  ------      --------------  ----- \n",
            " 0   airline     93487 non-null  object\n",
            " 1   ch_code     93487 non-null  object\n",
            " 2   num_code    93487 non-null  int64 \n",
            " 3   from        93487 non-null  object\n",
            " 4   time_taken  93487 non-null  object\n",
            " 5   stop        93487 non-null  object\n",
            " 6   arr_time    93487 non-null  object\n",
            " 7   to          93487 non-null  object\n",
            " 8   price       93487 non-null  int64 \n",
            " 9   day         93487 non-null  int64 \n",
            " 10  month       93487 non-null  int64 \n",
            " 11  year        93487 non-null  int64 \n",
            " 12  dep_hour    93487 non-null  int64 \n",
            " 13  dep_min     93487 non-null  int64 \n",
            "dtypes: int64(7), object(7)\n",
            "memory usage: 10.0+ MB\n",
            "None\n"
          ]
        }
      ]
    },
    {
      "cell_type": "code",
      "source": [
        "print(df[\"ch_code\"].unique())"
      ],
      "metadata": {
        "colab": {
          "base_uri": "https://localhost:8080/"
        },
        "id": "HpyS0weWOPoT",
        "outputId": "714c56ef-089a-4e7f-cedf-be0bea07db9e"
      },
      "execution_count": 46,
      "outputs": [
        {
          "output_type": "stream",
          "name": "stdout",
          "text": [
            "['AI' 'UK']\n"
          ]
        }
      ]
    },
    {
      "cell_type": "code",
      "source": [
        "df[\"ch_code\"]=df[\"ch_code\"].astype(str)\n",
        "print(df[\"ch_code\"].dtype)"
      ],
      "metadata": {
        "colab": {
          "base_uri": "https://localhost:8080/"
        },
        "id": "0kery6kuObsL",
        "outputId": "3e87596d-6025-4b2d-cb59-a12c65fa0674"
      },
      "execution_count": 57,
      "outputs": [
        {
          "output_type": "stream",
          "name": "stdout",
          "text": [
            "object\n"
          ]
        }
      ]
    },
    {
      "cell_type": "code",
      "source": [
        "print(df.info())"
      ],
      "metadata": {
        "colab": {
          "base_uri": "https://localhost:8080/"
        },
        "id": "nB5EqjVyOjap",
        "outputId": "6165cb70-0972-4656-e6a4-b4600a5d3ec7"
      },
      "execution_count": 54,
      "outputs": [
        {
          "output_type": "stream",
          "name": "stdout",
          "text": [
            "<class 'pandas.core.frame.DataFrame'>\n",
            "RangeIndex: 93487 entries, 0 to 93486\n",
            "Data columns (total 14 columns):\n",
            " #   Column      Non-Null Count  Dtype \n",
            "---  ------      --------------  ----- \n",
            " 0   airline     93487 non-null  object\n",
            " 1   ch_code     93487 non-null  object\n",
            " 2   num_code    93487 non-null  int64 \n",
            " 3   from        93487 non-null  object\n",
            " 4   time_taken  93487 non-null  object\n",
            " 5   stop        93487 non-null  object\n",
            " 6   arr_time    93487 non-null  object\n",
            " 7   to          93487 non-null  object\n",
            " 8   price       93487 non-null  int64 \n",
            " 9   day         93487 non-null  int64 \n",
            " 10  month       93487 non-null  int64 \n",
            " 11  year        93487 non-null  int64 \n",
            " 12  dep_hour    93487 non-null  int64 \n",
            " 13  dep_min     93487 non-null  int64 \n",
            "dtypes: int64(7), object(7)\n",
            "memory usage: 10.0+ MB\n",
            "None\n"
          ]
        }
      ]
    },
    {
      "cell_type": "code",
      "source": [
        "print(df[\"airline\"].unique())"
      ],
      "metadata": {
        "colab": {
          "base_uri": "https://localhost:8080/"
        },
        "id": "8SjyCg_iOqkD",
        "outputId": "82ec00eb-03e7-44bc-8dde-e6bc8ed8ff60"
      },
      "execution_count": 59,
      "outputs": [
        {
          "output_type": "stream",
          "name": "stdout",
          "text": [
            "['Air India' 'Vistara']\n"
          ]
        }
      ]
    },
    {
      "cell_type": "code",
      "source": [
        "df[\"airline\"].value_counts()"
      ],
      "metadata": {
        "colab": {
          "base_uri": "https://localhost:8080/",
          "height": 178
        },
        "id": "0coSbx5-PjiU",
        "outputId": "1a6cd14f-2ea6-46c0-c134-5b655a5d7b4a"
      },
      "execution_count": 60,
      "outputs": [
        {
          "output_type": "execute_result",
          "data": {
            "text/plain": [
              "airline\n",
              "Vistara      60589\n",
              "Air India    32898\n",
              "Name: count, dtype: int64"
            ],
            "text/html": [
              "<div>\n",
              "<style scoped>\n",
              "    .dataframe tbody tr th:only-of-type {\n",
              "        vertical-align: middle;\n",
              "    }\n",
              "\n",
              "    .dataframe tbody tr th {\n",
              "        vertical-align: top;\n",
              "    }\n",
              "\n",
              "    .dataframe thead th {\n",
              "        text-align: right;\n",
              "    }\n",
              "</style>\n",
              "<table border=\"1\" class=\"dataframe\">\n",
              "  <thead>\n",
              "    <tr style=\"text-align: right;\">\n",
              "      <th></th>\n",
              "      <th>count</th>\n",
              "    </tr>\n",
              "    <tr>\n",
              "      <th>airline</th>\n",
              "      <th></th>\n",
              "    </tr>\n",
              "  </thead>\n",
              "  <tbody>\n",
              "    <tr>\n",
              "      <th>Vistara</th>\n",
              "      <td>60589</td>\n",
              "    </tr>\n",
              "    <tr>\n",
              "      <th>Air India</th>\n",
              "      <td>32898</td>\n",
              "    </tr>\n",
              "  </tbody>\n",
              "</table>\n",
              "</div><br><label><b>dtype:</b> int64</label>"
            ]
          },
          "metadata": {},
          "execution_count": 60
        }
      ]
    },
    {
      "cell_type": "code",
      "source": [
        "print(df.head(1))"
      ],
      "metadata": {
        "colab": {
          "base_uri": "https://localhost:8080/"
        },
        "id": "fnFG6s3SPwLK",
        "outputId": "bc15e529-de5e-4514-de2a-7bbf22ff0671"
      },
      "execution_count": 61,
      "outputs": [
        {
          "output_type": "stream",
          "name": "stdout",
          "text": [
            "     airline ch_code  num_code   from time_taken       stop arr_time      to  \\\n",
            "0  Air India      AI       868  Delhi    02h 00m  non-stop     20:00  Mumbai   \n",
            "\n",
            "   price  day  month  year  dep_hour  dep_min  \n",
            "0  25612   11      2  2022        18        0  \n"
          ]
        }
      ]
    },
    {
      "cell_type": "code",
      "source": [
        "df[\"time_hour\"]=df[\"time_taken\"].str.split(\" \").str[0].str.split(\"h\").str[0].astype(int)\n",
        "df[\"time_min\"]=df[\"time_taken\"].str.split(\" \").str[1].str.split(\"m\").str[0].astype(int)"
      ],
      "metadata": {
        "id": "eRe8US2zP0mL"
      },
      "execution_count": 62,
      "outputs": []
    },
    {
      "cell_type": "code",
      "source": [
        "print(df[[\"time_hour\",\"time_min\"]][-10:])"
      ],
      "metadata": {
        "colab": {
          "base_uri": "https://localhost:8080/"
        },
        "id": "M4SwmtyHQZzj",
        "outputId": "002aabdd-6e13-4ec4-d9c5-772c25fcbaa3"
      },
      "execution_count": 63,
      "outputs": [
        {
          "output_type": "stream",
          "name": "stdout",
          "text": [
            "       time_hour  time_min\n",
            "93477         17        25\n",
            "93478         18        55\n",
            "93479         23         5\n",
            "93480         26        50\n",
            "93481         17        15\n",
            "93482         10         5\n",
            "93483         10        25\n",
            "93484         13        50\n",
            "93485         10         0\n",
            "93486         10         5\n"
          ]
        }
      ]
    },
    {
      "cell_type": "code",
      "source": [
        "print(df.head(1))"
      ],
      "metadata": {
        "colab": {
          "base_uri": "https://localhost:8080/"
        },
        "id": "AvYJhfkpQgcb",
        "outputId": "3650f529-e27a-4aed-d32e-360fa59d79f0"
      },
      "execution_count": 64,
      "outputs": [
        {
          "output_type": "stream",
          "name": "stdout",
          "text": [
            "     airline ch_code  num_code   from time_taken       stop arr_time      to  \\\n",
            "0  Air India      AI       868  Delhi    02h 00m  non-stop     20:00  Mumbai   \n",
            "\n",
            "   price  day  month  year  dep_hour  dep_min  time_hour  time_min  \n",
            "0  25612   11      2  2022        18        0          2         0  \n"
          ]
        }
      ]
    },
    {
      "cell_type": "code",
      "source": [
        "print(df.info())"
      ],
      "metadata": {
        "colab": {
          "base_uri": "https://localhost:8080/"
        },
        "id": "j1dAqN3YQj4C",
        "outputId": "831659a4-cb16-4528-a1f3-6fb95f6186f7"
      },
      "execution_count": 65,
      "outputs": [
        {
          "output_type": "stream",
          "name": "stdout",
          "text": [
            "<class 'pandas.core.frame.DataFrame'>\n",
            "RangeIndex: 93487 entries, 0 to 93486\n",
            "Data columns (total 16 columns):\n",
            " #   Column      Non-Null Count  Dtype \n",
            "---  ------      --------------  ----- \n",
            " 0   airline     93487 non-null  object\n",
            " 1   ch_code     93487 non-null  object\n",
            " 2   num_code    93487 non-null  int64 \n",
            " 3   from        93487 non-null  object\n",
            " 4   time_taken  93487 non-null  object\n",
            " 5   stop        93487 non-null  object\n",
            " 6   arr_time    93487 non-null  object\n",
            " 7   to          93487 non-null  object\n",
            " 8   price       93487 non-null  int64 \n",
            " 9   day         93487 non-null  int64 \n",
            " 10  month       93487 non-null  int64 \n",
            " 11  year        93487 non-null  int64 \n",
            " 12  dep_hour    93487 non-null  int64 \n",
            " 13  dep_min     93487 non-null  int64 \n",
            " 14  time_hour   93487 non-null  int64 \n",
            " 15  time_min    93487 non-null  int64 \n",
            "dtypes: int64(9), object(7)\n",
            "memory usage: 11.4+ MB\n",
            "None\n"
          ]
        }
      ]
    },
    {
      "cell_type": "code",
      "source": [
        "df.drop(\"time_taken\",axis=1,inplace=True)"
      ],
      "metadata": {
        "id": "snWtfi0jQnbD"
      },
      "execution_count": 66,
      "outputs": []
    },
    {
      "cell_type": "code",
      "source": [
        "print(df.info())"
      ],
      "metadata": {
        "colab": {
          "base_uri": "https://localhost:8080/"
        },
        "id": "wZhd7q8tQw-a",
        "outputId": "91928b58-a8bf-4def-b419-19f56a074771"
      },
      "execution_count": 67,
      "outputs": [
        {
          "output_type": "stream",
          "name": "stdout",
          "text": [
            "<class 'pandas.core.frame.DataFrame'>\n",
            "RangeIndex: 93487 entries, 0 to 93486\n",
            "Data columns (total 15 columns):\n",
            " #   Column     Non-Null Count  Dtype \n",
            "---  ------     --------------  ----- \n",
            " 0   airline    93487 non-null  object\n",
            " 1   ch_code    93487 non-null  object\n",
            " 2   num_code   93487 non-null  int64 \n",
            " 3   from       93487 non-null  object\n",
            " 4   stop       93487 non-null  object\n",
            " 5   arr_time   93487 non-null  object\n",
            " 6   to         93487 non-null  object\n",
            " 7   price      93487 non-null  int64 \n",
            " 8   day        93487 non-null  int64 \n",
            " 9   month      93487 non-null  int64 \n",
            " 10  year       93487 non-null  int64 \n",
            " 11  dep_hour   93487 non-null  int64 \n",
            " 12  dep_min    93487 non-null  int64 \n",
            " 13  time_hour  93487 non-null  int64 \n",
            " 14  time_min   93487 non-null  int64 \n",
            "dtypes: int64(9), object(6)\n",
            "memory usage: 10.7+ MB\n",
            "None\n"
          ]
        }
      ]
    },
    {
      "cell_type": "code",
      "source": [
        "print(df.head(1))"
      ],
      "metadata": {
        "colab": {
          "base_uri": "https://localhost:8080/"
        },
        "id": "FmaVkhh1Q0yC",
        "outputId": "50f9f903-b710-4294-b525-70996e2674bc"
      },
      "execution_count": 68,
      "outputs": [
        {
          "output_type": "stream",
          "name": "stdout",
          "text": [
            "     airline ch_code  num_code   from       stop arr_time      to  price  day  \\\n",
            "0  Air India      AI       868  Delhi  non-stop     20:00  Mumbai  25612   11   \n",
            "\n",
            "   month  year  dep_hour  dep_min  time_hour  time_min  \n",
            "0      2  2022        18        0          2         0  \n"
          ]
        }
      ]
    },
    {
      "cell_type": "code",
      "source": [
        "df[\"arr_hour\"]=df[\"arr_time\"].str.split(\":\").str[0].astype(int)\n",
        "df[\"arr_min\"]=df[\"arr_time\"].str.split(\":\").str[1].astype(int)"
      ],
      "metadata": {
        "id": "A3Cfq0quQ60r"
      },
      "execution_count": 69,
      "outputs": []
    },
    {
      "cell_type": "code",
      "source": [
        "print(df.info())"
      ],
      "metadata": {
        "colab": {
          "base_uri": "https://localhost:8080/"
        },
        "id": "wFzYq_rbRJ50",
        "outputId": "6382be02-f419-4b13-cfff-8a575a8a931e"
      },
      "execution_count": 70,
      "outputs": [
        {
          "output_type": "stream",
          "name": "stdout",
          "text": [
            "<class 'pandas.core.frame.DataFrame'>\n",
            "RangeIndex: 93487 entries, 0 to 93486\n",
            "Data columns (total 17 columns):\n",
            " #   Column     Non-Null Count  Dtype \n",
            "---  ------     --------------  ----- \n",
            " 0   airline    93487 non-null  object\n",
            " 1   ch_code    93487 non-null  object\n",
            " 2   num_code   93487 non-null  int64 \n",
            " 3   from       93487 non-null  object\n",
            " 4   stop       93487 non-null  object\n",
            " 5   arr_time   93487 non-null  object\n",
            " 6   to         93487 non-null  object\n",
            " 7   price      93487 non-null  int64 \n",
            " 8   day        93487 non-null  int64 \n",
            " 9   month      93487 non-null  int64 \n",
            " 10  year       93487 non-null  int64 \n",
            " 11  dep_hour   93487 non-null  int64 \n",
            " 12  dep_min    93487 non-null  int64 \n",
            " 13  time_hour  93487 non-null  int64 \n",
            " 14  time_min   93487 non-null  int64 \n",
            " 15  arr_hour   93487 non-null  int64 \n",
            " 16  arr_min    93487 non-null  int64 \n",
            "dtypes: int64(11), object(6)\n",
            "memory usage: 12.1+ MB\n",
            "None\n"
          ]
        }
      ]
    },
    {
      "cell_type": "code",
      "source": [
        "df.drop(\"arr_time\",axis=1,inplace=True)"
      ],
      "metadata": {
        "id": "sDqIxQJsRNG7"
      },
      "execution_count": 71,
      "outputs": []
    },
    {
      "cell_type": "code",
      "source": [
        "print(df.head(1))"
      ],
      "metadata": {
        "colab": {
          "base_uri": "https://localhost:8080/"
        },
        "id": "vLMQLzSPRUkf",
        "outputId": "1c842507-80f4-44e8-e1e4-833dce35d2a4"
      },
      "execution_count": 72,
      "outputs": [
        {
          "output_type": "stream",
          "name": "stdout",
          "text": [
            "     airline ch_code  num_code   from       stop      to  price  day  month  \\\n",
            "0  Air India      AI       868  Delhi  non-stop   Mumbai  25612   11      2   \n",
            "\n",
            "   year  dep_hour  dep_min  time_hour  time_min  arr_hour  arr_min  \n",
            "0  2022        18        0          2         0        20        0  \n"
          ]
        }
      ]
    },
    {
      "cell_type": "code",
      "source": [
        "print(df[\"stop\"].value_counts())"
      ],
      "metadata": {
        "colab": {
          "base_uri": "https://localhost:8080/"
        },
        "id": "R0u-d1oMRYDj",
        "outputId": "52349967-2933-44aa-ca22-b5b8c288cd77"
      },
      "execution_count": 73,
      "outputs": [
        {
          "output_type": "stream",
          "name": "stdout",
          "text": [
            "stop\n",
            "1-stop\\n\\t\\t\\t\\t\\t\\t\\t\\t\\t\\t\\t\\t\\n\\t\\t\\t\\t\\t\\t\\t\\t\\t\\t\\t\\t                   81489\n",
            "non-stop                                                                      8102\n",
            "2+-stop                                                                       1083\n",
            "1-stop\\n\\t\\t\\t\\t\\t\\t\\t\\t\\t\\t\\t\\tVia IDR\\n\\t\\t\\t\\t\\t\\t\\t\\t\\t\\t\\t\\t              810\n",
            "1-stop\\n\\t\\t\\t\\t\\t\\t\\t\\t\\t\\t\\t\\tVia IXU\\n\\t\\t\\t\\t\\t\\t\\t\\t\\t\\t\\t\\t              776\n",
            "1-stop\\n\\t\\t\\t\\t\\t\\t\\t\\t\\t\\t\\t\\tVia PAT\\n\\t\\t\\t\\t\\t\\t\\t\\t\\t\\t\\t\\t              257\n",
            "1-stop\\n\\t\\t\\t\\t\\t\\t\\t\\t\\t\\t\\t\\tVia Patna\\n\\t\\t\\t\\t\\t\\t\\t\\t\\t\\t\\t\\t            242\n",
            "1-stop\\n\\t\\t\\t\\t\\t\\t\\t\\t\\t\\t\\t\\tVia BBI\\n\\t\\t\\t\\t\\t\\t\\t\\t\\t\\t\\t\\t              152\n",
            "1-stop\\n\\t\\t\\t\\t\\t\\t\\t\\t\\t\\t\\t\\tVia STV\\n\\t\\t\\t\\t\\t\\t\\t\\t\\t\\t\\t\\t               93\n",
            "1-stop\\n\\t\\t\\t\\t\\t\\t\\t\\t\\t\\t\\t\\tVia IXE\\n\\t\\t\\t\\t\\t\\t\\t\\t\\t\\t\\t\\t               86\n",
            "1-stop\\n\\t\\t\\t\\t\\t\\t\\t\\t\\t\\t\\t\\tVia Bhubaneswar\\n\\t\\t\\t\\t\\t\\t\\t\\t\\t\\t\\t\\t       75\n",
            "1-stop\\n\\t\\t\\t\\t\\t\\t\\t\\t\\t\\t\\t\\tVia Hyderabad\\n\\t\\t\\t\\t\\t\\t\\t\\t\\t\\t\\t\\t         71\n",
            "1-stop\\n\\t\\t\\t\\t\\t\\t\\t\\t\\t\\t\\t\\tVia Delhi\\n\\t\\t\\t\\t\\t\\t\\t\\t\\t\\t\\t\\t             59\n",
            "1-stop\\n\\t\\t\\t\\t\\t\\t\\t\\t\\t\\t\\t\\tVia Raipur\\n\\t\\t\\t\\t\\t\\t\\t\\t\\t\\t\\t\\t            43\n",
            "1-stop\\n\\t\\t\\t\\t\\t\\t\\t\\t\\t\\t\\t\\tVia Chennai\\n\\t\\t\\t\\t\\t\\t\\t\\t\\t\\t\\t\\t           42\n",
            "1-stop\\n\\t\\t\\t\\t\\t\\t\\t\\t\\t\\t\\t\\tVia Guwahati\\n\\t\\t\\t\\t\\t\\t\\t\\t\\t\\t\\t\\t          29\n",
            "1-stop\\n\\t\\t\\t\\t\\t\\t\\t\\t\\t\\t\\t\\tVia VTZ\\n\\t\\t\\t\\t\\t\\t\\t\\t\\t\\t\\t\\t               17\n",
            "1-stop\\n\\t\\t\\t\\t\\t\\t\\t\\t\\t\\t\\t\\tVia Kolkata\\n\\t\\t\\t\\t\\t\\t\\t\\t\\t\\t\\t\\t           14\n",
            "1-stop\\n\\t\\t\\t\\t\\t\\t\\t\\t\\t\\t\\t\\tVia NDC\\n\\t\\t\\t\\t\\t\\t\\t\\t\\t\\t\\t\\t               14\n",
            "1-stop\\n\\t\\t\\t\\t\\t\\t\\t\\t\\t\\t\\t\\tVia RPR\\n\\t\\t\\t\\t\\t\\t\\t\\t\\t\\t\\t\\t               13\n",
            "1-stop\\n\\t\\t\\t\\t\\t\\t\\t\\t\\t\\t\\t\\tVia Lucknow\\n\\t\\t\\t\\t\\t\\t\\t\\t\\t\\t\\t\\t           10\n",
            "1-stop\\n\\t\\t\\t\\t\\t\\t\\t\\t\\t\\t\\t\\tVia GAY\\n\\t\\t\\t\\t\\t\\t\\t\\t\\t\\t\\t\\t                3\n",
            "1-stop\\n\\t\\t\\t\\t\\t\\t\\t\\t\\t\\t\\t\\tVia GAU\\n\\t\\t\\t\\t\\t\\t\\t\\t\\t\\t\\t\\t                3\n",
            "1-stop\\n\\t\\t\\t\\t\\t\\t\\t\\t\\t\\t\\t\\tVia Surat\\n\\t\\t\\t\\t\\t\\t\\t\\t\\t\\t\\t\\t              3\n",
            "1-stop\\n\\t\\t\\t\\t\\t\\t\\t\\t\\t\\t\\t\\tVia HYD\\n\\t\\t\\t\\t\\t\\t\\t\\t\\t\\t\\t\\t                1\n",
            "Name: count, dtype: int64\n"
          ]
        }
      ]
    },
    {
      "cell_type": "code",
      "source": [
        "df[\"stop\"]=df[\"stop\"].str.split(\"-\").str[0]"
      ],
      "metadata": {
        "id": "PAK7VVKYRfYS"
      },
      "execution_count": 74,
      "outputs": []
    },
    {
      "cell_type": "code",
      "source": [
        "print(df[\"stop\"].value_counts())"
      ],
      "metadata": {
        "colab": {
          "base_uri": "https://localhost:8080/"
        },
        "id": "zoQFBrIwRzVT",
        "outputId": "721dfefd-6572-4f5d-a6d1-097ff91bf150"
      },
      "execution_count": 75,
      "outputs": [
        {
          "output_type": "stream",
          "name": "stdout",
          "text": [
            "stop\n",
            "1      84302\n",
            "non     8102\n",
            "2+      1083\n",
            "Name: count, dtype: int64\n"
          ]
        }
      ]
    },
    {
      "cell_type": "code",
      "source": [
        "df[\"stop\"]=df[\"stop\"].map({\"1\":1,\"non\":0,\"2+\":2})"
      ],
      "metadata": {
        "id": "CkHy-3iGR31b"
      },
      "execution_count": 76,
      "outputs": []
    },
    {
      "cell_type": "code",
      "source": [
        "print(df[\"stop\"].value_counts())"
      ],
      "metadata": {
        "colab": {
          "base_uri": "https://localhost:8080/"
        },
        "id": "F9E6Uh6XSDfs",
        "outputId": "4687b6a6-56a0-4c29-c869-153ced3df3de"
      },
      "execution_count": 77,
      "outputs": [
        {
          "output_type": "stream",
          "name": "stdout",
          "text": [
            "stop\n",
            "1    84302\n",
            "0     8102\n",
            "2     1083\n",
            "Name: count, dtype: int64\n"
          ]
        }
      ]
    },
    {
      "cell_type": "code",
      "source": [
        "print(df[\"stop\"].dtype)"
      ],
      "metadata": {
        "colab": {
          "base_uri": "https://localhost:8080/"
        },
        "id": "5QABefVjSFx6",
        "outputId": "d1ff9136-8c94-470f-bab7-95d2918e086f"
      },
      "execution_count": 78,
      "outputs": [
        {
          "output_type": "stream",
          "name": "stdout",
          "text": [
            "int64\n"
          ]
        }
      ]
    },
    {
      "cell_type": "code",
      "source": [
        "print(df.info())"
      ],
      "metadata": {
        "colab": {
          "base_uri": "https://localhost:8080/"
        },
        "id": "fmFwdXnvSOES",
        "outputId": "253e8d09-b789-4d63-e5fd-bae6638e91d8"
      },
      "execution_count": 79,
      "outputs": [
        {
          "output_type": "stream",
          "name": "stdout",
          "text": [
            "<class 'pandas.core.frame.DataFrame'>\n",
            "RangeIndex: 93487 entries, 0 to 93486\n",
            "Data columns (total 16 columns):\n",
            " #   Column     Non-Null Count  Dtype \n",
            "---  ------     --------------  ----- \n",
            " 0   airline    93487 non-null  object\n",
            " 1   ch_code    93487 non-null  object\n",
            " 2   num_code   93487 non-null  int64 \n",
            " 3   from       93487 non-null  object\n",
            " 4   stop       93487 non-null  int64 \n",
            " 5   to         93487 non-null  object\n",
            " 6   price      93487 non-null  int64 \n",
            " 7   day        93487 non-null  int64 \n",
            " 8   month      93487 non-null  int64 \n",
            " 9   year       93487 non-null  int64 \n",
            " 10  dep_hour   93487 non-null  int64 \n",
            " 11  dep_min    93487 non-null  int64 \n",
            " 12  time_hour  93487 non-null  int64 \n",
            " 13  time_min   93487 non-null  int64 \n",
            " 14  arr_hour   93487 non-null  int64 \n",
            " 15  arr_min    93487 non-null  int64 \n",
            "dtypes: int64(12), object(4)\n",
            "memory usage: 11.4+ MB\n",
            "None\n"
          ]
        }
      ]
    },
    {
      "cell_type": "code",
      "source": [
        "print(df.head())"
      ],
      "metadata": {
        "colab": {
          "base_uri": "https://localhost:8080/"
        },
        "id": "zG7v8wOdSQpz",
        "outputId": "10651bce-54f1-41ef-e476-41e804e48a27"
      },
      "execution_count": 80,
      "outputs": [
        {
          "output_type": "stream",
          "name": "stdout",
          "text": [
            "     airline ch_code  num_code   from  stop      to  price  day  month  year  \\\n",
            "0  Air India      AI       868  Delhi     0  Mumbai  25612   11      2  2022   \n",
            "1  Air India      AI       624  Delhi     0  Mumbai  25612   11      2  2022   \n",
            "2  Air India      AI       531  Delhi     1  Mumbai  42220   11      2  2022   \n",
            "3  Air India      AI       839  Delhi     1  Mumbai  44450   11      2  2022   \n",
            "4  Air India      AI       544  Delhi     1  Mumbai  46690   11      2  2022   \n",
            "\n",
            "   dep_hour  dep_min  time_hour  time_min  arr_hour  arr_min  \n",
            "0        18        0          2         0        20        0  \n",
            "1        19        0          2        15        21       15  \n",
            "2        20        0         24        45        20       45  \n",
            "3        21       25         26        30        23       55  \n",
            "4        17       15          6        40        23       55  \n"
          ]
        }
      ]
    },
    {
      "cell_type": "code",
      "source": [
        "from sklearn.preprocessing import OneHotEncoder"
      ],
      "metadata": {
        "id": "ZwkwSbLfSi5b"
      },
      "execution_count": 81,
      "outputs": []
    },
    {
      "cell_type": "code",
      "source": [
        "encoder=OneHotEncoder()"
      ],
      "metadata": {
        "id": "rUM0BUNnSsx0"
      },
      "execution_count": 82,
      "outputs": []
    },
    {
      "cell_type": "code",
      "source": [
        "encoder.fit_transform(df[[\"airline\",\"ch_code\",\"from\",\"to\"]])"
      ],
      "metadata": {
        "colab": {
          "base_uri": "https://localhost:8080/"
        },
        "id": "dU8VmTq0SuyK",
        "outputId": "9270a3a4-9917-43aa-e8e0-7fde70ed4af3"
      },
      "execution_count": 83,
      "outputs": [
        {
          "output_type": "execute_result",
          "data": {
            "text/plain": [
              "<Compressed Sparse Row sparse matrix of dtype 'float64'\n",
              "\twith 373948 stored elements and shape (93487, 16)>"
            ]
          },
          "metadata": {},
          "execution_count": 83
        }
      ]
    },
    {
      "cell_type": "code",
      "source": [
        "encoded=encoder.fit_transform(df[[\"airline\",\"ch_code\",\"from\",\"to\"]]).toarray()"
      ],
      "metadata": {
        "id": "y6-oudkhTATD"
      },
      "execution_count": 85,
      "outputs": []
    },
    {
      "cell_type": "code",
      "source": [
        "df1=pd.DataFrame(encoded,columns=encoder.get_feature_names_out())"
      ],
      "metadata": {
        "id": "sRBrO5I4TDOk"
      },
      "execution_count": 87,
      "outputs": []
    },
    {
      "cell_type": "code",
      "source": [
        "print(df1.head(1))"
      ],
      "metadata": {
        "colab": {
          "base_uri": "https://localhost:8080/"
        },
        "id": "CBYS3b5DTbTL",
        "outputId": "4eb06bb0-c1c9-4ebd-c42d-43ffbda3532b"
      },
      "execution_count": 89,
      "outputs": [
        {
          "output_type": "stream",
          "name": "stdout",
          "text": [
            "   airline_Air India  airline_Vistara  ch_code_AI  ch_code_UK  from_Bangalore  \\\n",
            "0                1.0              0.0         1.0         0.0             0.0   \n",
            "\n",
            "   from_Chennai  from_Delhi  from_Hyderabad  from_Kolkata  from_Mumbai  \\\n",
            "0           0.0         1.0             0.0           0.0          0.0   \n",
            "\n",
            "   to_Bangalore  to_Chennai  to_Delhi  to_Hyderabad  to_Kolkata  to_Mumbai  \n",
            "0           0.0         0.0       0.0           0.0         0.0        1.0  \n"
          ]
        }
      ]
    },
    {
      "cell_type": "code",
      "source": [
        "df=pd.concat([df,df1],axis=1)"
      ],
      "metadata": {
        "id": "XbYhqCizTvxS"
      },
      "execution_count": 90,
      "outputs": []
    },
    {
      "cell_type": "code",
      "source": [
        "print(df.head(1))"
      ],
      "metadata": {
        "colab": {
          "base_uri": "https://localhost:8080/"
        },
        "id": "LrCpcKEyT7VV",
        "outputId": "de49ffd5-a920-4cb0-e6c5-7a9b2b58a348"
      },
      "execution_count": 92,
      "outputs": [
        {
          "output_type": "stream",
          "name": "stdout",
          "text": [
            "     airline ch_code  num_code   from  stop      to  price  day  month  year  \\\n",
            "0  Air India      AI       868  Delhi     0  Mumbai  25612   11      2  2022   \n",
            "\n",
            "   ...  from_Delhi  from_Hyderabad  from_Kolkata  from_Mumbai  to_Bangalore  \\\n",
            "0  ...         1.0             0.0           0.0          0.0           0.0   \n",
            "\n",
            "   to_Chennai  to_Delhi  to_Hyderabad  to_Kolkata  to_Mumbai  \n",
            "0         0.0       0.0           0.0         0.0        1.0  \n",
            "\n",
            "[1 rows x 32 columns]\n"
          ]
        }
      ]
    },
    {
      "cell_type": "code",
      "source": [
        "print(df.info())"
      ],
      "metadata": {
        "colab": {
          "base_uri": "https://localhost:8080/"
        },
        "id": "QoppjtPuT9fb",
        "outputId": "e64d15b8-22df-475c-e5e4-4719158ce5de"
      },
      "execution_count": 93,
      "outputs": [
        {
          "output_type": "stream",
          "name": "stdout",
          "text": [
            "<class 'pandas.core.frame.DataFrame'>\n",
            "RangeIndex: 93487 entries, 0 to 93486\n",
            "Data columns (total 32 columns):\n",
            " #   Column             Non-Null Count  Dtype  \n",
            "---  ------             --------------  -----  \n",
            " 0   airline            93487 non-null  object \n",
            " 1   ch_code            93487 non-null  object \n",
            " 2   num_code           93487 non-null  int64  \n",
            " 3   from               93487 non-null  object \n",
            " 4   stop               93487 non-null  int64  \n",
            " 5   to                 93487 non-null  object \n",
            " 6   price              93487 non-null  int64  \n",
            " 7   day                93487 non-null  int64  \n",
            " 8   month              93487 non-null  int64  \n",
            " 9   year               93487 non-null  int64  \n",
            " 10  dep_hour           93487 non-null  int64  \n",
            " 11  dep_min            93487 non-null  int64  \n",
            " 12  time_hour          93487 non-null  int64  \n",
            " 13  time_min           93487 non-null  int64  \n",
            " 14  arr_hour           93487 non-null  int64  \n",
            " 15  arr_min            93487 non-null  int64  \n",
            " 16  airline_Air India  93487 non-null  float64\n",
            " 17  airline_Vistara    93487 non-null  float64\n",
            " 18  ch_code_AI         93487 non-null  float64\n",
            " 19  ch_code_UK         93487 non-null  float64\n",
            " 20  from_Bangalore     93487 non-null  float64\n",
            " 21  from_Chennai       93487 non-null  float64\n",
            " 22  from_Delhi         93487 non-null  float64\n",
            " 23  from_Hyderabad     93487 non-null  float64\n",
            " 24  from_Kolkata       93487 non-null  float64\n",
            " 25  from_Mumbai        93487 non-null  float64\n",
            " 26  to_Bangalore       93487 non-null  float64\n",
            " 27  to_Chennai         93487 non-null  float64\n",
            " 28  to_Delhi           93487 non-null  float64\n",
            " 29  to_Hyderabad       93487 non-null  float64\n",
            " 30  to_Kolkata         93487 non-null  float64\n",
            " 31  to_Mumbai          93487 non-null  float64\n",
            "dtypes: float64(16), int64(12), object(4)\n",
            "memory usage: 22.8+ MB\n",
            "None\n"
          ]
        }
      ]
    },
    {
      "cell_type": "code",
      "source": [],
      "metadata": {
        "id": "LliSUessUGx6"
      },
      "execution_count": null,
      "outputs": []
    }
  ]
}