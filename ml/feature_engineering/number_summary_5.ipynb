{
  "nbformat": 4,
  "nbformat_minor": 0,
  "metadata": {
    "colab": {
      "provenance": []
    },
    "kernelspec": {
      "name": "python3",
      "display_name": "Python 3"
    },
    "language_info": {
      "name": "python"
    }
  },
  "cells": [
    {
      "cell_type": "code",
      "source": [
        "import numpy as np\n",
        "import pandas as pd\n",
        "import matplotlib.pyplot as plt\n",
        "import seaborn as sns"
      ],
      "metadata": {
        "id": "NlPJdsxxK-4N"
      },
      "execution_count": 28,
      "outputs": []
    },
    {
      "cell_type": "code",
      "source": [
        "marks=np.random.randint(20,100,(100),int)"
      ],
      "metadata": {
        "id": "2OKCQN7rRcJM"
      },
      "execution_count": 30,
      "outputs": []
    },
    {
      "cell_type": "code",
      "source": [
        "print(f\"marks : {marks}\")"
      ],
      "metadata": {
        "colab": {
          "base_uri": "https://localhost:8080/"
        },
        "id": "dCEn2taFR_oW",
        "outputId": "bad93c54-a5d7-4834-bae9-07d6329dfe44"
      },
      "execution_count": 32,
      "outputs": [
        {
          "output_type": "stream",
          "name": "stdout",
          "text": [
            "marks : [29 73 74 59 87 54 45 54 32 31 58 81 49 95 93 49 28 45 89 59 70 85 43 49\n",
            " 70 40 36 68 63 35 81 71 34 70 70 86 25 23 57 34 41 39 71 82 95 39 58 67\n",
            " 67 44 24 61 86 80 84 74 78 75 37 79 32 45 66 35 54 76 90 94 91 91 42 98\n",
            " 27 39 22 87 36 38 87 39 33 88 88 99 84 67 38 69 81 63 37 37 54 84 61 71\n",
            " 55 86 54 94]\n"
          ]
        }
      ]
    },
    {
      "cell_type": "code",
      "source": [
        "minimum,q1,median,q3,maximum=np.quantile(marks,[0.0,0.25,0.50,0.75,1.0])"
      ],
      "metadata": {
        "id": "nz3e_PX0SHWX"
      },
      "execution_count": 33,
      "outputs": []
    },
    {
      "cell_type": "code",
      "source": [
        "print(f\"minimum : {minimum}\")\n",
        "print(f\"q1 : {q1}\")\n",
        "print(f\"median : {median}\")\n",
        "print(f\"q3 : {q3}\")\n",
        "print(f\"maximum : {maximum}\")"
      ],
      "metadata": {
        "colab": {
          "base_uri": "https://localhost:8080/"
        },
        "id": "OjkTZj3aSAfB",
        "outputId": "ebf024c2-7d29-4540-e63f-35776f06e8c4"
      },
      "execution_count": 34,
      "outputs": [
        {
          "output_type": "stream",
          "name": "stdout",
          "text": [
            "minimum : 22.0\n",
            "q1 : 39.0\n",
            "median : 62.0\n",
            "q3 : 81.0\n",
            "maximum : 99.0\n"
          ]
        }
      ]
    },
    {
      "cell_type": "code",
      "source": [
        "#iqr = inter quartile range\n",
        "iqr=q3-q1\n",
        "print(iqr)"
      ],
      "metadata": {
        "colab": {
          "base_uri": "https://localhost:8080/"
        },
        "id": "hiAK1vxPSAcp",
        "outputId": "b42d3271-6b32-47d6-fd12-9b5efd75629d"
      },
      "execution_count": 35,
      "outputs": [
        {
          "output_type": "stream",
          "name": "stdout",
          "text": [
            "42.0\n"
          ]
        }
      ]
    },
    {
      "cell_type": "code",
      "source": [
        "lower_fence=q1-1.5*iqr\n",
        "upper_fence=q3+1.5*iqr\n",
        "\n",
        "print(f\"lower fence : {lower_fence}\")\n",
        "print(f\"upper fence : {upper_fence}\")"
      ],
      "metadata": {
        "colab": {
          "base_uri": "https://localhost:8080/"
        },
        "id": "7Q4UiiwASAYa",
        "outputId": "597909e5-3fcb-48d0-bea1-adf7558664bc"
      },
      "execution_count": 36,
      "outputs": [
        {
          "output_type": "stream",
          "name": "stdout",
          "text": [
            "lower fence : -24.0\n",
            "upper fence : 144.0\n"
          ]
        }
      ]
    },
    {
      "cell_type": "code",
      "source": [
        "marks=np.append(marks,[lower_fence-5,lower_fence-10,upper_fence+10,upper_fence+5])"
      ],
      "metadata": {
        "id": "oSlbr8LVU0ap"
      },
      "execution_count": 44,
      "outputs": []
    },
    {
      "cell_type": "code",
      "source": [
        "outliers=marks[(marks<lower_fence) | (marks>upper_fence)]"
      ],
      "metadata": {
        "id": "k2iLWwH9SAT3"
      },
      "execution_count": 45,
      "outputs": []
    },
    {
      "cell_type": "code",
      "source": [
        "outliers"
      ],
      "metadata": {
        "colab": {
          "base_uri": "https://localhost:8080/"
        },
        "id": "LFmRPOwtSAMr",
        "outputId": "98340e93-2180-4d47-cc42-dc511822deb2"
      },
      "execution_count": 46,
      "outputs": [
        {
          "output_type": "execute_result",
          "data": {
            "text/plain": [
              "array([-29., -34., 154., 149.])"
            ]
          },
          "metadata": {},
          "execution_count": 46
        }
      ]
    },
    {
      "cell_type": "code",
      "source": [
        "outliers.size"
      ],
      "metadata": {
        "colab": {
          "base_uri": "https://localhost:8080/"
        },
        "id": "_bufWjYKUo60",
        "outputId": "f88cb0c9-a6e2-48f7-8bea-83dc005d3790"
      },
      "execution_count": 47,
      "outputs": [
        {
          "output_type": "execute_result",
          "data": {
            "text/plain": [
              "4"
            ]
          },
          "metadata": {},
          "execution_count": 47
        }
      ]
    },
    {
      "cell_type": "code",
      "source": [
        "sns.boxplot(marks)"
      ],
      "metadata": {
        "colab": {
          "base_uri": "https://localhost:8080/",
          "height": 428
        },
        "id": "kka7P5HnVfE8",
        "outputId": "2be04dc8-6531-402b-f706-0a91e7be8ab5"
      },
      "execution_count": 48,
      "outputs": [
        {
          "output_type": "execute_result",
          "data": {
            "text/plain": [
              "<Axes: >"
            ]
          },
          "metadata": {},
          "execution_count": 48
        },
        {
          "output_type": "display_data",
          "data": {
            "text/plain": [
              "<Figure size 640x480 with 1 Axes>"
            ],
            "image/png": "[encoded data removed]"
          },
          "metadata": {}
        }
      ]
    },
    {
      "cell_type": "code",
      "source": [
        "marks=np.append(marks,[lower_fence-50,lower_fence-100,upper_fence+100,upper_fence+50])"
      ],
      "metadata": {
        "id": "__kCQU6DVnDN"
      },
      "execution_count": 49,
      "outputs": []
    },
    {
      "cell_type": "code",
      "source": [
        "sns.boxplot(marks)"
      ],
      "metadata": {
        "colab": {
          "base_uri": "https://localhost:8080/",
          "height": 428
        },
        "id": "J5kJ986yV3cU",
        "outputId": "6f17ef70-d35b-4335-d2ca-4654066fcacd"
      },
      "execution_count": 51,
      "outputs": [
        {
          "output_type": "execute_result",
          "data": {
            "text/plain": [
              "<Axes: >"
            ]
          },
          "metadata": {},
          "execution_count": 51
        },
        {
          "output_type": "display_data",
          "data": {
            "text/plain": [
              "<Figure size 640x480 with 1 Axes>"
            ],
            "image/png": "[encoded data removed]"
          },
          "metadata": {}
        }
      ]
    },
    {
      "cell_type": "code",
      "source": [],
      "metadata": {
        "id": "Y0NNLEg-V6_7"
      },
      "execution_count": null,
      "outputs": []
    }
  ]
}
