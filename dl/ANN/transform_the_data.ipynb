{
  "cells": [
    {
      "cell_type": "code",
      "execution_count": 102,
      "metadata": {
        "id": "5AZWtHPYNQcu"
      },
      "outputs": [],
      "source": [
        "import pandas as pd\n",
        "import numpy as np\n",
        "import matplotlib.pyplot as plt\n",
        "import seaborn as snb\n",
        "import warnings\n",
        "warnings.filterwarnings(\"ignore\")"
      ]
    },
    {
      "cell_type": "code",
      "execution_count": 103,
      "metadata": {
        "id": "zuwLsEOmQt_5"
      },
      "outputs": [],
      "source": [
        "from sklearn.preprocessing import (\n",
        "    StandardScaler,\n",
        "    LabelEncoder,\n",
        "    OneHotEncoder\n",
        ")\n",
        "from sklearn.compose import ColumnTransformer\n",
        "from sklearn.pipeline import Pipeline\n",
        "from sklearn.model_selection import  train_test_split\n",
        "import pickle"
      ]
    },
    {
      "cell_type": "code",
      "execution_count": 104,
      "metadata": {
        "id": "zyhOmM_4O484"
      },
      "outputs": [],
      "source": [
        "df=pd.read_csv(\"Churn_Modelling.csv\")"
      ]
    },
    {
      "cell_type": "code",
      "execution_count": 105,
      "metadata": {
        "colab": {
          "base_uri": "https://localhost:8080/",
          "height": 226
        },
        "id": "y1LtXrDOO8t3",
        "outputId": "4d5cd4ba-f060-468a-b155-17ede2689886"
      },
      "outputs": [
        {
          "data": {
            "text/html": [
              "<div>\n",
              "<style scoped>\n",
              "    .dataframe tbody tr th:only-of-type {\n",
              "        vertical-align: middle;\n",
              "    }\n",
              "\n",
              "    .dataframe tbody tr th {\n",
              "        vertical-align: top;\n",
              "    }\n",
              "\n",
              "    .dataframe thead th {\n",
              "        text-align: right;\n",
              "    }\n",
              "</style>\n",
              "<table border=\"1\" class=\"dataframe\">\n",
              "  <thead>\n",
              "    <tr style=\"text-align: right;\">\n",
              "      <th></th>\n",
              "      <th>RowNumber</th>\n",
              "      <th>CustomerId</th>\n",
              "      <th>Surname</th>\n",
              "      <th>CreditScore</th>\n",
              "      <th>Geography</th>\n",
              "      <th>Gender</th>\n",
              "      <th>Age</th>\n",
              "      <th>Tenure</th>\n",
              "      <th>Balance</th>\n",
              "      <th>NumOfProducts</th>\n",
              "      <th>HasCrCard</th>\n",
              "      <th>IsActiveMember</th>\n",
              "      <th>EstimatedSalary</th>\n",
              "      <th>Exited</th>\n",
              "    </tr>\n",
              "  </thead>\n",
              "  <tbody>\n",
              "    <tr>\n",
              "      <th>0</th>\n",
              "      <td>1</td>\n",
              "      <td>15634602</td>\n",
              "      <td>Hargrave</td>\n",
              "      <td>619</td>\n",
              "      <td>France</td>\n",
              "      <td>Female</td>\n",
              "      <td>42</td>\n",
              "      <td>2</td>\n",
              "      <td>0.00</td>\n",
              "      <td>1</td>\n",
              "      <td>1</td>\n",
              "      <td>1</td>\n",
              "      <td>101348.88</td>\n",
              "      <td>1</td>\n",
              "    </tr>\n",
              "    <tr>\n",
              "      <th>1</th>\n",
              "      <td>2</td>\n",
              "      <td>15647311</td>\n",
              "      <td>Hill</td>\n",
              "      <td>608</td>\n",
              "      <td>Spain</td>\n",
              "      <td>Female</td>\n",
              "      <td>41</td>\n",
              "      <td>1</td>\n",
              "      <td>83807.86</td>\n",
              "      <td>1</td>\n",
              "      <td>0</td>\n",
              "      <td>1</td>\n",
              "      <td>112542.58</td>\n",
              "      <td>0</td>\n",
              "    </tr>\n",
              "    <tr>\n",
              "      <th>2</th>\n",
              "      <td>3</td>\n",
              "      <td>15619304</td>\n",
              "      <td>Onio</td>\n",
              "      <td>502</td>\n",
              "      <td>France</td>\n",
              "      <td>Female</td>\n",
              "      <td>42</td>\n",
              "      <td>8</td>\n",
              "      <td>159660.80</td>\n",
              "      <td>3</td>\n",
              "      <td>1</td>\n",
              "      <td>0</td>\n",
              "      <td>113931.57</td>\n",
              "      <td>1</td>\n",
              "    </tr>\n",
              "    <tr>\n",
              "      <th>3</th>\n",
              "      <td>4</td>\n",
              "      <td>15701354</td>\n",
              "      <td>Boni</td>\n",
              "      <td>699</td>\n",
              "      <td>France</td>\n",
              "      <td>Female</td>\n",
              "      <td>39</td>\n",
              "      <td>1</td>\n",
              "      <td>0.00</td>\n",
              "      <td>2</td>\n",
              "      <td>0</td>\n",
              "      <td>0</td>\n",
              "      <td>93826.63</td>\n",
              "      <td>0</td>\n",
              "    </tr>\n",
              "    <tr>\n",
              "      <th>4</th>\n",
              "      <td>5</td>\n",
              "      <td>15737888</td>\n",
              "      <td>Mitchell</td>\n",
              "      <td>850</td>\n",
              "      <td>Spain</td>\n",
              "      <td>Female</td>\n",
              "      <td>43</td>\n",
              "      <td>2</td>\n",
              "      <td>125510.82</td>\n",
              "      <td>1</td>\n",
              "      <td>1</td>\n",
              "      <td>1</td>\n",
              "      <td>79084.10</td>\n",
              "      <td>0</td>\n",
              "    </tr>\n",
              "  </tbody>\n",
              "</table>\n",
              "</div>"
            ],
            "text/plain": [
              "   RowNumber  CustomerId   Surname  CreditScore Geography  Gender  Age  \\\n",
              "0          1    15634602  Hargrave          619    France  Female   42   \n",
              "1          2    15647311      Hill          608     Spain  Female   41   \n",
              "2          3    15619304      Onio          502    France  Female   42   \n",
              "3          4    15701354      Boni          699    France  Female   39   \n",
              "4          5    15737888  Mitchell          850     Spain  Female   43   \n",
              "\n",
              "   Tenure    Balance  NumOfProducts  HasCrCard  IsActiveMember  \\\n",
              "0       2       0.00              1          1               1   \n",
              "1       1   83807.86              1          0               1   \n",
              "2       8  159660.80              3          1               0   \n",
              "3       1       0.00              2          0               0   \n",
              "4       2  125510.82              1          1               1   \n",
              "\n",
              "   EstimatedSalary  Exited  \n",
              "0        101348.88       1  \n",
              "1        112542.58       0  \n",
              "2        113931.57       1  \n",
              "3         93826.63       0  \n",
              "4         79084.10       0  "
            ]
          },
          "execution_count": 105,
          "metadata": {},
          "output_type": "execute_result"
        }
      ],
      "source": [
        "df.head()"
      ]
    },
    {
      "cell_type": "code",
      "execution_count": 106,
      "metadata": {
        "colab": {
          "base_uri": "https://localhost:8080/"
        },
        "id": "ejB7NGWMQObe",
        "outputId": "8375c1b5-7627-457e-98de-277f6c6243e6"
      },
      "outputs": [
        {
          "data": {
            "text/plain": [
              "(10000, 14)"
            ]
          },
          "execution_count": 106,
          "metadata": {},
          "output_type": "execute_result"
        }
      ],
      "source": [
        "df.shape"
      ]
    },
    {
      "cell_type": "code",
      "execution_count": 107,
      "metadata": {
        "colab": {
          "base_uri": "https://localhost:8080/"
        },
        "id": "OVlrFDXBO9tO",
        "outputId": "4795d95f-cc88-4bc7-a90b-fad5147d760b"
      },
      "outputs": [
        {
          "data": {
            "text/plain": [
              "Index(['RowNumber', 'CustomerId', 'Surname', 'CreditScore', 'Geography',\n",
              "       'Gender', 'Age', 'Tenure', 'Balance', 'NumOfProducts', 'HasCrCard',\n",
              "       'IsActiveMember', 'EstimatedSalary', 'Exited'],\n",
              "      dtype='object')"
            ]
          },
          "execution_count": 107,
          "metadata": {},
          "output_type": "execute_result"
        }
      ],
      "source": [
        "df.columns"
      ]
    },
    {
      "cell_type": "code",
      "execution_count": 108,
      "metadata": {
        "colab": {
          "base_uri": "https://localhost:8080/"
        },
        "id": "QCPYzL1jO_Fm",
        "outputId": "97fb2767-0cac-4e4d-dc2d-5ce7d95086c3"
      },
      "outputs": [
        {
          "name": "stdout",
          "output_type": "stream",
          "text": [
            "<class 'pandas.core.frame.DataFrame'>\n",
            "RangeIndex: 10000 entries, 0 to 9999\n",
            "Data columns (total 14 columns):\n",
            " #   Column           Non-Null Count  Dtype  \n",
            "---  ------           --------------  -----  \n",
            " 0   RowNumber        10000 non-null  int64  \n",
            " 1   CustomerId       10000 non-null  int64  \n",
            " 2   Surname          10000 non-null  object \n",
            " 3   CreditScore      10000 non-null  int64  \n",
            " 4   Geography        10000 non-null  object \n",
            " 5   Gender           10000 non-null  object \n",
            " 6   Age              10000 non-null  int64  \n",
            " 7   Tenure           10000 non-null  int64  \n",
            " 8   Balance          10000 non-null  float64\n",
            " 9   NumOfProducts    10000 non-null  int64  \n",
            " 10  HasCrCard        10000 non-null  int64  \n",
            " 11  IsActiveMember   10000 non-null  int64  \n",
            " 12  EstimatedSalary  10000 non-null  float64\n",
            " 13  Exited           10000 non-null  int64  \n",
            "dtypes: float64(2), int64(9), object(3)\n",
            "memory usage: 1.1+ MB\n"
          ]
        }
      ],
      "source": [
        "df.info()"
      ]
    },
    {
      "cell_type": "code",
      "execution_count": 109,
      "metadata": {
        "colab": {
          "base_uri": "https://localhost:8080/",
          "height": 320
        },
        "id": "JDJjmMcEPAH2",
        "outputId": "37cfde39-39c8-4e57-fe0d-59de9dd80418"
      },
      "outputs": [
        {
          "data": {
            "text/html": [
              "<div>\n",
              "<style scoped>\n",
              "    .dataframe tbody tr th:only-of-type {\n",
              "        vertical-align: middle;\n",
              "    }\n",
              "\n",
              "    .dataframe tbody tr th {\n",
              "        vertical-align: top;\n",
              "    }\n",
              "\n",
              "    .dataframe thead th {\n",
              "        text-align: right;\n",
              "    }\n",
              "</style>\n",
              "<table border=\"1\" class=\"dataframe\">\n",
              "  <thead>\n",
              "    <tr style=\"text-align: right;\">\n",
              "      <th></th>\n",
              "      <th>RowNumber</th>\n",
              "      <th>CustomerId</th>\n",
              "      <th>CreditScore</th>\n",
              "      <th>Age</th>\n",
              "      <th>Tenure</th>\n",
              "      <th>Balance</th>\n",
              "      <th>NumOfProducts</th>\n",
              "      <th>HasCrCard</th>\n",
              "      <th>IsActiveMember</th>\n",
              "      <th>EstimatedSalary</th>\n",
              "      <th>Exited</th>\n",
              "    </tr>\n",
              "  </thead>\n",
              "  <tbody>\n",
              "    <tr>\n",
              "      <th>count</th>\n",
              "      <td>10000.00000</td>\n",
              "      <td>1.000000e+04</td>\n",
              "      <td>10000.000000</td>\n",
              "      <td>10000.000000</td>\n",
              "      <td>10000.000000</td>\n",
              "      <td>10000.000000</td>\n",
              "      <td>10000.000000</td>\n",
              "      <td>10000.00000</td>\n",
              "      <td>10000.000000</td>\n",
              "      <td>10000.000000</td>\n",
              "      <td>10000.000000</td>\n",
              "    </tr>\n",
              "    <tr>\n",
              "      <th>mean</th>\n",
              "      <td>5000.50000</td>\n",
              "      <td>1.569094e+07</td>\n",
              "      <td>650.528800</td>\n",
              "      <td>38.921800</td>\n",
              "      <td>5.012800</td>\n",
              "      <td>76485.889288</td>\n",
              "      <td>1.530200</td>\n",
              "      <td>0.70550</td>\n",
              "      <td>0.515100</td>\n",
              "      <td>100090.239881</td>\n",
              "      <td>0.203700</td>\n",
              "    </tr>\n",
              "    <tr>\n",
              "      <th>std</th>\n",
              "      <td>2886.89568</td>\n",
              "      <td>7.193619e+04</td>\n",
              "      <td>96.653299</td>\n",
              "      <td>10.487806</td>\n",
              "      <td>2.892174</td>\n",
              "      <td>62397.405202</td>\n",
              "      <td>0.581654</td>\n",
              "      <td>0.45584</td>\n",
              "      <td>0.499797</td>\n",
              "      <td>57510.492818</td>\n",
              "      <td>0.402769</td>\n",
              "    </tr>\n",
              "    <tr>\n",
              "      <th>min</th>\n",
              "      <td>1.00000</td>\n",
              "      <td>1.556570e+07</td>\n",
              "      <td>350.000000</td>\n",
              "      <td>18.000000</td>\n",
              "      <td>0.000000</td>\n",
              "      <td>0.000000</td>\n",
              "      <td>1.000000</td>\n",
              "      <td>0.00000</td>\n",
              "      <td>0.000000</td>\n",
              "      <td>11.580000</td>\n",
              "      <td>0.000000</td>\n",
              "    </tr>\n",
              "    <tr>\n",
              "      <th>25%</th>\n",
              "      <td>2500.75000</td>\n",
              "      <td>1.562853e+07</td>\n",
              "      <td>584.000000</td>\n",
              "      <td>32.000000</td>\n",
              "      <td>3.000000</td>\n",
              "      <td>0.000000</td>\n",
              "      <td>1.000000</td>\n",
              "      <td>0.00000</td>\n",
              "      <td>0.000000</td>\n",
              "      <td>51002.110000</td>\n",
              "      <td>0.000000</td>\n",
              "    </tr>\n",
              "    <tr>\n",
              "      <th>50%</th>\n",
              "      <td>5000.50000</td>\n",
              "      <td>1.569074e+07</td>\n",
              "      <td>652.000000</td>\n",
              "      <td>37.000000</td>\n",
              "      <td>5.000000</td>\n",
              "      <td>97198.540000</td>\n",
              "      <td>1.000000</td>\n",
              "      <td>1.00000</td>\n",
              "      <td>1.000000</td>\n",
              "      <td>100193.915000</td>\n",
              "      <td>0.000000</td>\n",
              "    </tr>\n",
              "    <tr>\n",
              "      <th>75%</th>\n",
              "      <td>7500.25000</td>\n",
              "      <td>1.575323e+07</td>\n",
              "      <td>718.000000</td>\n",
              "      <td>44.000000</td>\n",
              "      <td>7.000000</td>\n",
              "      <td>127644.240000</td>\n",
              "      <td>2.000000</td>\n",
              "      <td>1.00000</td>\n",
              "      <td>1.000000</td>\n",
              "      <td>149388.247500</td>\n",
              "      <td>0.000000</td>\n",
              "    </tr>\n",
              "    <tr>\n",
              "      <th>max</th>\n",
              "      <td>10000.00000</td>\n",
              "      <td>1.581569e+07</td>\n",
              "      <td>850.000000</td>\n",
              "      <td>92.000000</td>\n",
              "      <td>10.000000</td>\n",
              "      <td>250898.090000</td>\n",
              "      <td>4.000000</td>\n",
              "      <td>1.00000</td>\n",
              "      <td>1.000000</td>\n",
              "      <td>199992.480000</td>\n",
              "      <td>1.000000</td>\n",
              "    </tr>\n",
              "  </tbody>\n",
              "</table>\n",
              "</div>"
            ],
            "text/plain": [
              "         RowNumber    CustomerId   CreditScore           Age        Tenure  \\\n",
              "count  10000.00000  1.000000e+04  10000.000000  10000.000000  10000.000000   \n",
              "mean    5000.50000  1.569094e+07    650.528800     38.921800      5.012800   \n",
              "std     2886.89568  7.193619e+04     96.653299     10.487806      2.892174   \n",
              "min        1.00000  1.556570e+07    350.000000     18.000000      0.000000   \n",
              "25%     2500.75000  1.562853e+07    584.000000     32.000000      3.000000   \n",
              "50%     5000.50000  1.569074e+07    652.000000     37.000000      5.000000   \n",
              "75%     7500.25000  1.575323e+07    718.000000     44.000000      7.000000   \n",
              "max    10000.00000  1.581569e+07    850.000000     92.000000     10.000000   \n",
              "\n",
              "             Balance  NumOfProducts    HasCrCard  IsActiveMember  \\\n",
              "count   10000.000000   10000.000000  10000.00000    10000.000000   \n",
              "mean    76485.889288       1.530200      0.70550        0.515100   \n",
              "std     62397.405202       0.581654      0.45584        0.499797   \n",
              "min         0.000000       1.000000      0.00000        0.000000   \n",
              "25%         0.000000       1.000000      0.00000        0.000000   \n",
              "50%     97198.540000       1.000000      1.00000        1.000000   \n",
              "75%    127644.240000       2.000000      1.00000        1.000000   \n",
              "max    250898.090000       4.000000      1.00000        1.000000   \n",
              "\n",
              "       EstimatedSalary        Exited  \n",
              "count     10000.000000  10000.000000  \n",
              "mean     100090.239881      0.203700  \n",
              "std       57510.492818      0.402769  \n",
              "min          11.580000      0.000000  \n",
              "25%       51002.110000      0.000000  \n",
              "50%      100193.915000      0.000000  \n",
              "75%      149388.247500      0.000000  \n",
              "max      199992.480000      1.000000  "
            ]
          },
          "execution_count": 109,
          "metadata": {},
          "output_type": "execute_result"
        }
      ],
      "source": [
        "df.describe()"
      ]
    },
    {
      "cell_type": "code",
      "execution_count": null,
      "metadata": {
        "id": "Rfz0E0tDPBZX"
      },
      "outputs": [],
      "source": []
    },
    {
      "cell_type": "code",
      "execution_count": 110,
      "metadata": {
        "colab": {
          "base_uri": "https://localhost:8080/",
          "height": 489
        },
        "id": "MwaYbPFxPkvN",
        "outputId": "3850aadb-ef89-4cb0-b8cb-b81604f91ace"
      },
      "outputs": [
        {
          "data": {
            "text/plain": [
              "Surname\n",
              "Smith        32\n",
              "Scott        29\n",
              "Martin       29\n",
              "Walker       28\n",
              "Brown        26\n",
              "             ..\n",
              "Hull          1\n",
              "Sturdee       1\n",
              "Flannagan     1\n",
              "Dwyer         1\n",
              "Corby         1\n",
              "Name: count, Length: 2932, dtype: int64"
            ]
          },
          "execution_count": 110,
          "metadata": {},
          "output_type": "execute_result"
        }
      ],
      "source": [
        "df[\"Surname\"].value_counts()"
      ]
    },
    {
      "cell_type": "code",
      "execution_count": 111,
      "metadata": {
        "colab": {
          "base_uri": "https://localhost:8080/"
        },
        "id": "fbeU7GtMPvdm",
        "outputId": "fe136421-abe8-436f-a407-7f2a7ac4a985"
      },
      "outputs": [
        {
          "data": {
            "text/plain": [
              "array(['Hargrave', 'Hill', 'Onio', ..., 'Kashiwagi', 'Aldridge',\n",
              "       'Burbidge'], shape=(2932,), dtype=object)"
            ]
          },
          "execution_count": 111,
          "metadata": {},
          "output_type": "execute_result"
        }
      ],
      "source": [
        "df[\"Surname\"].unique()"
      ]
    },
    {
      "cell_type": "code",
      "execution_count": 112,
      "metadata": {
        "colab": {
          "base_uri": "https://localhost:8080/"
        },
        "id": "XL8FUm0lP1q3",
        "outputId": "02de6ba9-8f93-465e-a5c3-8fc280172f2b"
      },
      "outputs": [
        {
          "data": {
            "text/plain": [
              "(2932,)"
            ]
          },
          "execution_count": 112,
          "metadata": {},
          "output_type": "execute_result"
        }
      ],
      "source": [
        "df[\"Surname\"].unique().shape"
      ]
    },
    {
      "cell_type": "code",
      "execution_count": 113,
      "metadata": {
        "id": "76XCBdqLP43f"
      },
      "outputs": [],
      "source": [
        "df1=df.drop([\"RowNumber\",\"CustomerId\",\"Surname\"],axis=1)"
      ]
    },
    {
      "cell_type": "code",
      "execution_count": 114,
      "metadata": {
        "colab": {
          "base_uri": "https://localhost:8080/"
        },
        "id": "_sV7gASaQGM_",
        "outputId": "62f13c65-361d-4e02-ce66-68b59c0fe2a6"
      },
      "outputs": [
        {
          "data": {
            "text/plain": [
              "(10000, 14)"
            ]
          },
          "execution_count": 114,
          "metadata": {},
          "output_type": "execute_result"
        }
      ],
      "source": [
        "df.shape"
      ]
    },
    {
      "cell_type": "code",
      "execution_count": 115,
      "metadata": {
        "colab": {
          "base_uri": "https://localhost:8080/"
        },
        "id": "0QYSV58tQID2",
        "outputId": "7e48ae47-845f-48ce-b0b6-bb79506c8a46"
      },
      "outputs": [
        {
          "data": {
            "text/plain": [
              "(10000, 11)"
            ]
          },
          "execution_count": 115,
          "metadata": {},
          "output_type": "execute_result"
        }
      ],
      "source": [
        "df1.shape"
      ]
    },
    {
      "cell_type": "code",
      "execution_count": 116,
      "metadata": {
        "colab": {
          "base_uri": "https://localhost:8080/",
          "height": 226
        },
        "id": "CDDpSKYNQeNv",
        "outputId": "6fa444f1-cd0a-493c-8b01-8edcbecc3138"
      },
      "outputs": [
        {
          "data": {
            "text/html": [
              "<div>\n",
              "<style scoped>\n",
              "    .dataframe tbody tr th:only-of-type {\n",
              "        vertical-align: middle;\n",
              "    }\n",
              "\n",
              "    .dataframe tbody tr th {\n",
              "        vertical-align: top;\n",
              "    }\n",
              "\n",
              "    .dataframe thead th {\n",
              "        text-align: right;\n",
              "    }\n",
              "</style>\n",
              "<table border=\"1\" class=\"dataframe\">\n",
              "  <thead>\n",
              "    <tr style=\"text-align: right;\">\n",
              "      <th></th>\n",
              "      <th>CreditScore</th>\n",
              "      <th>Geography</th>\n",
              "      <th>Gender</th>\n",
              "      <th>Age</th>\n",
              "      <th>Tenure</th>\n",
              "      <th>Balance</th>\n",
              "      <th>NumOfProducts</th>\n",
              "      <th>HasCrCard</th>\n",
              "      <th>IsActiveMember</th>\n",
              "      <th>EstimatedSalary</th>\n",
              "      <th>Exited</th>\n",
              "    </tr>\n",
              "  </thead>\n",
              "  <tbody>\n",
              "    <tr>\n",
              "      <th>0</th>\n",
              "      <td>619</td>\n",
              "      <td>France</td>\n",
              "      <td>Female</td>\n",
              "      <td>42</td>\n",
              "      <td>2</td>\n",
              "      <td>0.00</td>\n",
              "      <td>1</td>\n",
              "      <td>1</td>\n",
              "      <td>1</td>\n",
              "      <td>101348.88</td>\n",
              "      <td>1</td>\n",
              "    </tr>\n",
              "    <tr>\n",
              "      <th>1</th>\n",
              "      <td>608</td>\n",
              "      <td>Spain</td>\n",
              "      <td>Female</td>\n",
              "      <td>41</td>\n",
              "      <td>1</td>\n",
              "      <td>83807.86</td>\n",
              "      <td>1</td>\n",
              "      <td>0</td>\n",
              "      <td>1</td>\n",
              "      <td>112542.58</td>\n",
              "      <td>0</td>\n",
              "    </tr>\n",
              "    <tr>\n",
              "      <th>2</th>\n",
              "      <td>502</td>\n",
              "      <td>France</td>\n",
              "      <td>Female</td>\n",
              "      <td>42</td>\n",
              "      <td>8</td>\n",
              "      <td>159660.80</td>\n",
              "      <td>3</td>\n",
              "      <td>1</td>\n",
              "      <td>0</td>\n",
              "      <td>113931.57</td>\n",
              "      <td>1</td>\n",
              "    </tr>\n",
              "    <tr>\n",
              "      <th>3</th>\n",
              "      <td>699</td>\n",
              "      <td>France</td>\n",
              "      <td>Female</td>\n",
              "      <td>39</td>\n",
              "      <td>1</td>\n",
              "      <td>0.00</td>\n",
              "      <td>2</td>\n",
              "      <td>0</td>\n",
              "      <td>0</td>\n",
              "      <td>93826.63</td>\n",
              "      <td>0</td>\n",
              "    </tr>\n",
              "    <tr>\n",
              "      <th>4</th>\n",
              "      <td>850</td>\n",
              "      <td>Spain</td>\n",
              "      <td>Female</td>\n",
              "      <td>43</td>\n",
              "      <td>2</td>\n",
              "      <td>125510.82</td>\n",
              "      <td>1</td>\n",
              "      <td>1</td>\n",
              "      <td>1</td>\n",
              "      <td>79084.10</td>\n",
              "      <td>0</td>\n",
              "    </tr>\n",
              "  </tbody>\n",
              "</table>\n",
              "</div>"
            ],
            "text/plain": [
              "   CreditScore Geography  Gender  Age  Tenure    Balance  NumOfProducts  \\\n",
              "0          619    France  Female   42       2       0.00              1   \n",
              "1          608     Spain  Female   41       1   83807.86              1   \n",
              "2          502    France  Female   42       8  159660.80              3   \n",
              "3          699    France  Female   39       1       0.00              2   \n",
              "4          850     Spain  Female   43       2  125510.82              1   \n",
              "\n",
              "   HasCrCard  IsActiveMember  EstimatedSalary  Exited  \n",
              "0          1               1        101348.88       1  \n",
              "1          0               1        112542.58       0  \n",
              "2          1               0        113931.57       1  \n",
              "3          0               0         93826.63       0  \n",
              "4          1               1         79084.10       0  "
            ]
          },
          "execution_count": 116,
          "metadata": {},
          "output_type": "execute_result"
        }
      ],
      "source": [
        "df1.head()"
      ]
    },
    {
      "cell_type": "code",
      "execution_count": 117,
      "metadata": {
        "colab": {
          "base_uri": "https://localhost:8080/",
          "height": 209
        },
        "id": "AvFjgFTUQfqG",
        "outputId": "e56a7e44-69fc-4f4c-a422-ed30e2e4f710"
      },
      "outputs": [
        {
          "data": {
            "text/plain": [
              "Geography\n",
              "France     5014\n",
              "Germany    2509\n",
              "Spain      2477\n",
              "Name: count, dtype: int64"
            ]
          },
          "execution_count": 117,
          "metadata": {},
          "output_type": "execute_result"
        }
      ],
      "source": [
        "df[\"Geography\"].value_counts()"
      ]
    },
    {
      "cell_type": "code",
      "execution_count": 118,
      "metadata": {
        "colab": {
          "base_uri": "https://localhost:8080/",
          "height": 178
        },
        "id": "MJo8WN4gQnPn",
        "outputId": "a7367862-5cbf-4500-bcb2-7e5dc98c48df"
      },
      "outputs": [
        {
          "data": {
            "text/plain": [
              "Gender\n",
              "Male      5457\n",
              "Female    4543\n",
              "Name: count, dtype: int64"
            ]
          },
          "execution_count": 118,
          "metadata": {},
          "output_type": "execute_result"
        }
      ],
      "source": [
        "df[\"Gender\"].value_counts()"
      ]
    },
    {
      "cell_type": "code",
      "execution_count": 119,
      "metadata": {
        "colab": {
          "base_uri": "https://localhost:8080/",
          "height": 523
        },
        "id": "LEC0MBx5Qr1e",
        "outputId": "2af4bb93-2df4-41a6-c8ce-05bf4c774c91"
      },
      "outputs": [
        {
          "data": {
            "text/plain": [
              "RowNumber          0\n",
              "CustomerId         0\n",
              "Surname            0\n",
              "CreditScore        0\n",
              "Geography          0\n",
              "Gender             0\n",
              "Age                0\n",
              "Tenure             0\n",
              "Balance            0\n",
              "NumOfProducts      0\n",
              "HasCrCard          0\n",
              "IsActiveMember     0\n",
              "EstimatedSalary    0\n",
              "Exited             0\n",
              "dtype: int64"
            ]
          },
          "execution_count": 119,
          "metadata": {},
          "output_type": "execute_result"
        }
      ],
      "source": [
        "df.isnull().sum()"
      ]
    },
    {
      "cell_type": "code",
      "execution_count": 120,
      "metadata": {
        "colab": {
          "base_uri": "https://localhost:8080/"
        },
        "id": "nxRlXB75RPqW",
        "outputId": "7c448768-7bbb-44fa-b0a4-d8b668bd17dc"
      },
      "outputs": [
        {
          "data": {
            "text/plain": [
              "np.int64(0)"
            ]
          },
          "execution_count": 120,
          "metadata": {},
          "output_type": "execute_result"
        }
      ],
      "source": [
        "df.duplicated().sum()"
      ]
    },
    {
      "cell_type": "code",
      "execution_count": 121,
      "metadata": {
        "id": "AZbnChQ4RR4_"
      },
      "outputs": [],
      "source": [
        "num_features=list(df1.select_dtypes(exclude=\"O\").columns)\n",
        "col_features=list(df1.select_dtypes(include=\"O\").columns)"
      ]
    },
    {
      "cell_type": "code",
      "execution_count": 122,
      "metadata": {
        "colab": {
          "base_uri": "https://localhost:8080/"
        },
        "id": "Jz6yH5cxRu8G",
        "outputId": "dcdc9a67-6981-458c-e6e7-c513e8741067"
      },
      "outputs": [
        {
          "data": {
            "text/plain": [
              "(['CreditScore',\n",
              "  'Age',\n",
              "  'Tenure',\n",
              "  'Balance',\n",
              "  'NumOfProducts',\n",
              "  'HasCrCard',\n",
              "  'IsActiveMember',\n",
              "  'EstimatedSalary',\n",
              "  'Exited'],\n",
              " ['Geography', 'Gender'])"
            ]
          },
          "execution_count": 122,
          "metadata": {},
          "output_type": "execute_result"
        }
      ],
      "source": [
        "num_features,col_features"
      ]
    },
    {
      "cell_type": "code",
      "execution_count": 123,
      "metadata": {
        "colab": {
          "base_uri": "https://localhost:8080/",
          "height": 320
        },
        "id": "5tDImJBgR5Wx",
        "outputId": "1e2c8735-c0aa-4df2-8ee0-9ff012ea74d5"
      },
      "outputs": [
        {
          "data": {
            "text/html": [
              "<div>\n",
              "<style scoped>\n",
              "    .dataframe tbody tr th:only-of-type {\n",
              "        vertical-align: middle;\n",
              "    }\n",
              "\n",
              "    .dataframe tbody tr th {\n",
              "        vertical-align: top;\n",
              "    }\n",
              "\n",
              "    .dataframe thead th {\n",
              "        text-align: right;\n",
              "    }\n",
              "</style>\n",
              "<table border=\"1\" class=\"dataframe\">\n",
              "  <thead>\n",
              "    <tr style=\"text-align: right;\">\n",
              "      <th></th>\n",
              "      <th>RowNumber</th>\n",
              "      <th>CustomerId</th>\n",
              "      <th>CreditScore</th>\n",
              "      <th>Age</th>\n",
              "      <th>Tenure</th>\n",
              "      <th>Balance</th>\n",
              "      <th>NumOfProducts</th>\n",
              "      <th>HasCrCard</th>\n",
              "      <th>IsActiveMember</th>\n",
              "      <th>EstimatedSalary</th>\n",
              "      <th>Exited</th>\n",
              "    </tr>\n",
              "  </thead>\n",
              "  <tbody>\n",
              "    <tr>\n",
              "      <th>count</th>\n",
              "      <td>10000.00000</td>\n",
              "      <td>1.000000e+04</td>\n",
              "      <td>10000.000000</td>\n",
              "      <td>10000.000000</td>\n",
              "      <td>10000.000000</td>\n",
              "      <td>10000.000000</td>\n",
              "      <td>10000.000000</td>\n",
              "      <td>10000.00000</td>\n",
              "      <td>10000.000000</td>\n",
              "      <td>10000.000000</td>\n",
              "      <td>10000.000000</td>\n",
              "    </tr>\n",
              "    <tr>\n",
              "      <th>mean</th>\n",
              "      <td>5000.50000</td>\n",
              "      <td>1.569094e+07</td>\n",
              "      <td>650.528800</td>\n",
              "      <td>38.921800</td>\n",
              "      <td>5.012800</td>\n",
              "      <td>76485.889288</td>\n",
              "      <td>1.530200</td>\n",
              "      <td>0.70550</td>\n",
              "      <td>0.515100</td>\n",
              "      <td>100090.239881</td>\n",
              "      <td>0.203700</td>\n",
              "    </tr>\n",
              "    <tr>\n",
              "      <th>std</th>\n",
              "      <td>2886.89568</td>\n",
              "      <td>7.193619e+04</td>\n",
              "      <td>96.653299</td>\n",
              "      <td>10.487806</td>\n",
              "      <td>2.892174</td>\n",
              "      <td>62397.405202</td>\n",
              "      <td>0.581654</td>\n",
              "      <td>0.45584</td>\n",
              "      <td>0.499797</td>\n",
              "      <td>57510.492818</td>\n",
              "      <td>0.402769</td>\n",
              "    </tr>\n",
              "    <tr>\n",
              "      <th>min</th>\n",
              "      <td>1.00000</td>\n",
              "      <td>1.556570e+07</td>\n",
              "      <td>350.000000</td>\n",
              "      <td>18.000000</td>\n",
              "      <td>0.000000</td>\n",
              "      <td>0.000000</td>\n",
              "      <td>1.000000</td>\n",
              "      <td>0.00000</td>\n",
              "      <td>0.000000</td>\n",
              "      <td>11.580000</td>\n",
              "      <td>0.000000</td>\n",
              "    </tr>\n",
              "    <tr>\n",
              "      <th>25%</th>\n",
              "      <td>2500.75000</td>\n",
              "      <td>1.562853e+07</td>\n",
              "      <td>584.000000</td>\n",
              "      <td>32.000000</td>\n",
              "      <td>3.000000</td>\n",
              "      <td>0.000000</td>\n",
              "      <td>1.000000</td>\n",
              "      <td>0.00000</td>\n",
              "      <td>0.000000</td>\n",
              "      <td>51002.110000</td>\n",
              "      <td>0.000000</td>\n",
              "    </tr>\n",
              "    <tr>\n",
              "      <th>50%</th>\n",
              "      <td>5000.50000</td>\n",
              "      <td>1.569074e+07</td>\n",
              "      <td>652.000000</td>\n",
              "      <td>37.000000</td>\n",
              "      <td>5.000000</td>\n",
              "      <td>97198.540000</td>\n",
              "      <td>1.000000</td>\n",
              "      <td>1.00000</td>\n",
              "      <td>1.000000</td>\n",
              "      <td>100193.915000</td>\n",
              "      <td>0.000000</td>\n",
              "    </tr>\n",
              "    <tr>\n",
              "      <th>75%</th>\n",
              "      <td>7500.25000</td>\n",
              "      <td>1.575323e+07</td>\n",
              "      <td>718.000000</td>\n",
              "      <td>44.000000</td>\n",
              "      <td>7.000000</td>\n",
              "      <td>127644.240000</td>\n",
              "      <td>2.000000</td>\n",
              "      <td>1.00000</td>\n",
              "      <td>1.000000</td>\n",
              "      <td>149388.247500</td>\n",
              "      <td>0.000000</td>\n",
              "    </tr>\n",
              "    <tr>\n",
              "      <th>max</th>\n",
              "      <td>10000.00000</td>\n",
              "      <td>1.581569e+07</td>\n",
              "      <td>850.000000</td>\n",
              "      <td>92.000000</td>\n",
              "      <td>10.000000</td>\n",
              "      <td>250898.090000</td>\n",
              "      <td>4.000000</td>\n",
              "      <td>1.00000</td>\n",
              "      <td>1.000000</td>\n",
              "      <td>199992.480000</td>\n",
              "      <td>1.000000</td>\n",
              "    </tr>\n",
              "  </tbody>\n",
              "</table>\n",
              "</div>"
            ],
            "text/plain": [
              "         RowNumber    CustomerId   CreditScore           Age        Tenure  \\\n",
              "count  10000.00000  1.000000e+04  10000.000000  10000.000000  10000.000000   \n",
              "mean    5000.50000  1.569094e+07    650.528800     38.921800      5.012800   \n",
              "std     2886.89568  7.193619e+04     96.653299     10.487806      2.892174   \n",
              "min        1.00000  1.556570e+07    350.000000     18.000000      0.000000   \n",
              "25%     2500.75000  1.562853e+07    584.000000     32.000000      3.000000   \n",
              "50%     5000.50000  1.569074e+07    652.000000     37.000000      5.000000   \n",
              "75%     7500.25000  1.575323e+07    718.000000     44.000000      7.000000   \n",
              "max    10000.00000  1.581569e+07    850.000000     92.000000     10.000000   \n",
              "\n",
              "             Balance  NumOfProducts    HasCrCard  IsActiveMember  \\\n",
              "count   10000.000000   10000.000000  10000.00000    10000.000000   \n",
              "mean    76485.889288       1.530200      0.70550        0.515100   \n",
              "std     62397.405202       0.581654      0.45584        0.499797   \n",
              "min         0.000000       1.000000      0.00000        0.000000   \n",
              "25%         0.000000       1.000000      0.00000        0.000000   \n",
              "50%     97198.540000       1.000000      1.00000        1.000000   \n",
              "75%    127644.240000       2.000000      1.00000        1.000000   \n",
              "max    250898.090000       4.000000      1.00000        1.000000   \n",
              "\n",
              "       EstimatedSalary        Exited  \n",
              "count     10000.000000  10000.000000  \n",
              "mean     100090.239881      0.203700  \n",
              "std       57510.492818      0.402769  \n",
              "min          11.580000      0.000000  \n",
              "25%       51002.110000      0.000000  \n",
              "50%      100193.915000      0.000000  \n",
              "75%      149388.247500      0.000000  \n",
              "max      199992.480000      1.000000  "
            ]
          },
          "execution_count": 123,
          "metadata": {},
          "output_type": "execute_result"
        }
      ],
      "source": [
        "df.describe()"
      ]
    },
    {
      "cell_type": "code",
      "execution_count": 124,
      "metadata": {
        "colab": {
          "base_uri": "https://localhost:8080/"
        },
        "id": "OnQemFE3R7Je",
        "outputId": "64fd4c91-2b34-4407-b894-da3f86adc1c0"
      },
      "outputs": [
        {
          "name": "stdout",
          "output_type": "stream",
          "text": [
            "<class 'pandas.core.frame.DataFrame'>\n",
            "RangeIndex: 10000 entries, 0 to 9999\n",
            "Data columns (total 14 columns):\n",
            " #   Column           Non-Null Count  Dtype  \n",
            "---  ------           --------------  -----  \n",
            " 0   RowNumber        10000 non-null  int64  \n",
            " 1   CustomerId       10000 non-null  int64  \n",
            " 2   Surname          10000 non-null  object \n",
            " 3   CreditScore      10000 non-null  int64  \n",
            " 4   Geography        10000 non-null  object \n",
            " 5   Gender           10000 non-null  object \n",
            " 6   Age              10000 non-null  int64  \n",
            " 7   Tenure           10000 non-null  int64  \n",
            " 8   Balance          10000 non-null  float64\n",
            " 9   NumOfProducts    10000 non-null  int64  \n",
            " 10  HasCrCard        10000 non-null  int64  \n",
            " 11  IsActiveMember   10000 non-null  int64  \n",
            " 12  EstimatedSalary  10000 non-null  float64\n",
            " 13  Exited           10000 non-null  int64  \n",
            "dtypes: float64(2), int64(9), object(3)\n",
            "memory usage: 1.1+ MB\n"
          ]
        }
      ],
      "source": [
        "df.info()"
      ]
    },
    {
      "cell_type": "code",
      "execution_count": 125,
      "metadata": {
        "id": "U_9eSKx6R8C-"
      },
      "outputs": [],
      "source": [
        "target=\"Exited\""
      ]
    },
    {
      "cell_type": "code",
      "execution_count": 126,
      "metadata": {
        "colab": {
          "base_uri": "https://localhost:8080/"
        },
        "id": "6Q1A1-YpSVGZ",
        "outputId": "702651f7-eae6-4ef2-ed46-a846ac815acc"
      },
      "outputs": [
        {
          "name": "stdout",
          "output_type": "stream",
          "text": [
            "<class 'str'>\n",
            "<class 'list'>\n",
            "<class 'list'>\n"
          ]
        }
      ],
      "source": [
        "print(type(target))\n",
        "print(type(num_features))\n",
        "print(type(col_features))"
      ]
    },
    {
      "cell_type": "code",
      "execution_count": 127,
      "metadata": {
        "id": "ZZP9U6zUSADP"
      },
      "outputs": [],
      "source": [
        "if target in num_features:\n",
        "  num_features.remove(target)\n",
        "\n",
        "if target in col_features:\n",
        "  col_features.remove(target)"
      ]
    },
    {
      "cell_type": "code",
      "execution_count": 128,
      "metadata": {
        "colab": {
          "base_uri": "https://localhost:8080/"
        },
        "id": "bexSxvbuSOeo",
        "outputId": "bc2f9342-fa8b-4656-c643-86a1d904ada1"
      },
      "outputs": [
        {
          "data": {
            "text/plain": [
              "(['CreditScore',\n",
              "  'Age',\n",
              "  'Tenure',\n",
              "  'Balance',\n",
              "  'NumOfProducts',\n",
              "  'HasCrCard',\n",
              "  'IsActiveMember',\n",
              "  'EstimatedSalary'],\n",
              " ['Geography', 'Gender'])"
            ]
          },
          "execution_count": 128,
          "metadata": {},
          "output_type": "execute_result"
        }
      ],
      "source": [
        "num_features,col_features"
      ]
    },
    {
      "cell_type": "code",
      "execution_count": 129,
      "metadata": {
        "id": "EWlRCy7hTbWJ"
      },
      "outputs": [],
      "source": [
        "x_train,x_test,y_train,y_test=train_test_split(\n",
        "    df1.drop(target,axis=1),\n",
        "    df1[target],\n",
        "    test_size=0.25,\n",
        "    random_state=42\n",
        ")"
      ]
    },
    {
      "cell_type": "code",
      "execution_count": 130,
      "metadata": {
        "colab": {
          "base_uri": "https://localhost:8080/"
        },
        "id": "Ms9d9lEnTv_f",
        "outputId": "e11bb42d-f1d7-4b13-e8b7-c2c31816d4d5"
      },
      "outputs": [
        {
          "data": {
            "text/plain": [
              "((7500, 10), (2500, 10), (7500,), (2500,))"
            ]
          },
          "execution_count": 130,
          "metadata": {},
          "output_type": "execute_result"
        }
      ],
      "source": [
        "x_train.shape,x_test.shape,y_train.shape,y_test.shape"
      ]
    },
    {
      "cell_type": "code",
      "execution_count": 131,
      "metadata": {
        "colab": {
          "base_uri": "https://localhost:8080/"
        },
        "id": "obdZseyfU0Li",
        "outputId": "901c40bf-a485-4b97-ee67-a77811aac2d7"
      },
      "outputs": [
        {
          "data": {
            "text/plain": [
              "(      CreditScore Geography  Gender  Age  Tenure    Balance  NumOfProducts  \\\n",
              " 4901          673    France    Male   59       0  178058.06              2   \n",
              " 4375          850   Germany    Male   41       8   60880.68              1   \n",
              " 6698          725    France  Female   31       6       0.00              1   \n",
              " 9805          644    France    Male   33       7  174571.36              1   \n",
              " 1101          703     Spain    Male   29       9       0.00              2   \n",
              " \n",
              "       HasCrCard  IsActiveMember  EstimatedSalary  \n",
              " 4901          0               1         21063.71  \n",
              " 4375          1               0         31825.84  \n",
              " 6698          0               0         61326.43  \n",
              " 9805          0               1         43943.09  \n",
              " 1101          1               0         50679.48  ,\n",
              " 4901    1\n",
              " 4375    0\n",
              " 6698    0\n",
              " 9805    0\n",
              " 1101    0\n",
              " Name: Exited, dtype: int64)"
            ]
          },
          "execution_count": 131,
          "metadata": {},
          "output_type": "execute_result"
        }
      ],
      "source": [
        "x_train.head(),y_train.head()"
      ]
    },
    {
      "cell_type": "code",
      "execution_count": 132,
      "metadata": {
        "id": "uEmqfogRS4fG"
      },
      "outputs": [],
      "source": [
        "preprocessor=ColumnTransformer([\n",
        "    (\"standard_scaler\",StandardScaler(),num_features),\n",
        "    (\"categorical_scaler\",OneHotEncoder(handle_unknown=\"ignore\"),col_features)\n",
        "])"
      ]
    },
    {
      "cell_type": "code",
      "execution_count": 133,
      "metadata": {
        "id": "K90R73NYT2kv"
      },
      "outputs": [],
      "source": [
        "x_train=preprocessor.fit_transform(x_train)\n",
        "x_test=preprocessor.transform(x_test)"
      ]
    },
    {
      "cell_type": "code",
      "execution_count": 134,
      "metadata": {},
      "outputs": [],
      "source": [
        "x_train_df=pd.DataFrame(\n",
        "    x_train,\n",
        "    columns=preprocessor.get_feature_names_out()\n",
        ")\n",
        "x_test_df=pd.DataFrame(\n",
        "    x_test,\n",
        "    columns=preprocessor.get_feature_names_out()\n",
        ")"
      ]
    },
    {
      "cell_type": "code",
      "execution_count": 135,
      "metadata": {},
      "outputs": [
        {
          "data": {
            "text/plain": [
              "((7500, 13), (2500, 13))"
            ]
          },
          "execution_count": 135,
          "metadata": {},
          "output_type": "execute_result"
        }
      ],
      "source": [
        "x_train.shape,x_test.shape"
      ]
    },
    {
      "cell_type": "code",
      "execution_count": 137,
      "metadata": {},
      "outputs": [
        {
          "data": {
            "text/html": [
              "<div>\n",
              "<style scoped>\n",
              "    .dataframe tbody tr th:only-of-type {\n",
              "        vertical-align: middle;\n",
              "    }\n",
              "\n",
              "    .dataframe tbody tr th {\n",
              "        vertical-align: top;\n",
              "    }\n",
              "\n",
              "    .dataframe thead th {\n",
              "        text-align: right;\n",
              "    }\n",
              "</style>\n",
              "<table border=\"1\" class=\"dataframe\">\n",
              "  <thead>\n",
              "    <tr style=\"text-align: right;\">\n",
              "      <th></th>\n",
              "      <th>standard_scaler__CreditScore</th>\n",
              "      <th>standard_scaler__Age</th>\n",
              "      <th>standard_scaler__Tenure</th>\n",
              "      <th>standard_scaler__Balance</th>\n",
              "      <th>standard_scaler__NumOfProducts</th>\n",
              "      <th>standard_scaler__HasCrCard</th>\n",
              "      <th>standard_scaler__IsActiveMember</th>\n",
              "      <th>standard_scaler__EstimatedSalary</th>\n",
              "      <th>categorical_scaler__Geography_France</th>\n",
              "      <th>categorical_scaler__Geography_Germany</th>\n",
              "      <th>categorical_scaler__Geography_Spain</th>\n",
              "      <th>categorical_scaler__Gender_Female</th>\n",
              "      <th>categorical_scaler__Gender_Male</th>\n",
              "    </tr>\n",
              "  </thead>\n",
              "  <tbody>\n",
              "    <tr>\n",
              "      <th>0</th>\n",
              "      <td>0.218351</td>\n",
              "      <td>1.916619</td>\n",
              "      <td>-1.731689</td>\n",
              "      <td>1.629928</td>\n",
              "      <td>0.813111</td>\n",
              "      <td>-1.539736</td>\n",
              "      <td>0.969789</td>\n",
              "      <td>-1.382844</td>\n",
              "      <td>1.0</td>\n",
              "      <td>0.0</td>\n",
              "      <td>0.0</td>\n",
              "      <td>0.0</td>\n",
              "      <td>1.0</td>\n",
              "    </tr>\n",
              "    <tr>\n",
              "      <th>1</th>\n",
              "      <td>2.057280</td>\n",
              "      <td>0.202109</td>\n",
              "      <td>1.041750</td>\n",
              "      <td>-0.246244</td>\n",
              "      <td>-0.911043</td>\n",
              "      <td>0.649462</td>\n",
              "      <td>-1.031152</td>\n",
              "      <td>-1.195890</td>\n",
              "      <td>0.0</td>\n",
              "      <td>1.0</td>\n",
              "      <td>0.0</td>\n",
              "      <td>0.0</td>\n",
              "      <td>1.0</td>\n",
              "    </tr>\n",
              "    <tr>\n",
              "      <th>2</th>\n",
              "      <td>0.758602</td>\n",
              "      <td>-0.750397</td>\n",
              "      <td>0.348390</td>\n",
              "      <td>-1.221027</td>\n",
              "      <td>-0.911043</td>\n",
              "      <td>-1.539736</td>\n",
              "      <td>-1.031152</td>\n",
              "      <td>-0.683422</td>\n",
              "      <td>1.0</td>\n",
              "      <td>0.0</td>\n",
              "      <td>0.0</td>\n",
              "      <td>1.0</td>\n",
              "      <td>0.0</td>\n",
              "    </tr>\n",
              "    <tr>\n",
              "      <th>3</th>\n",
              "      <td>-0.082942</td>\n",
              "      <td>-0.559895</td>\n",
              "      <td>0.695070</td>\n",
              "      <td>1.574101</td>\n",
              "      <td>-0.911043</td>\n",
              "      <td>-1.539736</td>\n",
              "      <td>0.969789</td>\n",
              "      <td>-0.985396</td>\n",
              "      <td>1.0</td>\n",
              "      <td>0.0</td>\n",
              "      <td>0.0</td>\n",
              "      <td>0.0</td>\n",
              "      <td>1.0</td>\n",
              "    </tr>\n",
              "    <tr>\n",
              "      <th>4</th>\n",
              "      <td>0.530034</td>\n",
              "      <td>-0.940898</td>\n",
              "      <td>1.388429</td>\n",
              "      <td>-1.221027</td>\n",
              "      <td>0.813111</td>\n",
              "      <td>0.649462</td>\n",
              "      <td>-1.031152</td>\n",
              "      <td>-0.868375</td>\n",
              "      <td>0.0</td>\n",
              "      <td>0.0</td>\n",
              "      <td>1.0</td>\n",
              "      <td>0.0</td>\n",
              "      <td>1.0</td>\n",
              "    </tr>\n",
              "  </tbody>\n",
              "</table>\n",
              "</div>"
            ],
            "text/plain": [
              "   standard_scaler__CreditScore  standard_scaler__Age  \\\n",
              "0                      0.218351              1.916619   \n",
              "1                      2.057280              0.202109   \n",
              "2                      0.758602             -0.750397   \n",
              "3                     -0.082942             -0.559895   \n",
              "4                      0.530034             -0.940898   \n",
              "\n",
              "   standard_scaler__Tenure  standard_scaler__Balance  \\\n",
              "0                -1.731689                  1.629928   \n",
              "1                 1.041750                 -0.246244   \n",
              "2                 0.348390                 -1.221027   \n",
              "3                 0.695070                  1.574101   \n",
              "4                 1.388429                 -1.221027   \n",
              "\n",
              "   standard_scaler__NumOfProducts  standard_scaler__HasCrCard  \\\n",
              "0                        0.813111                   -1.539736   \n",
              "1                       -0.911043                    0.649462   \n",
              "2                       -0.911043                   -1.539736   \n",
              "3                       -0.911043                   -1.539736   \n",
              "4                        0.813111                    0.649462   \n",
              "\n",
              "   standard_scaler__IsActiveMember  standard_scaler__EstimatedSalary  \\\n",
              "0                         0.969789                         -1.382844   \n",
              "1                        -1.031152                         -1.195890   \n",
              "2                        -1.031152                         -0.683422   \n",
              "3                         0.969789                         -0.985396   \n",
              "4                        -1.031152                         -0.868375   \n",
              "\n",
              "   categorical_scaler__Geography_France  \\\n",
              "0                                   1.0   \n",
              "1                                   0.0   \n",
              "2                                   1.0   \n",
              "3                                   1.0   \n",
              "4                                   0.0   \n",
              "\n",
              "   categorical_scaler__Geography_Germany  categorical_scaler__Geography_Spain  \\\n",
              "0                                    0.0                                  0.0   \n",
              "1                                    1.0                                  0.0   \n",
              "2                                    0.0                                  0.0   \n",
              "3                                    0.0                                  0.0   \n",
              "4                                    0.0                                  1.0   \n",
              "\n",
              "   categorical_scaler__Gender_Female  categorical_scaler__Gender_Male  \n",
              "0                                0.0                              1.0  \n",
              "1                                0.0                              1.0  \n",
              "2                                1.0                              0.0  \n",
              "3                                0.0                              1.0  \n",
              "4                                0.0                              1.0  "
            ]
          },
          "execution_count": 137,
          "metadata": {},
          "output_type": "execute_result"
        }
      ],
      "source": [
        "x_train_df.head()"
      ]
    },
    {
      "cell_type": "code",
      "execution_count": 139,
      "metadata": {
        "id": "gVdGc5egd0Op"
      },
      "outputs": [],
      "source": [
        "preprocessor_file_name=\"preprocessor.pkl\"\n",
        "with open(preprocessor_file_name,\"wb\") as file:\n",
        "  pickle.dump(preprocessor,file)"
      ]
    },
    {
      "cell_type": "code",
      "execution_count": 140,
      "metadata": {
        "colab": {
          "base_uri": "https://localhost:8080/",
          "height": 320
        },
        "id": "-XKuFWPiWGQ4",
        "outputId": "f52074e9-e4aa-4a06-d90e-bb4e637cc7e5"
      },
      "outputs": [
        {
          "data": {
            "text/html": [
              "<div>\n",
              "<style scoped>\n",
              "    .dataframe tbody tr th:only-of-type {\n",
              "        vertical-align: middle;\n",
              "    }\n",
              "\n",
              "    .dataframe tbody tr th {\n",
              "        vertical-align: top;\n",
              "    }\n",
              "\n",
              "    .dataframe thead th {\n",
              "        text-align: right;\n",
              "    }\n",
              "</style>\n",
              "<table border=\"1\" class=\"dataframe\">\n",
              "  <thead>\n",
              "    <tr style=\"text-align: right;\">\n",
              "      <th></th>\n",
              "      <th>standard_scaler__CreditScore</th>\n",
              "      <th>standard_scaler__Age</th>\n",
              "      <th>standard_scaler__Tenure</th>\n",
              "      <th>standard_scaler__Balance</th>\n",
              "      <th>standard_scaler__NumOfProducts</th>\n",
              "      <th>standard_scaler__HasCrCard</th>\n",
              "      <th>standard_scaler__IsActiveMember</th>\n",
              "      <th>standard_scaler__EstimatedSalary</th>\n",
              "      <th>categorical_scaler__Geography_France</th>\n",
              "      <th>categorical_scaler__Geography_Germany</th>\n",
              "      <th>categorical_scaler__Geography_Spain</th>\n",
              "      <th>categorical_scaler__Gender_Female</th>\n",
              "      <th>categorical_scaler__Gender_Male</th>\n",
              "    </tr>\n",
              "  </thead>\n",
              "  <tbody>\n",
              "    <tr>\n",
              "      <th>count</th>\n",
              "      <td>7.500000e+03</td>\n",
              "      <td>7.500000e+03</td>\n",
              "      <td>7.500000e+03</td>\n",
              "      <td>7.500000e+03</td>\n",
              "      <td>7.500000e+03</td>\n",
              "      <td>7.500000e+03</td>\n",
              "      <td>7.500000e+03</td>\n",
              "      <td>7.500000e+03</td>\n",
              "      <td>7500.000000</td>\n",
              "      <td>7500.000000</td>\n",
              "      <td>7500.000000</td>\n",
              "      <td>7500.000000</td>\n",
              "      <td>7500.000000</td>\n",
              "    </tr>\n",
              "    <tr>\n",
              "      <th>mean</th>\n",
              "      <td>-1.601090e-16</td>\n",
              "      <td>2.496373e-16</td>\n",
              "      <td>8.715991e-17</td>\n",
              "      <td>-7.437014e-17</td>\n",
              "      <td>4.736952e-17</td>\n",
              "      <td>-6.442254e-17</td>\n",
              "      <td>-2.273737e-17</td>\n",
              "      <td>2.520058e-16</td>\n",
              "      <td>0.499733</td>\n",
              "      <td>0.250267</td>\n",
              "      <td>0.250000</td>\n",
              "      <td>0.454000</td>\n",
              "      <td>0.546000</td>\n",
              "    </tr>\n",
              "    <tr>\n",
              "      <th>std</th>\n",
              "      <td>1.000067e+00</td>\n",
              "      <td>1.000067e+00</td>\n",
              "      <td>1.000067e+00</td>\n",
              "      <td>1.000067e+00</td>\n",
              "      <td>1.000067e+00</td>\n",
              "      <td>1.000067e+00</td>\n",
              "      <td>1.000067e+00</td>\n",
              "      <td>1.000067e+00</td>\n",
              "      <td>0.500033</td>\n",
              "      <td>0.433195</td>\n",
              "      <td>0.433042</td>\n",
              "      <td>0.497913</td>\n",
              "      <td>0.497913</td>\n",
              "    </tr>\n",
              "    <tr>\n",
              "      <th>min</th>\n",
              "      <td>-3.137435e+00</td>\n",
              "      <td>-1.988654e+00</td>\n",
              "      <td>-1.731689e+00</td>\n",
              "      <td>-1.221027e+00</td>\n",
              "      <td>-9.110434e-01</td>\n",
              "      <td>-1.539736e+00</td>\n",
              "      <td>-1.031152e+00</td>\n",
              "      <td>-1.747187e+00</td>\n",
              "      <td>0.000000</td>\n",
              "      <td>0.000000</td>\n",
              "      <td>0.000000</td>\n",
              "      <td>0.000000</td>\n",
              "      <td>0.000000</td>\n",
              "    </tr>\n",
              "    <tr>\n",
              "      <th>25%</th>\n",
              "      <td>-6.855292e-01</td>\n",
              "      <td>-6.551460e-01</td>\n",
              "      <td>-6.916493e-01</td>\n",
              "      <td>-1.221027e+00</td>\n",
              "      <td>-9.110434e-01</td>\n",
              "      <td>-1.539736e+00</td>\n",
              "      <td>-1.031152e+00</td>\n",
              "      <td>-8.530301e-01</td>\n",
              "      <td>0.000000</td>\n",
              "      <td>0.000000</td>\n",
              "      <td>0.000000</td>\n",
              "      <td>0.000000</td>\n",
              "      <td>0.000000</td>\n",
              "    </tr>\n",
              "    <tr>\n",
              "      <th>50%</th>\n",
              "      <td>1.056259e-02</td>\n",
              "      <td>-1.788933e-01</td>\n",
              "      <td>1.710287e-03</td>\n",
              "      <td>3.243009e-01</td>\n",
              "      <td>-9.110434e-01</td>\n",
              "      <td>6.494620e-01</td>\n",
              "      <td>9.697895e-01</td>\n",
              "      <td>-7.300857e-04</td>\n",
              "      <td>0.000000</td>\n",
              "      <td>0.000000</td>\n",
              "      <td>0.000000</td>\n",
              "      <td>0.000000</td>\n",
              "      <td>1.000000</td>\n",
              "    </tr>\n",
              "    <tr>\n",
              "      <th>75%</th>\n",
              "      <td>6.962650e-01</td>\n",
              "      <td>4.878607e-01</td>\n",
              "      <td>6.950699e-01</td>\n",
              "      <td>8.233967e-01</td>\n",
              "      <td>8.131114e-01</td>\n",
              "      <td>6.494620e-01</td>\n",
              "      <td>9.697895e-01</td>\n",
              "      <td>8.561404e-01</td>\n",
              "      <td>1.000000</td>\n",
              "      <td>1.000000</td>\n",
              "      <td>0.250000</td>\n",
              "      <td>1.000000</td>\n",
              "      <td>1.000000</td>\n",
              "    </tr>\n",
              "    <tr>\n",
              "      <th>max</th>\n",
              "      <td>2.057280e+00</td>\n",
              "      <td>5.059888e+00</td>\n",
              "      <td>1.735109e+00</td>\n",
              "      <td>2.796197e+00</td>\n",
              "      <td>4.261421e+00</td>\n",
              "      <td>6.494620e-01</td>\n",
              "      <td>9.697895e-01</td>\n",
              "      <td>1.725030e+00</td>\n",
              "      <td>1.000000</td>\n",
              "      <td>1.000000</td>\n",
              "      <td>1.000000</td>\n",
              "      <td>1.000000</td>\n",
              "      <td>1.000000</td>\n",
              "    </tr>\n",
              "  </tbody>\n",
              "</table>\n",
              "</div>"
            ],
            "text/plain": [
              "       standard_scaler__CreditScore  standard_scaler__Age  \\\n",
              "count                  7.500000e+03          7.500000e+03   \n",
              "mean                  -1.601090e-16          2.496373e-16   \n",
              "std                    1.000067e+00          1.000067e+00   \n",
              "min                   -3.137435e+00         -1.988654e+00   \n",
              "25%                   -6.855292e-01         -6.551460e-01   \n",
              "50%                    1.056259e-02         -1.788933e-01   \n",
              "75%                    6.962650e-01          4.878607e-01   \n",
              "max                    2.057280e+00          5.059888e+00   \n",
              "\n",
              "       standard_scaler__Tenure  standard_scaler__Balance  \\\n",
              "count             7.500000e+03              7.500000e+03   \n",
              "mean              8.715991e-17             -7.437014e-17   \n",
              "std               1.000067e+00              1.000067e+00   \n",
              "min              -1.731689e+00             -1.221027e+00   \n",
              "25%              -6.916493e-01             -1.221027e+00   \n",
              "50%               1.710287e-03              3.243009e-01   \n",
              "75%               6.950699e-01              8.233967e-01   \n",
              "max               1.735109e+00              2.796197e+00   \n",
              "\n",
              "       standard_scaler__NumOfProducts  standard_scaler__HasCrCard  \\\n",
              "count                    7.500000e+03                7.500000e+03   \n",
              "mean                     4.736952e-17               -6.442254e-17   \n",
              "std                      1.000067e+00                1.000067e+00   \n",
              "min                     -9.110434e-01               -1.539736e+00   \n",
              "25%                     -9.110434e-01               -1.539736e+00   \n",
              "50%                     -9.110434e-01                6.494620e-01   \n",
              "75%                      8.131114e-01                6.494620e-01   \n",
              "max                      4.261421e+00                6.494620e-01   \n",
              "\n",
              "       standard_scaler__IsActiveMember  standard_scaler__EstimatedSalary  \\\n",
              "count                     7.500000e+03                      7.500000e+03   \n",
              "mean                     -2.273737e-17                      2.520058e-16   \n",
              "std                       1.000067e+00                      1.000067e+00   \n",
              "min                      -1.031152e+00                     -1.747187e+00   \n",
              "25%                      -1.031152e+00                     -8.530301e-01   \n",
              "50%                       9.697895e-01                     -7.300857e-04   \n",
              "75%                       9.697895e-01                      8.561404e-01   \n",
              "max                       9.697895e-01                      1.725030e+00   \n",
              "\n",
              "       categorical_scaler__Geography_France  \\\n",
              "count                           7500.000000   \n",
              "mean                               0.499733   \n",
              "std                                0.500033   \n",
              "min                                0.000000   \n",
              "25%                                0.000000   \n",
              "50%                                0.000000   \n",
              "75%                                1.000000   \n",
              "max                                1.000000   \n",
              "\n",
              "       categorical_scaler__Geography_Germany  \\\n",
              "count                            7500.000000   \n",
              "mean                                0.250267   \n",
              "std                                 0.433195   \n",
              "min                                 0.000000   \n",
              "25%                                 0.000000   \n",
              "50%                                 0.000000   \n",
              "75%                                 1.000000   \n",
              "max                                 1.000000   \n",
              "\n",
              "       categorical_scaler__Geography_Spain  categorical_scaler__Gender_Female  \\\n",
              "count                          7500.000000                        7500.000000   \n",
              "mean                              0.250000                           0.454000   \n",
              "std                               0.433042                           0.497913   \n",
              "min                               0.000000                           0.000000   \n",
              "25%                               0.000000                           0.000000   \n",
              "50%                               0.000000                           0.000000   \n",
              "75%                               0.250000                           1.000000   \n",
              "max                               1.000000                           1.000000   \n",
              "\n",
              "       categorical_scaler__Gender_Male  \n",
              "count                      7500.000000  \n",
              "mean                          0.546000  \n",
              "std                           0.497913  \n",
              "min                           0.000000  \n",
              "25%                           0.000000  \n",
              "50%                           1.000000  \n",
              "75%                           1.000000  \n",
              "max                           1.000000  "
            ]
          },
          "execution_count": 140,
          "metadata": {},
          "output_type": "execute_result"
        }
      ],
      "source": [
        "x_train_df.describe()"
      ]
    },
    {
      "cell_type": "code",
      "execution_count": 141,
      "metadata": {
        "colab": {
          "base_uri": "https://localhost:8080/"
        },
        "id": "4kf3LFyjXDnv",
        "outputId": "f4513c77-c98d-4fa6-f107-f4976bcc84e5"
      },
      "outputs": [
        {
          "name": "stdout",
          "output_type": "stream",
          "text": [
            "<class 'pandas.core.frame.DataFrame'>\n",
            "RangeIndex: 7500 entries, 0 to 7499\n",
            "Data columns (total 13 columns):\n",
            " #   Column                                 Non-Null Count  Dtype  \n",
            "---  ------                                 --------------  -----  \n",
            " 0   standard_scaler__CreditScore           7500 non-null   float64\n",
            " 1   standard_scaler__Age                   7500 non-null   float64\n",
            " 2   standard_scaler__Tenure                7500 non-null   float64\n",
            " 3   standard_scaler__Balance               7500 non-null   float64\n",
            " 4   standard_scaler__NumOfProducts         7500 non-null   float64\n",
            " 5   standard_scaler__HasCrCard             7500 non-null   float64\n",
            " 6   standard_scaler__IsActiveMember        7500 non-null   float64\n",
            " 7   standard_scaler__EstimatedSalary       7500 non-null   float64\n",
            " 8   categorical_scaler__Geography_France   7500 non-null   float64\n",
            " 9   categorical_scaler__Geography_Germany  7500 non-null   float64\n",
            " 10  categorical_scaler__Geography_Spain    7500 non-null   float64\n",
            " 11  categorical_scaler__Gender_Female      7500 non-null   float64\n",
            " 12  categorical_scaler__Gender_Male        7500 non-null   float64\n",
            "dtypes: float64(13)\n",
            "memory usage: 761.8 KB\n"
          ]
        }
      ],
      "source": [
        "x_train_df.info()"
      ]
    },
    {
      "cell_type": "code",
      "execution_count": 142,
      "metadata": {
        "id": "kQkKTajAdcTb"
      },
      "outputs": [],
      "source": [
        "train_data=pd.concat([x_train_df.reset_index(drop=True),y_train.reset_index(drop=True)],axis=1)\n",
        "test_data=pd.concat([x_test_df.reset_index(drop=True),y_test.reset_index(drop=True)],axis=1)"
      ]
    },
    {
      "cell_type": "code",
      "execution_count": 143,
      "metadata": {
        "colab": {
          "base_uri": "https://localhost:8080/"
        },
        "id": "790f52qrdmoe",
        "outputId": "afbd3f55-ab81-49dc-e04c-1e6f88ff8a63"
      },
      "outputs": [
        {
          "data": {
            "text/plain": [
              "(7500, 14)"
            ]
          },
          "execution_count": 143,
          "metadata": {},
          "output_type": "execute_result"
        }
      ],
      "source": [
        "train_data.shape"
      ]
    },
    {
      "cell_type": "code",
      "execution_count": 144,
      "metadata": {
        "colab": {
          "base_uri": "https://localhost:8080/"
        },
        "id": "cUhSG5ztdpVJ",
        "outputId": "af680c32-5d3b-41c7-ba92-398dbce398c4"
      },
      "outputs": [
        {
          "data": {
            "text/plain": [
              "(2500, 14)"
            ]
          },
          "execution_count": 144,
          "metadata": {},
          "output_type": "execute_result"
        }
      ],
      "source": [
        "test_data.shape"
      ]
    },
    {
      "cell_type": "code",
      "execution_count": 145,
      "metadata": {
        "colab": {
          "base_uri": "https://localhost:8080/",
          "height": 226
        },
        "id": "HYeWf33ldsV-",
        "outputId": "a1341e71-8f1d-465c-a7df-b88f375a79ec"
      },
      "outputs": [
        {
          "data": {
            "text/html": [
              "<div>\n",
              "<style scoped>\n",
              "    .dataframe tbody tr th:only-of-type {\n",
              "        vertical-align: middle;\n",
              "    }\n",
              "\n",
              "    .dataframe tbody tr th {\n",
              "        vertical-align: top;\n",
              "    }\n",
              "\n",
              "    .dataframe thead th {\n",
              "        text-align: right;\n",
              "    }\n",
              "</style>\n",
              "<table border=\"1\" class=\"dataframe\">\n",
              "  <thead>\n",
              "    <tr style=\"text-align: right;\">\n",
              "      <th></th>\n",
              "      <th>standard_scaler__CreditScore</th>\n",
              "      <th>standard_scaler__Age</th>\n",
              "      <th>standard_scaler__Tenure</th>\n",
              "      <th>standard_scaler__Balance</th>\n",
              "      <th>standard_scaler__NumOfProducts</th>\n",
              "      <th>standard_scaler__HasCrCard</th>\n",
              "      <th>standard_scaler__IsActiveMember</th>\n",
              "      <th>standard_scaler__EstimatedSalary</th>\n",
              "      <th>categorical_scaler__Geography_France</th>\n",
              "      <th>categorical_scaler__Geography_Germany</th>\n",
              "      <th>categorical_scaler__Geography_Spain</th>\n",
              "      <th>categorical_scaler__Gender_Female</th>\n",
              "      <th>categorical_scaler__Gender_Male</th>\n",
              "      <th>Exited</th>\n",
              "    </tr>\n",
              "  </thead>\n",
              "  <tbody>\n",
              "    <tr>\n",
              "      <th>0</th>\n",
              "      <td>0.218351</td>\n",
              "      <td>1.916619</td>\n",
              "      <td>-1.731689</td>\n",
              "      <td>1.629928</td>\n",
              "      <td>0.813111</td>\n",
              "      <td>-1.539736</td>\n",
              "      <td>0.969789</td>\n",
              "      <td>-1.382844</td>\n",
              "      <td>1.0</td>\n",
              "      <td>0.0</td>\n",
              "      <td>0.0</td>\n",
              "      <td>0.0</td>\n",
              "      <td>1.0</td>\n",
              "      <td>1</td>\n",
              "    </tr>\n",
              "    <tr>\n",
              "      <th>1</th>\n",
              "      <td>2.057280</td>\n",
              "      <td>0.202109</td>\n",
              "      <td>1.041750</td>\n",
              "      <td>-0.246244</td>\n",
              "      <td>-0.911043</td>\n",
              "      <td>0.649462</td>\n",
              "      <td>-1.031152</td>\n",
              "      <td>-1.195890</td>\n",
              "      <td>0.0</td>\n",
              "      <td>1.0</td>\n",
              "      <td>0.0</td>\n",
              "      <td>0.0</td>\n",
              "      <td>1.0</td>\n",
              "      <td>0</td>\n",
              "    </tr>\n",
              "    <tr>\n",
              "      <th>2</th>\n",
              "      <td>0.758602</td>\n",
              "      <td>-0.750397</td>\n",
              "      <td>0.348390</td>\n",
              "      <td>-1.221027</td>\n",
              "      <td>-0.911043</td>\n",
              "      <td>-1.539736</td>\n",
              "      <td>-1.031152</td>\n",
              "      <td>-0.683422</td>\n",
              "      <td>1.0</td>\n",
              "      <td>0.0</td>\n",
              "      <td>0.0</td>\n",
              "      <td>1.0</td>\n",
              "      <td>0.0</td>\n",
              "      <td>0</td>\n",
              "    </tr>\n",
              "    <tr>\n",
              "      <th>3</th>\n",
              "      <td>-0.082942</td>\n",
              "      <td>-0.559895</td>\n",
              "      <td>0.695070</td>\n",
              "      <td>1.574101</td>\n",
              "      <td>-0.911043</td>\n",
              "      <td>-1.539736</td>\n",
              "      <td>0.969789</td>\n",
              "      <td>-0.985396</td>\n",
              "      <td>1.0</td>\n",
              "      <td>0.0</td>\n",
              "      <td>0.0</td>\n",
              "      <td>0.0</td>\n",
              "      <td>1.0</td>\n",
              "      <td>0</td>\n",
              "    </tr>\n",
              "    <tr>\n",
              "      <th>4</th>\n",
              "      <td>0.530034</td>\n",
              "      <td>-0.940898</td>\n",
              "      <td>1.388429</td>\n",
              "      <td>-1.221027</td>\n",
              "      <td>0.813111</td>\n",
              "      <td>0.649462</td>\n",
              "      <td>-1.031152</td>\n",
              "      <td>-0.868375</td>\n",
              "      <td>0.0</td>\n",
              "      <td>0.0</td>\n",
              "      <td>1.0</td>\n",
              "      <td>0.0</td>\n",
              "      <td>1.0</td>\n",
              "      <td>0</td>\n",
              "    </tr>\n",
              "  </tbody>\n",
              "</table>\n",
              "</div>"
            ],
            "text/plain": [
              "   standard_scaler__CreditScore  standard_scaler__Age  \\\n",
              "0                      0.218351              1.916619   \n",
              "1                      2.057280              0.202109   \n",
              "2                      0.758602             -0.750397   \n",
              "3                     -0.082942             -0.559895   \n",
              "4                      0.530034             -0.940898   \n",
              "\n",
              "   standard_scaler__Tenure  standard_scaler__Balance  \\\n",
              "0                -1.731689                  1.629928   \n",
              "1                 1.041750                 -0.246244   \n",
              "2                 0.348390                 -1.221027   \n",
              "3                 0.695070                  1.574101   \n",
              "4                 1.388429                 -1.221027   \n",
              "\n",
              "   standard_scaler__NumOfProducts  standard_scaler__HasCrCard  \\\n",
              "0                        0.813111                   -1.539736   \n",
              "1                       -0.911043                    0.649462   \n",
              "2                       -0.911043                   -1.539736   \n",
              "3                       -0.911043                   -1.539736   \n",
              "4                        0.813111                    0.649462   \n",
              "\n",
              "   standard_scaler__IsActiveMember  standard_scaler__EstimatedSalary  \\\n",
              "0                         0.969789                         -1.382844   \n",
              "1                        -1.031152                         -1.195890   \n",
              "2                        -1.031152                         -0.683422   \n",
              "3                         0.969789                         -0.985396   \n",
              "4                        -1.031152                         -0.868375   \n",
              "\n",
              "   categorical_scaler__Geography_France  \\\n",
              "0                                   1.0   \n",
              "1                                   0.0   \n",
              "2                                   1.0   \n",
              "3                                   1.0   \n",
              "4                                   0.0   \n",
              "\n",
              "   categorical_scaler__Geography_Germany  categorical_scaler__Geography_Spain  \\\n",
              "0                                    0.0                                  0.0   \n",
              "1                                    1.0                                  0.0   \n",
              "2                                    0.0                                  0.0   \n",
              "3                                    0.0                                  0.0   \n",
              "4                                    0.0                                  1.0   \n",
              "\n",
              "   categorical_scaler__Gender_Female  categorical_scaler__Gender_Male  Exited  \n",
              "0                                0.0                              1.0       1  \n",
              "1                                0.0                              1.0       0  \n",
              "2                                1.0                              0.0       0  \n",
              "3                                0.0                              1.0       0  \n",
              "4                                0.0                              1.0       0  "
            ]
          },
          "execution_count": 145,
          "metadata": {},
          "output_type": "execute_result"
        }
      ],
      "source": [
        "train_data.head()"
      ]
    },
    {
      "cell_type": "code",
      "execution_count": 146,
      "metadata": {
        "id": "zqy826AaXPvP"
      },
      "outputs": [],
      "source": [
        "df2=pd.concat([x_train_df.reset_index(drop=True),x_test_df.reset_index(drop=True)],axis=0)"
      ]
    },
    {
      "cell_type": "code",
      "execution_count": 147,
      "metadata": {
        "colab": {
          "base_uri": "https://localhost:8080/"
        },
        "id": "QkHWLVFjc8XO",
        "outputId": "35d19d52-7110-49ed-c1db-ae575288407e"
      },
      "outputs": [
        {
          "data": {
            "text/plain": [
              "(10000, 13)"
            ]
          },
          "execution_count": 147,
          "metadata": {},
          "output_type": "execute_result"
        }
      ],
      "source": [
        "df2.shape"
      ]
    },
    {
      "cell_type": "code",
      "execution_count": 148,
      "metadata": {
        "colab": {
          "base_uri": "https://localhost:8080/",
          "height": 226
        },
        "id": "lVtQXIJCc96V",
        "outputId": "1a0d0eeb-f9e4-4de3-ded6-c66d016683d1"
      },
      "outputs": [
        {
          "data": {
            "text/html": [
              "<div>\n",
              "<style scoped>\n",
              "    .dataframe tbody tr th:only-of-type {\n",
              "        vertical-align: middle;\n",
              "    }\n",
              "\n",
              "    .dataframe tbody tr th {\n",
              "        vertical-align: top;\n",
              "    }\n",
              "\n",
              "    .dataframe thead th {\n",
              "        text-align: right;\n",
              "    }\n",
              "</style>\n",
              "<table border=\"1\" class=\"dataframe\">\n",
              "  <thead>\n",
              "    <tr style=\"text-align: right;\">\n",
              "      <th></th>\n",
              "      <th>standard_scaler__CreditScore</th>\n",
              "      <th>standard_scaler__Age</th>\n",
              "      <th>standard_scaler__Tenure</th>\n",
              "      <th>standard_scaler__Balance</th>\n",
              "      <th>standard_scaler__NumOfProducts</th>\n",
              "      <th>standard_scaler__HasCrCard</th>\n",
              "      <th>standard_scaler__IsActiveMember</th>\n",
              "      <th>standard_scaler__EstimatedSalary</th>\n",
              "      <th>categorical_scaler__Geography_France</th>\n",
              "      <th>categorical_scaler__Geography_Germany</th>\n",
              "      <th>categorical_scaler__Geography_Spain</th>\n",
              "      <th>categorical_scaler__Gender_Female</th>\n",
              "      <th>categorical_scaler__Gender_Male</th>\n",
              "    </tr>\n",
              "  </thead>\n",
              "  <tbody>\n",
              "    <tr>\n",
              "      <th>0</th>\n",
              "      <td>0.218351</td>\n",
              "      <td>1.916619</td>\n",
              "      <td>-1.731689</td>\n",
              "      <td>1.629928</td>\n",
              "      <td>0.813111</td>\n",
              "      <td>-1.539736</td>\n",
              "      <td>0.969789</td>\n",
              "      <td>-1.382844</td>\n",
              "      <td>1.0</td>\n",
              "      <td>0.0</td>\n",
              "      <td>0.0</td>\n",
              "      <td>0.0</td>\n",
              "      <td>1.0</td>\n",
              "    </tr>\n",
              "    <tr>\n",
              "      <th>1</th>\n",
              "      <td>2.057280</td>\n",
              "      <td>0.202109</td>\n",
              "      <td>1.041750</td>\n",
              "      <td>-0.246244</td>\n",
              "      <td>-0.911043</td>\n",
              "      <td>0.649462</td>\n",
              "      <td>-1.031152</td>\n",
              "      <td>-1.195890</td>\n",
              "      <td>0.0</td>\n",
              "      <td>1.0</td>\n",
              "      <td>0.0</td>\n",
              "      <td>0.0</td>\n",
              "      <td>1.0</td>\n",
              "    </tr>\n",
              "    <tr>\n",
              "      <th>2</th>\n",
              "      <td>0.758602</td>\n",
              "      <td>-0.750397</td>\n",
              "      <td>0.348390</td>\n",
              "      <td>-1.221027</td>\n",
              "      <td>-0.911043</td>\n",
              "      <td>-1.539736</td>\n",
              "      <td>-1.031152</td>\n",
              "      <td>-0.683422</td>\n",
              "      <td>1.0</td>\n",
              "      <td>0.0</td>\n",
              "      <td>0.0</td>\n",
              "      <td>1.0</td>\n",
              "      <td>0.0</td>\n",
              "    </tr>\n",
              "    <tr>\n",
              "      <th>3</th>\n",
              "      <td>-0.082942</td>\n",
              "      <td>-0.559895</td>\n",
              "      <td>0.695070</td>\n",
              "      <td>1.574101</td>\n",
              "      <td>-0.911043</td>\n",
              "      <td>-1.539736</td>\n",
              "      <td>0.969789</td>\n",
              "      <td>-0.985396</td>\n",
              "      <td>1.0</td>\n",
              "      <td>0.0</td>\n",
              "      <td>0.0</td>\n",
              "      <td>0.0</td>\n",
              "      <td>1.0</td>\n",
              "    </tr>\n",
              "    <tr>\n",
              "      <th>4</th>\n",
              "      <td>0.530034</td>\n",
              "      <td>-0.940898</td>\n",
              "      <td>1.388429</td>\n",
              "      <td>-1.221027</td>\n",
              "      <td>0.813111</td>\n",
              "      <td>0.649462</td>\n",
              "      <td>-1.031152</td>\n",
              "      <td>-0.868375</td>\n",
              "      <td>0.0</td>\n",
              "      <td>0.0</td>\n",
              "      <td>1.0</td>\n",
              "      <td>0.0</td>\n",
              "      <td>1.0</td>\n",
              "    </tr>\n",
              "  </tbody>\n",
              "</table>\n",
              "</div>"
            ],
            "text/plain": [
              "   standard_scaler__CreditScore  standard_scaler__Age  \\\n",
              "0                      0.218351              1.916619   \n",
              "1                      2.057280              0.202109   \n",
              "2                      0.758602             -0.750397   \n",
              "3                     -0.082942             -0.559895   \n",
              "4                      0.530034             -0.940898   \n",
              "\n",
              "   standard_scaler__Tenure  standard_scaler__Balance  \\\n",
              "0                -1.731689                  1.629928   \n",
              "1                 1.041750                 -0.246244   \n",
              "2                 0.348390                 -1.221027   \n",
              "3                 0.695070                  1.574101   \n",
              "4                 1.388429                 -1.221027   \n",
              "\n",
              "   standard_scaler__NumOfProducts  standard_scaler__HasCrCard  \\\n",
              "0                        0.813111                   -1.539736   \n",
              "1                       -0.911043                    0.649462   \n",
              "2                       -0.911043                   -1.539736   \n",
              "3                       -0.911043                   -1.539736   \n",
              "4                        0.813111                    0.649462   \n",
              "\n",
              "   standard_scaler__IsActiveMember  standard_scaler__EstimatedSalary  \\\n",
              "0                         0.969789                         -1.382844   \n",
              "1                        -1.031152                         -1.195890   \n",
              "2                        -1.031152                         -0.683422   \n",
              "3                         0.969789                         -0.985396   \n",
              "4                        -1.031152                         -0.868375   \n",
              "\n",
              "   categorical_scaler__Geography_France  \\\n",
              "0                                   1.0   \n",
              "1                                   0.0   \n",
              "2                                   1.0   \n",
              "3                                   1.0   \n",
              "4                                   0.0   \n",
              "\n",
              "   categorical_scaler__Geography_Germany  categorical_scaler__Geography_Spain  \\\n",
              "0                                    0.0                                  0.0   \n",
              "1                                    1.0                                  0.0   \n",
              "2                                    0.0                                  0.0   \n",
              "3                                    0.0                                  0.0   \n",
              "4                                    0.0                                  1.0   \n",
              "\n",
              "   categorical_scaler__Gender_Female  categorical_scaler__Gender_Male  \n",
              "0                                0.0                              1.0  \n",
              "1                                0.0                              1.0  \n",
              "2                                1.0                              0.0  \n",
              "3                                0.0                              1.0  \n",
              "4                                0.0                              1.0  "
            ]
          },
          "execution_count": 148,
          "metadata": {},
          "output_type": "execute_result"
        }
      ],
      "source": [
        "df2.head()"
      ]
    },
    {
      "cell_type": "code",
      "execution_count": 149,
      "metadata": {
        "colab": {
          "base_uri": "https://localhost:8080/"
        },
        "id": "Ncp9IyD0dMYm",
        "outputId": "3ef9b80b-7aa6-4af5-a8fa-cd63e8f28bae"
      },
      "outputs": [
        {
          "data": {
            "text/plain": [
              "Index(['standard_scaler__CreditScore', 'standard_scaler__Age',\n",
              "       'standard_scaler__Tenure', 'standard_scaler__Balance',\n",
              "       'standard_scaler__NumOfProducts', 'standard_scaler__HasCrCard',\n",
              "       'standard_scaler__IsActiveMember', 'standard_scaler__EstimatedSalary',\n",
              "       'categorical_scaler__Geography_France',\n",
              "       'categorical_scaler__Geography_Germany',\n",
              "       'categorical_scaler__Geography_Spain',\n",
              "       'categorical_scaler__Gender_Female', 'categorical_scaler__Gender_Male'],\n",
              "      dtype='object')"
            ]
          },
          "execution_count": 149,
          "metadata": {},
          "output_type": "execute_result"
        }
      ],
      "source": [
        "df2.columns"
      ]
    },
    {
      "cell_type": "code",
      "execution_count": 150,
      "metadata": {
        "colab": {
          "base_uri": "https://localhost:8080/",
          "height": 226
        },
        "id": "QNnT6YqafMHb",
        "outputId": "6e74990e-b78b-4350-923d-3664635c71e4"
      },
      "outputs": [
        {
          "data": {
            "text/html": [
              "<div>\n",
              "<style scoped>\n",
              "    .dataframe tbody tr th:only-of-type {\n",
              "        vertical-align: middle;\n",
              "    }\n",
              "\n",
              "    .dataframe tbody tr th {\n",
              "        vertical-align: top;\n",
              "    }\n",
              "\n",
              "    .dataframe thead th {\n",
              "        text-align: right;\n",
              "    }\n",
              "</style>\n",
              "<table border=\"1\" class=\"dataframe\">\n",
              "  <thead>\n",
              "    <tr style=\"text-align: right;\">\n",
              "      <th></th>\n",
              "      <th>standard_scaler__CreditScore</th>\n",
              "      <th>standard_scaler__Age</th>\n",
              "      <th>standard_scaler__Tenure</th>\n",
              "      <th>standard_scaler__Balance</th>\n",
              "      <th>standard_scaler__NumOfProducts</th>\n",
              "      <th>standard_scaler__HasCrCard</th>\n",
              "      <th>standard_scaler__IsActiveMember</th>\n",
              "      <th>standard_scaler__EstimatedSalary</th>\n",
              "      <th>categorical_scaler__Geography_France</th>\n",
              "      <th>categorical_scaler__Geography_Germany</th>\n",
              "      <th>categorical_scaler__Geography_Spain</th>\n",
              "      <th>categorical_scaler__Gender_Female</th>\n",
              "      <th>categorical_scaler__Gender_Male</th>\n",
              "      <th>Exited</th>\n",
              "    </tr>\n",
              "  </thead>\n",
              "  <tbody>\n",
              "    <tr>\n",
              "      <th>0</th>\n",
              "      <td>-0.581635</td>\n",
              "      <td>-0.655146</td>\n",
              "      <td>-0.691649</td>\n",
              "      <td>0.327418</td>\n",
              "      <td>0.813111</td>\n",
              "      <td>-1.539736</td>\n",
              "      <td>-1.031152</td>\n",
              "      <td>-1.022827</td>\n",
              "      <td>0.0</td>\n",
              "      <td>1.0</td>\n",
              "      <td>0.0</td>\n",
              "      <td>0.0</td>\n",
              "      <td>1.0</td>\n",
              "      <td>0</td>\n",
              "    </tr>\n",
              "    <tr>\n",
              "      <th>1</th>\n",
              "      <td>-0.301120</td>\n",
              "      <td>0.392610</td>\n",
              "      <td>-1.385009</td>\n",
              "      <td>-1.221027</td>\n",
              "      <td>0.813111</td>\n",
              "      <td>0.649462</td>\n",
              "      <td>0.969789</td>\n",
              "      <td>0.794069</td>\n",
              "      <td>1.0</td>\n",
              "      <td>0.0</td>\n",
              "      <td>0.0</td>\n",
              "      <td>0.0</td>\n",
              "      <td>1.0</td>\n",
              "      <td>0</td>\n",
              "    </tr>\n",
              "    <tr>\n",
              "      <th>2</th>\n",
              "      <td>-0.529688</td>\n",
              "      <td>0.487861</td>\n",
              "      <td>-0.344970</td>\n",
              "      <td>-1.221027</td>\n",
              "      <td>0.813111</td>\n",
              "      <td>0.649462</td>\n",
              "      <td>-1.031152</td>\n",
              "      <td>-0.731457</td>\n",
              "      <td>0.0</td>\n",
              "      <td>0.0</td>\n",
              "      <td>1.0</td>\n",
              "      <td>1.0</td>\n",
              "      <td>0.0</td>\n",
              "      <td>0</td>\n",
              "    </tr>\n",
              "    <tr>\n",
              "      <th>3</th>\n",
              "      <td>-1.516684</td>\n",
              "      <td>1.916619</td>\n",
              "      <td>1.041750</td>\n",
              "      <td>0.686762</td>\n",
              "      <td>0.813111</td>\n",
              "      <td>0.649462</td>\n",
              "      <td>0.969789</td>\n",
              "      <td>1.216203</td>\n",
              "      <td>0.0</td>\n",
              "      <td>1.0</td>\n",
              "      <td>0.0</td>\n",
              "      <td>0.0</td>\n",
              "      <td>1.0</td>\n",
              "      <td>0</td>\n",
              "    </tr>\n",
              "    <tr>\n",
              "      <th>4</th>\n",
              "      <td>-0.955654</td>\n",
              "      <td>-1.131399</td>\n",
              "      <td>0.695070</td>\n",
              "      <td>0.780331</td>\n",
              "      <td>-0.911043</td>\n",
              "      <td>0.649462</td>\n",
              "      <td>0.969789</td>\n",
              "      <td>0.243229</td>\n",
              "      <td>0.0</td>\n",
              "      <td>0.0</td>\n",
              "      <td>1.0</td>\n",
              "      <td>1.0</td>\n",
              "      <td>0.0</td>\n",
              "      <td>0</td>\n",
              "    </tr>\n",
              "  </tbody>\n",
              "</table>\n",
              "</div>"
            ],
            "text/plain": [
              "   standard_scaler__CreditScore  standard_scaler__Age  \\\n",
              "0                     -0.581635             -0.655146   \n",
              "1                     -0.301120              0.392610   \n",
              "2                     -0.529688              0.487861   \n",
              "3                     -1.516684              1.916619   \n",
              "4                     -0.955654             -1.131399   \n",
              "\n",
              "   standard_scaler__Tenure  standard_scaler__Balance  \\\n",
              "0                -0.691649                  0.327418   \n",
              "1                -1.385009                 -1.221027   \n",
              "2                -0.344970                 -1.221027   \n",
              "3                 1.041750                  0.686762   \n",
              "4                 0.695070                  0.780331   \n",
              "\n",
              "   standard_scaler__NumOfProducts  standard_scaler__HasCrCard  \\\n",
              "0                        0.813111                   -1.539736   \n",
              "1                        0.813111                    0.649462   \n",
              "2                        0.813111                    0.649462   \n",
              "3                        0.813111                    0.649462   \n",
              "4                       -0.911043                    0.649462   \n",
              "\n",
              "   standard_scaler__IsActiveMember  standard_scaler__EstimatedSalary  \\\n",
              "0                        -1.031152                         -1.022827   \n",
              "1                         0.969789                          0.794069   \n",
              "2                        -1.031152                         -0.731457   \n",
              "3                         0.969789                          1.216203   \n",
              "4                         0.969789                          0.243229   \n",
              "\n",
              "   categorical_scaler__Geography_France  \\\n",
              "0                                   0.0   \n",
              "1                                   1.0   \n",
              "2                                   0.0   \n",
              "3                                   0.0   \n",
              "4                                   0.0   \n",
              "\n",
              "   categorical_scaler__Geography_Germany  categorical_scaler__Geography_Spain  \\\n",
              "0                                    1.0                                  0.0   \n",
              "1                                    0.0                                  0.0   \n",
              "2                                    0.0                                  1.0   \n",
              "3                                    1.0                                  0.0   \n",
              "4                                    0.0                                  1.0   \n",
              "\n",
              "   categorical_scaler__Gender_Female  categorical_scaler__Gender_Male  Exited  \n",
              "0                                0.0                              1.0       0  \n",
              "1                                0.0                              1.0       0  \n",
              "2                                1.0                              0.0       0  \n",
              "3                                0.0                              1.0       0  \n",
              "4                                1.0                              0.0       0  "
            ]
          },
          "execution_count": 150,
          "metadata": {},
          "output_type": "execute_result"
        }
      ],
      "source": [
        "test_data.head()"
      ]
    },
    {
      "cell_type": "code",
      "execution_count": 151,
      "metadata": {
        "id": "T0uzoVHufQ6O"
      },
      "outputs": [],
      "source": [
        "train_file_path=\"train_data.csv\"\n",
        "test_file_path=\"test_data.csv\""
      ]
    },
    {
      "cell_type": "code",
      "execution_count": null,
      "metadata": {
        "id": "IUMn4jbidOqt"
      },
      "outputs": [],
      "source": [
        "# train_data.to_csv(train_file_path)"
      ]
    },
    {
      "cell_type": "code",
      "execution_count": null,
      "metadata": {
        "id": "yfMQqU0PfHhm"
      },
      "outputs": [],
      "source": [
        "# test_data.to_csv(test_file_path)"
      ]
    },
    {
      "cell_type": "code",
      "execution_count": null,
      "metadata": {
        "colab": {
          "base_uri": "https://localhost:8080/",
          "height": 17
        },
        "id": "Q8PvHmlrfY_u",
        "outputId": "43cf9022-440f-4868-8ba5-bf9f5b623727"
      },
      "outputs": [
        {
          "data": {
            "application/javascript": "\n    async function download(id, filename, size) {\n      if (!google.colab.kernel.accessAllowed) {\n        return;\n      }\n      const div = document.createElement('div');\n      const label = document.createElement('label');\n      label.textContent = `Downloading \"${filename}\": `;\n      div.appendChild(label);\n      const progress = document.createElement('progress');\n      progress.max = size;\n      div.appendChild(progress);\n      document.body.appendChild(div);\n\n      const buffers = [];\n      let downloaded = 0;\n\n      const channel = await google.colab.kernel.comms.open(id);\n      // Send a message to notify the kernel that we're ready.\n      channel.send({})\n\n      for await (const message of channel.messages) {\n        // Send a message to notify the kernel that we're ready.\n        channel.send({})\n        if (message.buffers) {\n          for (const buffer of message.buffers) {\n            buffers.push(buffer);\n            downloaded += buffer.byteLength;\n            progress.value = downloaded;\n          }\n        }\n      }\n      const blob = new Blob(buffers, {type: 'application/binary'});\n      const a = document.createElement('a');\n      a.href = window.URL.createObjectURL(blob);\n      a.download = filename;\n      div.appendChild(a);\n      a.click();\n      div.remove();\n    }\n  ",
            "text/plain": [
              "<IPython.core.display.Javascript object>"
            ]
          },
          "metadata": {},
          "output_type": "display_data"
        },
        {
          "data": {
            "application/javascript": "download(\"download_f8ca4c90-7c9a-494b-a6af-3f51954e708a\", \"train_data.csv\", 1370783)",
            "text/plain": [
              "<IPython.core.display.Javascript object>"
            ]
          },
          "metadata": {},
          "output_type": "display_data"
        }
      ],
      "source": []
    },
    {
      "cell_type": "code",
      "execution_count": null,
      "metadata": {
        "colab": {
          "base_uri": "https://localhost:8080/",
          "height": 17
        },
        "id": "HmvOw3K1ff_N",
        "outputId": "53e13491-613a-4db7-c0dc-2f24198b19ce"
      },
      "outputs": [
        {
          "data": {
            "application/javascript": "\n    async function download(id, filename, size) {\n      if (!google.colab.kernel.accessAllowed) {\n        return;\n      }\n      const div = document.createElement('div');\n      const label = document.createElement('label');\n      label.textContent = `Downloading \"${filename}\": `;\n      div.appendChild(label);\n      const progress = document.createElement('progress');\n      progress.max = size;\n      div.appendChild(progress);\n      document.body.appendChild(div);\n\n      const buffers = [];\n      let downloaded = 0;\n\n      const channel = await google.colab.kernel.comms.open(id);\n      // Send a message to notify the kernel that we're ready.\n      channel.send({})\n\n      for await (const message of channel.messages) {\n        // Send a message to notify the kernel that we're ready.\n        channel.send({})\n        if (message.buffers) {\n          for (const buffer of message.buffers) {\n            buffers.push(buffer);\n            downloaded += buffer.byteLength;\n            progress.value = downloaded;\n          }\n        }\n      }\n      const blob = new Blob(buffers, {type: 'application/binary'});\n      const a = document.createElement('a');\n      a.href = window.URL.createObjectURL(blob);\n      a.download = filename;\n      div.appendChild(a);\n      a.click();\n      div.remove();\n    }\n  ",
            "text/plain": [
              "<IPython.core.display.Javascript object>"
            ]
          },
          "metadata": {},
          "output_type": "display_data"
        },
        {
          "data": {
            "application/javascript": "download(\"download_85fc5e61-704e-4221-9ebd-004346c3032f\", \"test_data.csv\", 456279)",
            "text/plain": [
              "<IPython.core.display.Javascript object>"
            ]
          },
          "metadata": {},
          "output_type": "display_data"
        }
      ],
      "source": []
    },
    {
      "cell_type": "code",
      "execution_count": null,
      "metadata": {
        "id": "AXZF0jCbfpCl"
      },
      "outputs": [],
      "source": []
    }
  ],
  "metadata": {
    "colab": {
      "provenance": []
    },
    "kernelspec": {
      "display_name": "myvenv",
      "language": "python",
      "name": "python3"
    },
    "language_info": {
      "codemirror_mode": {
        "name": "ipython",
        "version": 3
      },
      "file_extension": ".py",
      "mimetype": "text/x-python",
      "name": "python",
      "nbconvert_exporter": "python",
      "pygments_lexer": "ipython3",
      "version": "3.13.2"
    }
  },
  "nbformat": 4,
  "nbformat_minor": 0
}
