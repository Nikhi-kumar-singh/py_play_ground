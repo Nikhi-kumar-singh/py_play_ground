{
 "cells": [
  {
   "cell_type": "code",
   "execution_count": 19,
   "id": "73131f85",
   "metadata": {},
   "outputs": [],
   "source": [
    "import pandas as pd\n",
    "import numpy as np\n",
    "import warnings\n",
    "warnings.filterwarnings(\"ignore\")"
   ]
  },
  {
   "cell_type": "markdown",
   "id": "ab3b5026",
   "metadata": {},
   "source": []
  },
  {
   "cell_type": "code",
   "execution_count": 20,
   "id": "392ee11c",
   "metadata": {},
   "outputs": [],
   "source": [
    "from tensorflow.keras.preprocessing.text import  one_hot"
   ]
  },
  {
   "cell_type": "code",
   "execution_count": 21,
   "id": "1665af68",
   "metadata": {},
   "outputs": [],
   "source": [
    "from tensorflow.keras.models import Sequential\n",
    "from tensorflow.keras.layers import Embedding\n",
    "from tensorflow.keras.utils import pad_sequences\n",
    "\n",
    "from tensorflow.keras.losses import MeanSquaredError\n",
    "from tensorflow.keras.optimizers import Adam\n",
    "from tensorflow.keras.metrics import RootMeanSquaredError,MeanAbsoluteError"
   ]
  },
  {
   "cell_type": "code",
   "execution_count": 22,
   "id": "704e8583",
   "metadata": {},
   "outputs": [],
   "source": [
    "sentences = [\n",
    "    \"hello world\",\n",
    "    \"hello  planets\",\n",
    "    \"planets and world\",\n",
    "    \"this is the ground earth station reporting\",\n",
    "    \"there is an emergency\",\n",
    "    \"we are under attack\",\n",
    "    \"this attach is electromagnetic\",\n",
    "    \"many equipments got damaged\"\n",
    "]"
   ]
  },
  {
   "cell_type": "code",
   "execution_count": 23,
   "metadata": {},
   "outputs": [
    {
     "data": {
      "text/plain": [
       "['hello world',\n",
       " 'hello  planets',\n",
       " 'planets and world',\n",
       " 'this is the ground earth station reporting',\n",
       " 'there is an emergency',\n",
       " 'we are under attack',\n",
       " 'this attach is electromagnetic',\n",
       " 'many equipments got damaged']"
      ]
     },
     "execution_count": 23,
     "metadata": {},
     "output_type": "execute_result"
    }
   ],
   "source": [
    "sentences"
   ]
  },
  {
   "cell_type": "code",
   "execution_count": 24,
   "id": "aa0e1816",
   "metadata": {},
   "outputs": [],
   "source": [
    "vocabulary_size=1000"
   ]
  },
  {
   "cell_type": "code",
   "execution_count": 25,
   "id": "331600f5",
   "metadata": {},
   "outputs": [],
   "source": [
    "one_hot_representation=[one_hot(words,vocabulary_size) for words in sentences]"
   ]
  },
  {
   "cell_type": "code",
   "execution_count": 26,
   "id": "19fee891",
   "metadata": {},
   "outputs": [
    {
     "data": {
      "text/plain": [
       "[[813, 391],\n",
       " [813, 48],\n",
       " [48, 709, 391],\n",
       " [326, 8, 303, 180, 16, 596, 63],\n",
       " [20, 8, 372, 170],\n",
       " [306, 326, 594, 495],\n",
       " [326, 231, 8, 793],\n",
       " [172, 264, 286, 779]]"
      ]
     },
     "execution_count": 26,
     "metadata": {},
     "output_type": "execute_result"
    }
   ],
   "source": [
    "one_hot_representation"
   ]
  },
  {
   "cell_type": "code",
   "execution_count": 27,
   "id": "5913df97",
   "metadata": {},
   "outputs": [
    {
     "data": {
      "text/plain": [
       "10"
      ]
     },
     "execution_count": 27,
     "metadata": {},
     "output_type": "execute_result"
    }
   ],
   "source": [
    "sentence_length=max([len(lst) for lst in one_hot_representation])\n",
    "sentence_length += 3\n",
    "\n",
    "sentence_length"
   ]
  },
  {
   "cell_type": "code",
   "execution_count": 28,
   "id": "7f6a9b01",
   "metadata": {},
   "outputs": [],
   "source": [
    "pad_val=pad_sequences(\n",
    "    one_hot_representation,\n",
    "    maxlen=sentence_length,\n",
    "    padding=\"post\",\n",
    "    value=0\n",
    ")"
   ]
  },
  {
   "cell_type": "code",
   "execution_count": 29,
   "id": "4f002d44",
   "metadata": {},
   "outputs": [
    {
     "data": {
      "text/plain": [
       "array([[813, 391,   0,   0,   0,   0,   0,   0,   0,   0],\n",
       "       [813,  48,   0,   0,   0,   0,   0,   0,   0,   0],\n",
       "       [ 48, 709, 391,   0,   0,   0,   0,   0,   0,   0],\n",
       "       [326,   8, 303, 180,  16, 596,  63,   0,   0,   0],\n",
       "       [ 20,   8, 372, 170,   0,   0,   0,   0,   0,   0],\n",
       "       [306, 326, 594, 495,   0,   0,   0,   0,   0,   0],\n",
       "       [326, 231,   8, 793,   0,   0,   0,   0,   0,   0],\n",
       "       [172, 264, 286, 779,   0,   0,   0,   0,   0,   0]], dtype=int32)"
      ]
     },
     "execution_count": 29,
     "metadata": {},
     "output_type": "execute_result"
    }
   ],
   "source": [
    "pad_val"
   ]
  },
  {
   "cell_type": "code",
   "execution_count": 30,
   "id": "850413aa",
   "metadata": {},
   "outputs": [],
   "source": [
    "dim=10"
   ]
  },
  {
   "cell_type": "code",
   "execution_count": 31,
   "id": "6b72034a",
   "metadata": {},
   "outputs": [],
   "source": [
    "model=Sequential()\n",
    "model.add(\n",
    "    Embedding(\n",
    "        vocabulary_size,\n",
    "        dim,\n",
    "        input_length=sentence_length\n",
    "    )\n",
    ")"
   ]
  },
  {
   "cell_type": "code",
   "execution_count": 32,
   "id": "e917e8c2",
   "metadata": {},
   "outputs": [],
   "source": [
    "loss = MeanSquaredError()\n",
    "optimizer = Adam(learning_rate=0.005)\n",
    "metrics = [MeanAbsoluteError(), RootMeanSquaredError()]"
   ]
  },
  {
   "cell_type": "code",
   "execution_count": 33,
   "id": "30c48bde",
   "metadata": {},
   "outputs": [],
   "source": [
    "model.compile(\n",
    "    loss=loss,\n",
    "    optimizer=optimizer,\n",
    "    metrics=metrics\n",
    ")"
   ]
  },
  {
   "cell_type": "code",
   "execution_count": 34,
   "id": "17b7559e",
   "metadata": {},
   "outputs": [
    {
     "data": {
      "text/html": [
       "<pre style=\"white-space:pre;overflow-x:auto;line-height:normal;font-family:Menlo,'DejaVu Sans Mono',consolas,'Courier New',monospace\"><span style=\"font-weight: bold\">Model: \"sequential_1\"</span>\n",
       "</pre>\n"
      ],
      "text/plain": [
       "\u001b[1mModel: \"sequential_1\"\u001b[0m\n"
      ]
     },
     "metadata": {},
     "output_type": "display_data"
    },
    {
     "data": {
      "text/html": [
       "<pre style=\"white-space:pre;overflow-x:auto;line-height:normal;font-family:Menlo,'DejaVu Sans Mono',consolas,'Courier New',monospace\">┏━━━━━━━━━━━━━━━━━━━━━━━━━━━━━━━━━┳━━━━━━━━━━━━━━━━━━━━━━━━┳━━━━━━━━━━━━━━━┓\n",
       "┃<span style=\"font-weight: bold\"> Layer (type)                    </span>┃<span style=\"font-weight: bold\"> Output Shape           </span>┃<span style=\"font-weight: bold\">       Param # </span>┃\n",
       "┡━━━━━━━━━━━━━━━━━━━━━━━━━━━━━━━━━╇━━━━━━━━━━━━━━━━━━━━━━━━╇━━━━━━━━━━━━━━━┩\n",
       "│ embedding_1 (<span style=\"color: #0087ff; text-decoration-color: #0087ff\">Embedding</span>)         │ ?                      │   <span style=\"color: #00af00; text-decoration-color: #00af00\">0</span> (unbuilt) │\n",
       "└─────────────────────────────────┴────────────────────────┴───────────────┘\n",
       "</pre>\n"
      ],
      "text/plain": [
       "┏━━━━━━━━━━━━━━━━━━━━━━━━━━━━━━━━━┳━━━━━━━━━━━━━━━━━━━━━━━━┳━━━━━━━━━━━━━━━┓\n",
       "┃\u001b[1m \u001b[0m\u001b[1mLayer (type)                   \u001b[0m\u001b[1m \u001b[0m┃\u001b[1m \u001b[0m\u001b[1mOutput Shape          \u001b[0m\u001b[1m \u001b[0m┃\u001b[1m \u001b[0m\u001b[1m      Param #\u001b[0m\u001b[1m \u001b[0m┃\n",
       "┡━━━━━━━━━━━━━━━━━━━━━━━━━━━━━━━━━╇━━━━━━━━━━━━━━━━━━━━━━━━╇━━━━━━━━━━━━━━━┩\n",
       "│ embedding_1 (\u001b[38;5;33mEmbedding\u001b[0m)         │ ?                      │   \u001b[38;5;34m0\u001b[0m (unbuilt) │\n",
       "└─────────────────────────────────┴────────────────────────┴───────────────┘\n"
      ]
     },
     "metadata": {},
     "output_type": "display_data"
    },
    {
     "data": {
      "text/html": [
       "<pre style=\"white-space:pre;overflow-x:auto;line-height:normal;font-family:Menlo,'DejaVu Sans Mono',consolas,'Courier New',monospace\"><span style=\"font-weight: bold\"> Total params: </span><span style=\"color: #00af00; text-decoration-color: #00af00\">0</span> (0.00 B)\n",
       "</pre>\n"
      ],
      "text/plain": [
       "\u001b[1m Total params: \u001b[0m\u001b[38;5;34m0\u001b[0m (0.00 B)\n"
      ]
     },
     "metadata": {},
     "output_type": "display_data"
    },
    {
     "data": {
      "text/html": [
       "<pre style=\"white-space:pre;overflow-x:auto;line-height:normal;font-family:Menlo,'DejaVu Sans Mono',consolas,'Courier New',monospace\"><span style=\"font-weight: bold\"> Trainable params: </span><span style=\"color: #00af00; text-decoration-color: #00af00\">0</span> (0.00 B)\n",
       "</pre>\n"
      ],
      "text/plain": [
       "\u001b[1m Trainable params: \u001b[0m\u001b[38;5;34m0\u001b[0m (0.00 B)\n"
      ]
     },
     "metadata": {},
     "output_type": "display_data"
    },
    {
     "data": {
      "text/html": [
       "<pre style=\"white-space:pre;overflow-x:auto;line-height:normal;font-family:Menlo,'DejaVu Sans Mono',consolas,'Courier New',monospace\"><span style=\"font-weight: bold\"> Non-trainable params: </span><span style=\"color: #00af00; text-decoration-color: #00af00\">0</span> (0.00 B)\n",
       "</pre>\n"
      ],
      "text/plain": [
       "\u001b[1m Non-trainable params: \u001b[0m\u001b[38;5;34m0\u001b[0m (0.00 B)\n"
      ]
     },
     "metadata": {},
     "output_type": "display_data"
    }
   ],
   "source": [
    "model.summary()"
   ]
  },
  {
   "cell_type": "code",
   "execution_count": 35,
   "id": "ff9bf3ad",
   "metadata": {},
   "outputs": [
    {
     "name": "stdout",
     "output_type": "stream",
     "text": [
      "\u001b[1m1/1\u001b[0m \u001b[32m━━━━━━━━━━━━━━━━━━━━\u001b[0m\u001b[37m\u001b[0m \u001b[1m0s\u001b[0m 80ms/step\n"
     ]
    },
    {
     "data": {
      "text/plain": [
       "array([[ 0.03004724,  0.03573766, -0.02030001,  0.02510531, -0.00299805,\n",
       "         0.02193661, -0.01768278,  0.03579244,  0.03256297, -0.03532041],\n",
       "       [ 0.02877188, -0.01253533, -0.01177603, -0.01538556,  0.01134381,\n",
       "         0.00415689,  0.04717379, -0.00557562,  0.03272596, -0.0285768 ],\n",
       "       [-0.04305127, -0.03688896, -0.0390753 , -0.02384003, -0.04837023,\n",
       "         0.01293531, -0.00075348, -0.00642499, -0.03383386,  0.02404973],\n",
       "       [-0.04305127, -0.03688896, -0.0390753 , -0.02384003, -0.04837023,\n",
       "         0.01293531, -0.00075348, -0.00642499, -0.03383386,  0.02404973],\n",
       "       [-0.04305127, -0.03688896, -0.0390753 , -0.02384003, -0.04837023,\n",
       "         0.01293531, -0.00075348, -0.00642499, -0.03383386,  0.02404973],\n",
       "       [-0.04305127, -0.03688896, -0.0390753 , -0.02384003, -0.04837023,\n",
       "         0.01293531, -0.00075348, -0.00642499, -0.03383386,  0.02404973],\n",
       "       [-0.04305127, -0.03688896, -0.0390753 , -0.02384003, -0.04837023,\n",
       "         0.01293531, -0.00075348, -0.00642499, -0.03383386,  0.02404973],\n",
       "       [-0.04305127, -0.03688896, -0.0390753 , -0.02384003, -0.04837023,\n",
       "         0.01293531, -0.00075348, -0.00642499, -0.03383386,  0.02404973],\n",
       "       [-0.04305127, -0.03688896, -0.0390753 , -0.02384003, -0.04837023,\n",
       "         0.01293531, -0.00075348, -0.00642499, -0.03383386,  0.02404973],\n",
       "       [-0.04305127, -0.03688896, -0.0390753 , -0.02384003, -0.04837023,\n",
       "         0.01293531, -0.00075348, -0.00642499, -0.03383386,  0.02404973]],\n",
       "      dtype=float32)"
      ]
     },
     "execution_count": 35,
     "metadata": {},
     "output_type": "execute_result"
    }
   ],
   "source": [
    "model.predict(pad_val[0])"
   ]
  },
  {
   "cell_type": "code",
   "execution_count": null,
   "id": "9d8c6e31",
   "metadata": {},
   "outputs": [],
   "source": []
  },
  {
   "cell_type": "code",
   "execution_count": null,
   "id": "b2ec1df2",
   "metadata": {},
   "outputs": [],
   "source": []
  },
  {
   "cell_type": "code",
   "execution_count": null,
   "id": "178f4c83",
   "metadata": {},
   "outputs": [],
   "source": []
  },
  {
   "cell_type": "code",
   "execution_count": null,
   "id": "37d3f410",
   "metadata": {},
   "outputs": [],
   "source": []
  },
  {
   "cell_type": "code",
   "execution_count": null,
   "id": "589c45b1",
   "metadata": {},
   "outputs": [],
   "source": []
  },
  {
   "cell_type": "code",
   "execution_count": null,
   "id": "f8cec066",
   "metadata": {},
   "outputs": [],
   "source": []
  },
  {
   "cell_type": "code",
   "execution_count": null,
   "id": "76970b15",
   "metadata": {},
   "outputs": [],
   "source": []
  },
  {
   "cell_type": "code",
   "execution_count": null,
   "id": "2d9d66e1",
   "metadata": {},
   "outputs": [],
   "source": []
  },
  {
   "cell_type": "code",
   "execution_count": null,
   "id": "7a2fe0ad",
   "metadata": {},
   "outputs": [],
   "source": []
  },
  {
   "cell_type": "code",
   "execution_count": null,
   "id": "6bba1fb1",
   "metadata": {},
   "outputs": [],
   "source": []
  },
  {
   "cell_type": "code",
   "execution_count": null,
   "id": "1a1b3895",
   "metadata": {},
   "outputs": [],
   "source": []
  },
  {
   "cell_type": "code",
   "execution_count": null,
   "id": "d52fe233",
   "metadata": {},
   "outputs": [],
   "source": []
  },
  {
   "cell_type": "code",
   "execution_count": null,
   "id": "022dbe8c",
   "metadata": {},
   "outputs": [],
   "source": []
  },
  {
   "cell_type": "code",
   "execution_count": null,
   "id": "e6884309",
   "metadata": {},
   "outputs": [],
   "source": []
  },
  {
   "cell_type": "code",
   "execution_count": null,
   "id": "ae3fd53f",
   "metadata": {},
   "outputs": [],
   "source": []
  },
  {
   "cell_type": "code",
   "execution_count": null,
   "id": "4f1058d5",
   "metadata": {},
   "outputs": [],
   "source": []
  }
 ],
 "metadata": {
  "kernelspec": {
   "display_name": "ml_dl_venv",
   "language": "python",
   "name": "python3"
  },
  "language_info": {
   "codemirror_mode": {
    "name": "ipython",
    "version": 3
   },
   "file_extension": ".py",
   "mimetype": "text/x-python",
   "name": "python",
   "nbconvert_exporter": "python",
   "pygments_lexer": "ipython3",
   "version": "3.13.2"
  }
 },
 "nbformat": 4,
 "nbformat_minor": 5
}
