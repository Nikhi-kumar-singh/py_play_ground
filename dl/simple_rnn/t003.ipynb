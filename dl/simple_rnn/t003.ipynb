{
 "cells": [
  {
   "cell_type": "code",
   "execution_count": 3,
   "id": "1460a816",
   "metadata": {},
   "outputs": [],
   "source": [
    "from datetime import datetime\n",
    "import pandas as pd\n",
    "import numpy as np\n",
    "import os,sys\n",
    "import json\n",
    "from math import ceil\n",
    "import warnings\n",
    "warnings.filterwarnings(\"ignore\")"
   ]
  },
  {
   "cell_type": "code",
   "execution_count": 4,
   "id": "d4d8f41f",
   "metadata": {},
   "outputs": [],
   "source": [
    "from tensorflow.keras.datasets import imdb\n",
    "from tensorflow.keras.preprocessing.sequence import pad_sequences\n",
    "from tensorflow.keras.layers import (\n",
    "    Dense,\n",
    "    SimpleRNN,\n",
    "    Embedding,\n",
    "    LeakyReLU,\n",
    "    ReLU\n",
    ")\n",
    "from tensorflow.keras.activations import (\n",
    "    sigmoid,\n",
    "    tanh\n",
    ")\n",
    "from tensorflow.keras.models import Sequential\n",
    "from tensorflow.keras.callbacks import (\n",
    "    EarlyStopping,\n",
    "    TensorBoard\n",
    ")\n",
    "from tensorflow.keras.losses import BinaryCrossentropy\n",
    "from tensorflow.keras.optimizers import Adam\n",
    "from tensorflow.keras.metrics import Accuracy "
   ]
  },
  {
   "cell_type": "code",
   "execution_count": 5,
   "id": "2e654e98",
   "metadata": {},
   "outputs": [],
   "source": [
    "from tensorflow.keras.models import (\n",
    "    save_model,\n",
    "    load_model\n",
    ")"
   ]
  },
  {
   "cell_type": "code",
   "execution_count": 6,
   "id": "e8099351",
   "metadata": {},
   "outputs": [],
   "source": [
    "def get_transformed_data():\n",
    "\n",
    "    (x_train,y_train),(x_test,y_test)=imdb.load_data()\n",
    "\n",
    "    mx=0\n",
    "    for sent in x_train:\n",
    "        mx=max(mx,len(sent))\n",
    "\n",
    "    sent_max_len=ceil(mx/100)*100\n",
    "\n",
    "    print(f\"sentence maximum length : {sent_max_len}\")\n",
    "\n",
    "    mx=0\n",
    "    for sent1,sent2 in zip(x_train,x_test):\n",
    "        if sent1:\n",
    "            mx=max(mx,max(sent1))\n",
    "        if sent2:\n",
    "            mx=max(mx,max(sent2))\n",
    "\n",
    "    max_features=ceil(mx/100)*100\n",
    "\n",
    "    print(f\"vocabulary size : {max_features}\")\n",
    "\n",
    "    x_train_padded=pad_sequences(\n",
    "        x_train,\n",
    "        padding=\"post\",\n",
    "        maxlen=sent_max_len\n",
    "    )\n",
    "    x_test_padded=pad_sequences(\n",
    "        x_test,\n",
    "        padding=\"post\",\n",
    "        maxlen=sent_max_len\n",
    "    )\n",
    "\n",
    "    return x_train_padded,y_train,x_test_padded,y_test,max_features,sent_max_len"
   ]
  },
  {
   "cell_type": "code",
   "execution_count": 7,
   "id": "4f09ee4e",
   "metadata": {},
   "outputs": [],
   "source": [
    "def construct_model(\n",
    "        max_features,\n",
    "        sent_max_len\n",
    "):\n",
    "    n=int(ceil(np.sqrt(max_features)))\n",
    "\n",
    "    model=Sequential()\n",
    "    model.add(\n",
    "        Embedding(\n",
    "            input_dim=max_features,\n",
    "            output_dim=n,\n",
    "            input_length=sent_max_len\n",
    "        )\n",
    "    )\n",
    "    model.add(\n",
    "        SimpleRNN(\n",
    "            units=int(n/2),\n",
    "            activation=\"relu\"\n",
    "        )\n",
    "    )\n",
    "    model.add(\n",
    "        Dense(\n",
    "            units=int(n/4),\n",
    "            activation=\"relu\"\n",
    "        )\n",
    "    )\n",
    "    model.add(\n",
    "        Dense(\n",
    "            units=1,\n",
    "            activation=\"tanh\"\n",
    "        )\n",
    "    )\n",
    "\n",
    "    return model\n"
   ]
  },
  {
   "cell_type": "code",
   "execution_count": 8,
   "id": "b041665b",
   "metadata": {},
   "outputs": [],
   "source": [
    "def compile_model(\n",
    "        model,\n",
    "        loss,\n",
    "        optimizer,\n",
    "        metrics\n",
    "):\n",
    "    model.compile(\n",
    "        loss=loss,\n",
    "        optimizer=optimizer,\n",
    "        metrics=metrics\n",
    "    )\n",
    "\n",
    "    return model"
   ]
  },
  {
   "cell_type": "code",
   "execution_count": 9,
   "id": "1e44a3c6",
   "metadata": {},
   "outputs": [],
   "source": [
    "def get_callbacks():\n",
    "    file_name=datetime.now().strftime(\"%d_%m_%y__%Hh_%Mm_%Ss\")\n",
    "    log_path=os.path.join(os.getcwd(),\"tensorboard_files\")\n",
    "    os.makedirs(log_path,exist_ok=True)\n",
    "    log_dir=os.path.join(log_path,file_name)\n",
    "\n",
    "    tensorboard=TensorBoard(\n",
    "        log_dir=log_dir,\n",
    "        histogram_freq=1\n",
    "    )\n",
    "\n",
    "    '''\n",
    "    tf.keras.callbacks.EarlyStopping(\n",
    "        monitor='val_loss',\n",
    "        min_delta=0,\n",
    "        patience=0,\n",
    "        verbose=0,\n",
    "        mode='auto',\n",
    "        baseline=None,\n",
    "        restore_best_weights=False,\n",
    "        start_from_epoch=0\n",
    "    )\n",
    "    '''\n",
    "\n",
    "    early_stopping=EarlyStopping(\n",
    "        monitor=\"val_loss\",\n",
    "        patience=3,\n",
    "        mode=\"auto\",\n",
    "        restore_best_weights=True   \n",
    "    )\n",
    "\n",
    "    return [tensorboard,early_stopping]\n",
    "\n"
   ]
  },
  {
   "cell_type": "code",
   "execution_count": 10,
   "id": "4848e630",
   "metadata": {},
   "outputs": [],
   "source": [
    "def train_model(\n",
    "        model,\n",
    "        x_train,\n",
    "        y_train,\n",
    "        epochs,\n",
    "        batch_size,\n",
    "        validation_split\n",
    "):\n",
    "    history=model.fit(\n",
    "        x_train,\n",
    "        y_train,\n",
    "        epochs=epochs,\n",
    "        batch_size=batch_size,\n",
    "        validation_split=validation_split,\n",
    "        callbacks=get_callbacks()   \n",
    "    )\n",
    "\n",
    "    return model,history\n",
    "\n"
   ]
  },
  {
   "cell_type": "code",
   "execution_count": 11,
   "id": "ed3bd5b0",
   "metadata": {},
   "outputs": [],
   "source": [
    "\n",
    "def evaluate_model(history):\n",
    "    print(history.history[\"accuracy\"])\n",
    "    print(history.history[\"loss\"])\n",
    "    print(history.history[\"val_accuracy\"])\n",
    "    print(history.history[\"val_loss\"])\n",
    "\n"
   ]
  },
  {
   "cell_type": "code",
   "execution_count": 12,
   "id": "6d3cf87c",
   "metadata": {},
   "outputs": [],
   "source": [
    "def save_model_file(\n",
    "        model_file_path,\n",
    "        model\n",
    "):\n",
    "    try:\n",
    "        file_dir=os.path.dirname(model_file_path)\n",
    "        os.makedirs(file_dir,exist_ok=True)\n",
    "        \n",
    "        save_model(\n",
    "            model=model,\n",
    "            filepath=model_file_path\n",
    "        )\n",
    "\n",
    "    except Exception as e:\n",
    "        print(f\"exception occured : {e}\")\n",
    "        "
   ]
  },
  {
   "cell_type": "code",
   "execution_count": 13,
   "id": "28501168",
   "metadata": {},
   "outputs": [],
   "source": [
    "def run_model():\n",
    "    x_train,y_train,x_test,y_test,max_features,sent_max_len=get_transformed_data()\n",
    "\n",
    "    model=construct_model(\n",
    "        max_features=max_features,\n",
    "        sent_max_len=sent_max_len\n",
    "    )\n",
    "\n",
    "    loss=BinaryCrossentropy()\n",
    "    optimizer=Adam(learning_rate=0.005)\n",
    "    metrics=[\"accuracy\"]\n",
    "\n",
    "    model=compile_model(\n",
    "        model=model,\n",
    "        loss=loss,\n",
    "        optimizer=optimizer,\n",
    "        metrics=metrics\n",
    "    )\n",
    "\n",
    "    model,history=train_model(\n",
    "        model=model,\n",
    "        x_train=x_train,\n",
    "        y_train=y_train,\n",
    "        epochs=5,\n",
    "        validation_split=0.2\n",
    "    )\n",
    "\n",
    "    evaluate_model(history=history)\n",
    "\n",
    "    model_file_path=\"/data/model/model.h5\"\n",
    "\n",
    "    save_model_file(\n",
    "        model=model,\n",
    "        model_file_path=model_file_path\n",
    "    )"
   ]
  },
  {
   "cell_type": "code",
   "execution_count": 14,
   "id": "40fd452f",
   "metadata": {},
   "outputs": [
    {
     "name": "stdout",
     "output_type": "stream",
     "text": [
      "sentence maximum length : 2500\n",
      "vocabulary size : 88600\n"
     ]
    }
   ],
   "source": [
    "\n",
    "x_train,y_train,x_test,y_test,max_features,sent_max_len=get_transformed_data()\n",
    "\n",
    "model=construct_model(\n",
    "    max_features=max_features,\n",
    "    sent_max_len=sent_max_len\n",
    ")\n",
    "\n",
    "loss=BinaryCrossentropy()\n",
    "optimizer=Adam(learning_rate=0.005)\n",
    "metrics=[\"accuracy\"]\n",
    "\n",
    "model=compile_model(\n",
    "    model=model,\n",
    "    loss=loss,\n",
    "    optimizer=optimizer,\n",
    "    metrics=metrics\n",
    ")\n"
   ]
  },
  {
   "cell_type": "code",
   "execution_count": 16,
   "id": "d255b5af",
   "metadata": {},
   "outputs": [
    {
     "name": "stdout",
     "output_type": "stream",
     "text": [
      "Epoch 1/5\n",
      "\u001b[1m625/625\u001b[0m \u001b[32m━━━━━━━━━━━━━━━━━━━━\u001b[0m\u001b[37m\u001b[0m \u001b[1m1299s\u001b[0m 2s/step - accuracy: 0.4985 - loss: 8.0840 - val_accuracy: 0.5062 - val_loss: 7.9591\n",
      "Epoch 2/5\n",
      "\u001b[1m625/625\u001b[0m \u001b[32m━━━━━━━━━━━━━━━━━━━━\u001b[0m\u001b[37m\u001b[0m \u001b[1m775s\u001b[0m 1s/step - accuracy: 0.4985 - loss: 8.0840 - val_accuracy: 0.5062 - val_loss: 7.9591\n",
      "Epoch 3/5\n",
      "\u001b[1m625/625\u001b[0m \u001b[32m━━━━━━━━━━━━━━━━━━━━\u001b[0m\u001b[37m\u001b[0m \u001b[1m1773s\u001b[0m 3s/step - accuracy: 0.4985 - loss: 8.0840 - val_accuracy: 0.5062 - val_loss: 7.9591\n",
      "Epoch 4/5\n",
      "\u001b[1m625/625\u001b[0m \u001b[32m━━━━━━━━━━━━━━━━━━━━\u001b[0m\u001b[37m\u001b[0m \u001b[1m1655s\u001b[0m 3s/step - accuracy: 0.4985 - loss: 8.0840 - val_accuracy: 0.5062 - val_loss: 7.9591\n"
     ]
    }
   ],
   "source": [
    "model,history=train_model(\n",
    "    model=model,\n",
    "    x_train=x_train,\n",
    "    y_train=y_train,\n",
    "    epochs=5,\n",
    "    batch_size=32,\n",
    "    validation_split=0.2\n",
    ")"
   ]
  },
  {
   "cell_type": "code",
   "execution_count": 17,
   "id": "ba4b0754",
   "metadata": {},
   "outputs": [
    {
     "name": "stderr",
     "output_type": "stream",
     "text": [
      "WARNING:absl:You are saving your model as an HDF5 file via `model.save()` or `keras.saving.save_model(model)`. This file format is considered legacy. We recommend using instead the native Keras format, e.g. `model.save('my_model.keras')` or `keras.saving.save_model(model, 'my_model.keras')`. \n"
     ]
    }
   ],
   "source": [
    "model_file_path=os.path.join(os.getcwd(),\"data\",\"model\",\"model.h5\")\n",
    "\n",
    "save_model_file(\n",
    "    model=model,\n",
    "    model_file_path=model_file_path\n",
    ")"
   ]
  },
  {
   "cell_type": "code",
   "execution_count": 21,
   "metadata": {},
   "outputs": [
    {
     "name": "stdout",
     "output_type": "stream",
     "text": [
      "The tensorboard extension is already loaded. To reload it, use:\n",
      "  %reload_ext tensorboard\n"
     ]
    },
    {
     "data": {
      "text/plain": [
       "Reusing TensorBoard on port 6006 (pid 2476), started 0:00:02 ago. (Use '!kill 2476' to kill it.)"
      ]
     },
     "metadata": {},
     "output_type": "display_data"
    },
    {
     "data": {
      "text/html": [
       "\n",
       "      <iframe id=\"tensorboard-frame-fcbda0184aa3601b\" width=\"100%\" height=\"800\" frameborder=\"0\">\n",
       "      </iframe>\n",
       "      <script>\n",
       "        (function() {\n",
       "          const frame = document.getElementById(\"tensorboard-frame-fcbda0184aa3601b\");\n",
       "          const url = new URL(\"http://localhost\");\n",
       "          const port = 6006;\n",
       "          if (port) {\n",
       "            url.port = port;\n",
       "          }\n",
       "          frame.src = url;\n",
       "        })();\n",
       "      </script>\n",
       "    "
      ],
      "text/plain": [
       "<IPython.core.display.HTML object>"
      ]
     },
     "metadata": {},
     "output_type": "display_data"
    }
   ],
   "source": [
    "%load_ext tensorboard\n",
    "\n",
    "tensorboard_file_path=\"tensorboard_files/09_08_25__10h_53m_16s\"\n",
    "\n",
    "%tensorboard --logdir {tensorboard_file_path}"
   ]
  },
  {
   "cell_type": "code",
   "execution_count": 24,
   "id": "55725c09",
   "metadata": {},
   "outputs": [
    {
     "name": "stdout",
     "output_type": "stream",
     "text": [
      "\u001b[1m782/782\u001b[0m \u001b[32m━━━━━━━━━━━━━━━━━━━━\u001b[0m\u001b[37m\u001b[0m \u001b[1m370s\u001b[0m 473ms/step\n"
     ]
    }
   ],
   "source": [
    "y_pred=model.predict(x_test)"
   ]
  },
  {
   "cell_type": "code",
   "execution_count": 22,
   "id": "584aef25",
   "metadata": {},
   "outputs": [
    {
     "name": "stdout",
     "output_type": "stream",
     "text": [
      "\u001b[1m782/782\u001b[0m \u001b[32m━━━━━━━━━━━━━━━━━━━━\u001b[0m\u001b[37m\u001b[0m \u001b[1m522s\u001b[0m 668ms/step - accuracy: 0.5000 - loss: 8.0590\n",
      "loss : 8.059041023254395\n",
      "accuracy : 0.5\n"
     ]
    }
   ],
   "source": [
    "loss,accuracy=model.evaluate(x_test,y_test)\n",
    "\n",
    "print(f\"loss : {loss}\")\n",
    "print(f\"accuracy : {accuracy}\")"
   ]
  },
  {
   "cell_type": "code",
   "execution_count": 25,
   "id": "e3c9a3aa",
   "metadata": {},
   "outputs": [
    {
     "name": "stdout",
     "output_type": "stream",
     "text": [
      "Accuracy: 0.5\n"
     ]
    }
   ],
   "source": [
    "from sklearn.metrics import accuracy_score\n",
    "\n",
    "# Convert probabilities to 0 or 1 using a threshold of 0.5\n",
    "y_pred_classes = (y_pred > 0.5).astype(int)\n",
    "\n",
    "accuracy = accuracy_score(y_test, y_pred_classes)\n",
    "print(f\"Accuracy: {accuracy}\")\n",
    "\n"
   ]
  },
  {
   "cell_type": "code",
   "execution_count": null,
   "id": "0b7a705c",
   "metadata": {},
   "outputs": [],
   "source": []
  },
  {
   "cell_type": "code",
   "execution_count": null,
   "id": "5a7f2462",
   "metadata": {},
   "outputs": [],
   "source": []
  },
  {
   "cell_type": "code",
   "execution_count": null,
   "id": "6f0fd7fe",
   "metadata": {},
   "outputs": [],
   "source": []
  },
  {
   "cell_type": "code",
   "execution_count": null,
   "id": "7c06dc89",
   "metadata": {},
   "outputs": [],
   "source": []
  },
  {
   "cell_type": "code",
   "execution_count": null,
   "id": "143d77fe",
   "metadata": {},
   "outputs": [],
   "source": []
  },
  {
   "cell_type": "code",
   "execution_count": null,
   "id": "dd00976d",
   "metadata": {},
   "outputs": [],
   "source": []
  },
  {
   "cell_type": "code",
   "execution_count": null,
   "id": "a1053c4f",
   "metadata": {},
   "outputs": [],
   "source": []
  },
  {
   "cell_type": "code",
   "execution_count": null,
   "id": "f1a4db5a",
   "metadata": {},
   "outputs": [],
   "source": []
  },
  {
   "cell_type": "code",
   "execution_count": null,
   "id": "d8d50ef2",
   "metadata": {},
   "outputs": [],
   "source": []
  },
  {
   "cell_type": "code",
   "execution_count": null,
   "id": "ebc78dfc",
   "metadata": {},
   "outputs": [],
   "source": []
  },
  {
   "cell_type": "code",
   "execution_count": null,
   "id": "b4e115b6",
   "metadata": {},
   "outputs": [],
   "source": []
  },
  {
   "cell_type": "code",
   "execution_count": null,
   "id": "622a822d",
   "metadata": {},
   "outputs": [],
   "source": []
  },
  {
   "cell_type": "code",
   "execution_count": null,
   "id": "d3dfb799",
   "metadata": {},
   "outputs": [],
   "source": []
  },
  {
   "cell_type": "code",
   "execution_count": null,
   "id": "7d84398b",
   "metadata": {},
   "outputs": [],
   "source": []
  },
  {
   "cell_type": "code",
   "execution_count": null,
   "id": "bf627ae3",
   "metadata": {},
   "outputs": [],
   "source": []
  },
  {
   "cell_type": "code",
   "execution_count": null,
   "id": "e00c95b2",
   "metadata": {},
   "outputs": [],
   "source": []
  },
  {
   "cell_type": "code",
   "execution_count": null,
   "id": "2df91c46",
   "metadata": {},
   "outputs": [],
   "source": []
  }
 ],
 "metadata": {
  "kernelspec": {
   "display_name": "ml_dl_venv",
   "language": "python",
   "name": "python3"
  },
  "language_info": {
   "codemirror_mode": {
    "name": "ipython",
    "version": 3
   },
   "file_extension": ".py",
   "mimetype": "text/x-python",
   "name": "python",
   "nbconvert_exporter": "python",
   "pygments_lexer": "ipython3",
   "version": "3.13.2"
  }
 },
 "nbformat": 4,
 "nbformat_minor": 5
}
